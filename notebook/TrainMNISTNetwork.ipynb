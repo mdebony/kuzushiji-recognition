{
 "cells": [
  {
   "cell_type": "code",
   "execution_count": 2,
   "metadata": {},
   "outputs": [],
   "source": [
    "from tensorflow import keras\n",
    "import numpy as np\n",
    "import pandas as pd\n",
    "import random\n",
    "import os\n",
    "\n",
    "dataRep = '../data/'\n",
    "scriptRep = '../kuzushiji_recognition/'\n",
    "\n",
    "# some_file.py\n",
    "import sys\n",
    "# insert at 1, 0 is the script path (or '' in REPL)\n",
    "sys.path.insert(1, scriptRep)\n",
    "import progressBar"
   ]
  },
  {
   "cell_type": "code",
   "execution_count": 7,
   "metadata": {},
   "outputs": [
    {
     "name": "stdout",
     "output_type": "stream",
     "text": [
      "500 (32, 32, 1) 350 425\n"
     ]
    }
   ],
   "source": [
    "testFrac = 0.15\n",
    "valFrac = 0.15\n",
    "\n",
    "unicodeData = pd.read_csv(dataRep+'unicode_translation.csv')\n",
    "\n",
    "raw = np.load('../data/dataset/caracterClassificationFull.npz')\n",
    "image = np.expand_dims(raw['image'], 3).copy()\n",
    "charOutput = raw['characterClass'].copy()\n",
    "del raw\n",
    "\n",
    "index = np.arange(image.shape[0])\n",
    "np.random.shuffle(index)\n",
    "image = image[index]/255.0\n",
    "charOutput = charOutput[index]\n",
    "del index\n",
    "\n",
    "nFrac = int(image.shape[0]*(1.-testFrac))\n",
    "nVal = int(image.shape[0]*(1.-testFrac-valFrac))\n",
    "print(image.shape[0], image.shape[1:], nVal, nFrac)"
   ]
  },
  {
   "cell_type": "code",
   "execution_count": 8,
   "metadata": {},
   "outputs": [],
   "source": [
    "def trainAndEvaluateModel(model, filenameModel, batchSize):\n",
    "    \n",
    "    checkpoint = keras.callbacks.ModelCheckpoint(filepath=filenameModel,\n",
    "                                                 monitor='val_loss',\n",
    "                                                 verbose=0,\n",
    "                                                 save_best_only=True,\n",
    "                                                 mode='auto', period=1)\n",
    "    history = keras.callbacks.History()\n",
    "    reduceLR = keras.callbacks.ReduceLROnPlateau(monitor='val_loss',\n",
    "                                                 factor=0.1, patience=2,\n",
    "                                                 verbose=0,\n",
    "                                                 mode='auto')\n",
    "    earlyStop = keras.callbacks.EarlyStopping(monitor='val_loss',\n",
    "                                              min_delta=1e-7, patience=5,\n",
    "                                              verbose=0, mode='auto')\n",
    "    callbacks = [checkpoint, history, reduceLR, earlyStop]\n",
    "    \n",
    "    model.compile(optimizer='adam', loss='sparse_categorical_crossentropy', metrics=['accuracy'])\n",
    "    model.fit(image[:nVal], charOutput[:nVal], epochs=50, batch_size=batchSize,\n",
    "              validation_data=(image[nVal:nFrac], charOutput[nVal:nFrac]), shuffle=True, callbacks=callbacks)\n",
    "    \n",
    "    model = keras.models.load_model(filenameModel)\n",
    "    test_loss, test_acc = model.evaluate(image[nVal:nFrac], charOutput[nVal:nFrac])\n",
    "    \n",
    "    return test_loss\n",
    "\n",
    "\n",
    "def optimizeHyperParameter(funcCreateModel, filenameModel, dropoutLimit=(0,20), batchSizeLimit=(0,10), convolutionLayerLimit=(2,10), denseLayerLimit=(2,10), maxIter=30):\n",
    "    \n",
    "    i=0\n",
    "    stop=False\n",
    "    curentParam = [6, 5, 4, 8] # (dropout, batchsize, convolution, dense)\n",
    "    testedParam = np.zeros((dropoutLimit[1]+1, batchSizeLimit[1]+1, convolutionLayerLimit[1]+1, denseLayerLimit[1]+1), dtype=np.bool)\n",
    "    \n",
    "    stdLoss = trainAndEvaluateModel(funcCreateModel(curentParam[0]/20., 2**(curentParam[2]), 2**(curentParam[3])), filenameModel, 2**(curentParam[1]))\n",
    "    testedParam[curentParam[0], curentParam[1], curentParam[2], curentParam[3]] = True\n",
    "    \n",
    "    while (i<maxIter) and not stop:\n",
    "        i+=1\n",
    "        stop=True\n",
    "        \n",
    "        if (curentParam[0]-1) >= dropoutLimit[0] and not testedParam[curentParam[0]-1, curentParam[1], curentParam[2], curentParam[3]]:\n",
    "            print(\"Test dropout down\")\n",
    "            testLoss = trainAndEvaluateModel(funcCreateModel(float(curentParam[0]-1)/20., 2**(curentParam[2]), 2**(curentParam[3])),\n",
    "                                             'temp.h5', 2**(curentParam[1]))\n",
    "            testedParam[curentParam[0]-1, curentParam[1], curentParam[2], curentParam[3]] = True\n",
    "            \n",
    "            if testLoss < stdLoss:\n",
    "                stop=False\n",
    "                stdLoss = testLoss\n",
    "                curentParam[0] -= 1\n",
    "                os.system(\"cp temp.h5 \"+filenameModel)\n",
    "                print(\"New param set\", curentParam)\n",
    "            \n",
    "        if (curentParam[0]+1) <= dropoutLimit[1] and not testedParam[curentParam[0]+1, curentParam[1], curentParam[2], curentParam[3]]:\n",
    "            print(\"Test dropout up\")\n",
    "            testLoss = trainAndEvaluateModel(funcCreateModel(float(curentParam[0]+1)/20., 2**(curentParam[2]), 2**(curentParam[3])),\n",
    "                                             'temp.h5', 2**(curentParam[1]))\n",
    "            testedParam[curentParam[0]+1, curentParam[1], curentParam[2], curentParam[3]] = True\n",
    "            \n",
    "            if testLoss < stdLoss:\n",
    "                stop=False\n",
    "                stdLoss = testLoss\n",
    "                curentParam[0] += 1\n",
    "                os.system(\"cp temp.h5 \"+filenameModel)\n",
    "                print(\"New param set\", curentParam)\n",
    "                \n",
    "                \n",
    "        if (curentParam[1]-1) >= batchSizeLimit[0] and not testedParam[curentParam[0], curentParam[1]-1, curentParam[2], curentParam[3]]:\n",
    "            print(\"Test batchsize down\")\n",
    "            testLoss = trainAndEvaluateModel(funcCreateModel(curentParam[0]/20., 2**(curentParam[2]), 2**(curentParam[3])),\n",
    "                                             'temp.h5', 2**(curentParam[1]-1))\n",
    "            testedParam[curentParam[0], curentParam[1]-1, curentParam[2], curentParam[3]] = True\n",
    "            \n",
    "            if testLoss < stdLoss:\n",
    "                stop=False\n",
    "                stdLoss = testLoss\n",
    "                curentParam[1] -= 1\n",
    "                os.system(\"cp temp.h5 \"+filenameModel)\n",
    "                print(\"New param set\", curentParam)\n",
    "            \n",
    "        if (curentParam[1]+1) <= batchSizeLimit[1] and not testedParam[curentParam[0], curentParam[1]+1, curentParam[2], curentParam[3]]:\n",
    "            print(\"Test batchsize up\")\n",
    "            testLoss = trainAndEvaluateModel(funcCreateModel(curentParam[0]/20., 2**(curentParam[2]), 2**(curentParam[3])),\n",
    "                                             'temp.h5', 2**(curentParam[1]+1))\n",
    "            testedParam[curentParam[0], curentParam[1]+1, curentParam[2], curentParam[3]] = True\n",
    "            \n",
    "            if testLoss < stdLoss:\n",
    "                stop=False\n",
    "                stdLoss = testLoss\n",
    "                curentParam[1] += 1\n",
    "                os.system(\"cp temp.h5 \"+filenameModel)\n",
    "                print(\"New param set\", curentParam)\n",
    "                \n",
    "        if (curentParam[2]-1) >= convolutionLayerLimit[0] and not testedParam[curentParam[0], curentParam[1], curentParam[2]-1, curentParam[3]]:\n",
    "            print(\"Test convolution down\")\n",
    "            testLoss = trainAndEvaluateModel(funcCreateModel(curentParam[0]/20., 2**(curentParam[2]-1), 2**(curentParam[3])),\n",
    "                                             'temp.h5', 2**(curentParam[1]))\n",
    "            testedParam[curentParam[0], curentParam[1], curentParam[2]-1, curentParam[3]] = True\n",
    "            \n",
    "            if testLoss < stdLoss:\n",
    "                stop=False\n",
    "                stdLoss = testLoss\n",
    "                curentParam[2] -= 1\n",
    "                os.system(\"cp temp.h5 \"+filenameModel)\n",
    "                print(\"New param set\", curentParam)\n",
    "            \n",
    "        if (curentParam[2]+1) <= convolutionLayerLimit[1] and not testedParam[curentParam[0]-1, curentParam[1], curentParam[2]+1, curentParam[3]]:\n",
    "            print(\"Test convolution up\")\n",
    "            testLoss = trainAndEvaluateModel(funcCreateModel(curentParam[0]/20., 2**(curentParam[2]+1), 2**(curentParam[3])),\n",
    "                                             'temp.h5', 2**(curentParam[1]))\n",
    "            testedParam[curentParam[0]-1, curentParam[1], curentParam[2]+1, curentParam[3]] = True\n",
    "            \n",
    "            if testLoss < stdLoss:\n",
    "                stop=False\n",
    "                stdLoss = testLoss\n",
    "                curentParam[2] += 1\n",
    "                os.system(\"cp temp.h5 \"+filenameModel)\n",
    "                print(\"New param set\", curentParam)\n",
    "                \n",
    "        if (curentParam[3]-1) >= denseLayerLimit[0] and not testedParam[curentParam[0]-1, curentParam[1], curentParam[2], curentParam[3]-1]:\n",
    "            print(\"Test dense down\")\n",
    "            testLoss = trainAndEvaluateModel(funcCreateModel(curentParam[0]/20., 2**(curentParam[2]), 2**(curentParam[3]-1)),\n",
    "                                             'temp.h5', 2**(curentParam[1]))\n",
    "            testedParam[curentParam[0]-1, curentParam[1], curentParam[2], curentParam[3]-1] = True\n",
    "            \n",
    "            if testLoss < stdLoss:\n",
    "                stop=False\n",
    "                stdLoss = testLoss\n",
    "                curentParam[3] -= 1\n",
    "                os.system(\"cp temp.h5 \"+filenameModel)\n",
    "                print(\"New param set\", curentParam)\n",
    "            \n",
    "        if (curentParam[3]+1) <= denseLayerLimit[1] and not testedParam[curentParam[0]-1, curentParam[1], curentParam[2], curentParam[3]+1]:\n",
    "            print(\"Test dense up\")\n",
    "            testLoss = trainAndEvaluateModel(funcCreateModel(curentParam[0]/20., 2**(curentParam[2]), 2**(curentParam[3]+1)),\n",
    "                                             'temp.h5', 2**(curentParam[1]))\n",
    "            testedParam[curentParam[0]-1, curentParam[1], curentParam[2], curentParam[3]+1] = True\n",
    "            \n",
    "            if testLoss < stdLoss:\n",
    "                stop=False\n",
    "                stdLoss = testLoss\n",
    "                curentParam[3] += 1\n",
    "                os.system(\"cp temp.h5 \"+filenameModel)\n",
    "                print(\"New param set\", curentParam)\n",
    "                \n",
    "    print('Dropout :', curentParam[0])\n",
    "    print('Batch Size :', 2**curentParam[1])\n",
    "    print('Convolutional layer :', 2**curentParam[2])\n",
    "    print('Dense Layer :', 2**curentParam[3])\n",
    "    os.system(\"rm temp.h5\")\n",
    "    \n",
    "    print(\"Nb iteration\", i, \"/\", maxIter)\n",
    "    print(\"Nb case tested\", np.sum(testedParam), \"/\", np.sum(np.ones(testedParam.shape, dtype=np.bool)))\n",
    "        \n",
    "def createModel1(dropoutRate, convLayer, denseLayer):\n",
    "    \n",
    "    model = keras.models.Sequential()\n",
    "    model.add(keras.layers.Conv2D(convLayer, (3, 3), activation='relu', input_shape=image.shape[1:]))\n",
    "    model.add(keras.layers.SpatialDropout2D(dropoutRate))\n",
    "    model.add(keras.layers.Conv2D(convLayer, (3, 3), activation='relu'))\n",
    "    model.add(keras.layers.SpatialDropout2D(dropoutRate))\n",
    "    model.add(keras.layers.MaxPooling2D((2, 2)))\n",
    "    model.add(keras.layers.Conv2D(convLayer*2, (3, 3), activation='relu'))\n",
    "    model.add(keras.layers.SpatialDropout2D(dropoutRate))\n",
    "    model.add(keras.layers.Conv2D(convLayer*2, (3, 3), activation='relu'))\n",
    "    model.add(keras.layers.SpatialDropout2D(dropoutRate))\n",
    "    model.add(keras.layers.Flatten())\n",
    "    model.add(keras.layers.Dense(denseLayer, activation='relu'))\n",
    "    model.add(keras.layers.Dropout(dropoutRate))\n",
    "    model.add(keras.layers.Dense(len(unicodeData), activation='softmax'))\n",
    "    \n",
    "    return model\n",
    "    "
   ]
  },
  {
   "cell_type": "code",
   "execution_count": 9,
   "metadata": {},
   "outputs": [
    {
     "name": "stderr",
     "output_type": "stream",
     "text": [
      "W0904 13:43:56.290018 140075983804224 callbacks.py:875] `period` argument is deprecated. Please use `save_freq` to specify the frequency in number of samples seen.\n"
     ]
    },
    {
     "name": "stdout",
     "output_type": "stream",
     "text": [
      "Train on 350 samples, validate on 75 samples\n",
      "Epoch 1/50\n",
      "350/350 [==============================] - 2s 6ms/sample - loss: 8.0867 - acc: 0.0171 - val_loss: 6.1912 - val_acc: 0.0533\n",
      "Epoch 2/50\n",
      "350/350 [==============================] - 0s 1ms/sample - loss: 5.9530 - acc: 0.0257 - val_loss: 5.9086 - val_acc: 0.0133\n",
      "Epoch 3/50\n",
      "350/350 [==============================] - 0s 1ms/sample - loss: 5.2154 - acc: 0.0200 - val_loss: 5.8171 - val_acc: 0.0533\n",
      "Epoch 4/50\n",
      "350/350 [==============================] - 0s 1ms/sample - loss: 4.9712 - acc: 0.0286 - val_loss: 5.6959 - val_acc: 0.0133\n",
      "Epoch 5/50\n",
      "350/350 [==============================] - 0s 857us/sample - loss: 4.7841 - acc: 0.0371 - val_loss: 5.7446 - val_acc: 0.0533\n",
      "Epoch 6/50\n",
      "350/350 [==============================] - 0s 1ms/sample - loss: 4.7696 - acc: 0.0314 - val_loss: 5.7801 - val_acc: 0.0533\n",
      "Epoch 7/50\n",
      "350/350 [==============================] - 1s 3ms/sample - loss: 4.7084 - acc: 0.0314 - val_loss: 5.7772 - val_acc: 0.0533\n",
      "Epoch 8/50\n",
      "350/350 [==============================] - 1s 4ms/sample - loss: 4.6752 - acc: 0.0343 - val_loss: 5.7844 - val_acc: 0.0533\n",
      "Epoch 9/50\n",
      "350/350 [==============================] - 1s 3ms/sample - loss: 4.6600 - acc: 0.0371 - val_loss: 5.7848 - val_acc: 0.0533\n"
     ]
    },
    {
     "name": "stderr",
     "output_type": "stream",
     "text": [
      "W0904 13:44:04.486896 140075983804224 deprecation.py:506] From /home/mathieu/miniconda3/envs/mlearning/lib/python3.7/site-packages/tensorflow/python/ops/init_ops.py:97: calling GlorotUniform.__init__ (from tensorflow.python.ops.init_ops) with dtype is deprecated and will be removed in a future version.\n",
      "Instructions for updating:\n",
      "Call initializer instance with the dtype argument instead of passing it to the constructor\n",
      "W0904 13:44:04.489238 140075983804224 deprecation.py:506] From /home/mathieu/miniconda3/envs/mlearning/lib/python3.7/site-packages/tensorflow/python/ops/init_ops.py:97: calling Zeros.__init__ (from tensorflow.python.ops.init_ops) with dtype is deprecated and will be removed in a future version.\n",
      "Instructions for updating:\n",
      "Call initializer instance with the dtype argument instead of passing it to the constructor\n"
     ]
    },
    {
     "name": "stdout",
     "output_type": "stream",
     "text": [
      "75/75 [==============================] - 0s 2ms/sample - loss: 5.6959 - acc: 0.0133\n",
      "Test dropout down\n"
     ]
    },
    {
     "name": "stderr",
     "output_type": "stream",
     "text": [
      "W0904 13:44:05.984537 140075983804224 callbacks.py:875] `period` argument is deprecated. Please use `save_freq` to specify the frequency in number of samples seen.\n"
     ]
    },
    {
     "name": "stdout",
     "output_type": "stream",
     "text": [
      "Train on 350 samples, validate on 75 samples\n",
      "Epoch 1/50\n",
      "350/350 [==============================] - 1s 4ms/sample - loss: 7.8470 - acc: 0.0086 - val_loss: 6.1835 - val_acc: 0.0133\n",
      "Epoch 2/50\n",
      "350/350 [==============================] - 0s 930us/sample - loss: 5.7254 - acc: 0.0114 - val_loss: 5.7838 - val_acc: 0.0267\n",
      "Epoch 3/50\n",
      "350/350 [==============================] - 0s 910us/sample - loss: 5.0790 - acc: 0.0257 - val_loss: 5.9740 - val_acc: 0.0667\n",
      "Epoch 4/50\n",
      "350/350 [==============================] - 1s 3ms/sample - loss: 4.8696 - acc: 0.0486 - val_loss: 5.7975 - val_acc: 0.0533\n",
      "Epoch 5/50\n",
      "350/350 [==============================] - 0s 837us/sample - loss: 4.6909 - acc: 0.0514 - val_loss: 5.7862 - val_acc: 0.0533\n",
      "Epoch 6/50\n",
      "350/350 [==============================] - 1s 3ms/sample - loss: 4.6758 - acc: 0.0486 - val_loss: 5.7729 - val_acc: 0.0533\n",
      "Epoch 7/50\n",
      "350/350 [==============================] - 1s 4ms/sample - loss: 4.7115 - acc: 0.0514 - val_loss: 5.7688 - val_acc: 0.0667\n",
      "Epoch 8/50\n",
      "350/350 [==============================] - 1s 3ms/sample - loss: 4.6952 - acc: 0.0514 - val_loss: 5.7725 - val_acc: 0.0133\n",
      "Epoch 9/50\n",
      "350/350 [==============================] - 1s 4ms/sample - loss: 4.6587 - acc: 0.0429 - val_loss: 5.7762 - val_acc: 0.0133\n",
      "Epoch 10/50\n",
      "350/350 [==============================] - 1s 4ms/sample - loss: 4.6862 - acc: 0.0543 - val_loss: 5.7750 - val_acc: 0.0133\n",
      "Epoch 11/50\n",
      "350/350 [==============================] - 1s 3ms/sample - loss: 4.6389 - acc: 0.0429 - val_loss: 5.7744 - val_acc: 0.0133\n",
      "Epoch 12/50\n",
      "350/350 [==============================] - 1s 3ms/sample - loss: 4.6659 - acc: 0.0429 - val_loss: 5.7744 - val_acc: 0.0133\n",
      "75/75 [==============================] - 0s 2ms/sample - loss: 5.7688 - acc: 0.0667\n"
     ]
    },
    {
     "name": "stderr",
     "output_type": "stream",
     "text": [
      "W0904 13:44:20.007410 140075983804224 callbacks.py:875] `period` argument is deprecated. Please use `save_freq` to specify the frequency in number of samples seen.\n"
     ]
    },
    {
     "name": "stdout",
     "output_type": "stream",
     "text": [
      "Test dropout up\n",
      "Train on 350 samples, validate on 75 samples\n",
      "Epoch 1/50\n",
      "350/350 [==============================] - 2s 4ms/sample - loss: 8.0623 - acc: 0.0314 - val_loss: 6.4291 - val_acc: 0.0133\n",
      "Epoch 2/50\n",
      "350/350 [==============================] - 0s 824us/sample - loss: 6.0206 - acc: 0.0171 - val_loss: 6.4328 - val_acc: 0.0400\n",
      "Epoch 3/50\n",
      "350/350 [==============================] - 0s 1ms/sample - loss: 5.3493 - acc: 0.0371 - val_loss: 6.2290 - val_acc: 0.0533\n",
      "Epoch 4/50\n",
      "350/350 [==============================] - 1s 4ms/sample - loss: 4.9971 - acc: 0.0429 - val_loss: 5.7888 - val_acc: 0.0533\n",
      "Epoch 5/50\n",
      "350/350 [==============================] - 0s 811us/sample - loss: 4.8532 - acc: 0.0429 - val_loss: 5.9104 - val_acc: 0.0133\n",
      "Epoch 6/50\n",
      "350/350 [==============================] - 1s 3ms/sample - loss: 4.8271 - acc: 0.0286 - val_loss: 5.9207 - val_acc: 0.0533\n",
      "Epoch 7/50\n",
      "350/350 [==============================] - 0s 821us/sample - loss: 4.7300 - acc: 0.0229 - val_loss: 5.9118 - val_acc: 0.0533\n",
      "Epoch 8/50\n",
      "350/350 [==============================] - 1s 2ms/sample - loss: 4.7769 - acc: 0.0429 - val_loss: 5.8439 - val_acc: 0.0533\n",
      "Epoch 9/50\n",
      "350/350 [==============================] - 1s 3ms/sample - loss: 4.7449 - acc: 0.0343 - val_loss: 5.8408 - val_acc: 0.0533\n",
      "75/75 [==============================] - 0s 3ms/sample - loss: 5.7888 - acc: 0.0533\n"
     ]
    },
    {
     "name": "stderr",
     "output_type": "stream",
     "text": [
      "W0904 13:44:30.079254 140075983804224 callbacks.py:875] `period` argument is deprecated. Please use `save_freq` to specify the frequency in number of samples seen.\n"
     ]
    },
    {
     "name": "stdout",
     "output_type": "stream",
     "text": [
      "Test batchsize down\n",
      "Train on 350 samples, validate on 75 samples\n",
      "Epoch 1/50\n",
      "350/350 [==============================] - 2s 5ms/sample - loss: 7.6742 - acc: 0.0343 - val_loss: 6.6505 - val_acc: 0.0133\n",
      "Epoch 2/50\n",
      "350/350 [==============================] - 0s 1ms/sample - loss: 5.7177 - acc: 0.0343 - val_loss: 5.7935 - val_acc: 0.0133\n",
      "Epoch 3/50\n",
      "350/350 [==============================] - 0s 1ms/sample - loss: 5.1278 - acc: 0.0429 - val_loss: 5.9048 - val_acc: 0.0133\n",
      "Epoch 4/50\n",
      "350/350 [==============================] - 1s 2ms/sample - loss: 4.9259 - acc: 0.0457 - val_loss: 5.8384 - val_acc: 0.0133\n",
      "Epoch 5/50\n",
      "350/350 [==============================] - 0s 1ms/sample - loss: 4.7471 - acc: 0.0314 - val_loss: 5.7306 - val_acc: 0.0133\n",
      "Epoch 6/50\n",
      "350/350 [==============================] - 0s 1ms/sample - loss: 4.7108 - acc: 0.0343 - val_loss: 5.7116 - val_acc: 0.0133\n",
      "Epoch 7/50\n",
      "350/350 [==============================] - 0s 1ms/sample - loss: 4.7674 - acc: 0.0286 - val_loss: 5.7121 - val_acc: 0.0133\n",
      "Epoch 8/50\n",
      "350/350 [==============================] - 2s 5ms/sample - loss: 4.7145 - acc: 0.0457 - val_loss: 5.7113 - val_acc: 0.0533\n",
      "Epoch 9/50\n",
      "350/350 [==============================] - 0s 1ms/sample - loss: 4.6964 - acc: 0.0429 - val_loss: 5.7161 - val_acc: 0.0533\n",
      "Epoch 10/50\n",
      "350/350 [==============================] - 1s 3ms/sample - loss: 4.7004 - acc: 0.0486 - val_loss: 5.7224 - val_acc: 0.0533\n",
      "Epoch 11/50\n",
      "350/350 [==============================] - 2s 5ms/sample - loss: 4.7394 - acc: 0.0571 - val_loss: 5.7228 - val_acc: 0.0533\n",
      "Epoch 12/50\n",
      "350/350 [==============================] - 2s 6ms/sample - loss: 4.7180 - acc: 0.0457 - val_loss: 5.7233 - val_acc: 0.0533\n",
      "Epoch 13/50\n",
      "350/350 [==============================] - 2s 5ms/sample - loss: 4.7277 - acc: 0.0343 - val_loss: 5.7231 - val_acc: 0.0533\n",
      "75/75 [==============================] - 0s 3ms/sample - loss: 5.7113 - acc: 0.0533\n"
     ]
    },
    {
     "name": "stderr",
     "output_type": "stream",
     "text": [
      "W0904 13:44:46.648106 140075983804224 callbacks.py:875] `period` argument is deprecated. Please use `save_freq` to specify the frequency in number of samples seen.\n"
     ]
    },
    {
     "name": "stdout",
     "output_type": "stream",
     "text": [
      "Test batchsize up\n",
      "Train on 350 samples, validate on 75 samples\n",
      "Epoch 1/50\n",
      "350/350 [==============================] - 2s 5ms/sample - loss: 8.3724 - acc: 0.0257 - val_loss: 7.7879 - val_acc: 0.0133\n",
      "Epoch 2/50\n",
      "350/350 [==============================] - 0s 1ms/sample - loss: 6.5903 - acc: 0.0400 - val_loss: 5.9877 - val_acc: 0.0533\n",
      "Epoch 3/50\n",
      "350/350 [==============================] - 1s 3ms/sample - loss: 5.6235 - acc: 0.0314 - val_loss: 5.8656 - val_acc: 0.0267\n",
      "Epoch 4/50\n",
      "350/350 [==============================] - 0s 929us/sample - loss: 5.1531 - acc: 0.0171 - val_loss: 5.8396 - val_acc: 0.0133\n",
      "Epoch 5/50\n",
      "350/350 [==============================] - 1s 2ms/sample - loss: 5.0128 - acc: 0.0343 - val_loss: 5.8931 - val_acc: 0.0533\n",
      "Epoch 6/50\n",
      "350/350 [==============================] - 1s 3ms/sample - loss: 4.8767 - acc: 0.0457 - val_loss: 5.8595 - val_acc: 0.0533\n",
      "Epoch 7/50\n",
      "350/350 [==============================] - 0s 651us/sample - loss: 4.8044 - acc: 0.0429 - val_loss: 5.8526 - val_acc: 0.0533\n",
      "Epoch 8/50\n",
      "350/350 [==============================] - 0s 719us/sample - loss: 4.7673 - acc: 0.0400 - val_loss: 5.8469 - val_acc: 0.0533\n",
      "Epoch 9/50\n",
      "350/350 [==============================] - 1s 2ms/sample - loss: 4.7269 - acc: 0.0457 - val_loss: 5.8469 - val_acc: 0.0533\n",
      "75/75 [==============================] - 0s 3ms/sample - loss: 5.8396 - acc: 0.0133\n"
     ]
    },
    {
     "name": "stderr",
     "output_type": "stream",
     "text": [
      "W0904 13:44:56.669436 140075983804224 callbacks.py:875] `period` argument is deprecated. Please use `save_freq` to specify the frequency in number of samples seen.\n"
     ]
    },
    {
     "name": "stdout",
     "output_type": "stream",
     "text": [
      "Test convolution down\n",
      "Train on 350 samples, validate on 75 samples\n",
      "Epoch 1/50\n",
      "350/350 [==============================] - 2s 6ms/sample - loss: 8.4258 - acc: 0.0114 - val_loss: 8.2997 - val_acc: 0.0133\n",
      "Epoch 2/50\n",
      "350/350 [==============================] - 1s 3ms/sample - loss: 6.9873 - acc: 0.0457 - val_loss: 5.6689 - val_acc: 0.0533\n",
      "Epoch 3/50\n",
      "350/350 [==============================] - 0s 756us/sample - loss: 5.5339 - acc: 0.0229 - val_loss: 6.0332 - val_acc: 0.0133\n",
      "Epoch 4/50\n",
      "350/350 [==============================] - 1s 2ms/sample - loss: 5.0133 - acc: 0.0257 - val_loss: 5.9668 - val_acc: 0.0533\n",
      "Epoch 5/50\n",
      "350/350 [==============================] - 0s 622us/sample - loss: 4.7890 - acc: 0.0371 - val_loss: 5.9196 - val_acc: 0.0533\n",
      "Epoch 6/50\n",
      "350/350 [==============================] - 0s 633us/sample - loss: 4.7745 - acc: 0.0514 - val_loss: 5.8611 - val_acc: 0.0533\n",
      "Epoch 7/50\n",
      "350/350 [==============================] - 0s 611us/sample - loss: 4.7930 - acc: 0.0343 - val_loss: 5.8569 - val_acc: 0.0533\n",
      "75/75 [==============================] - 0s 3ms/sample - loss: 5.6689 - acc: 0.0533\n",
      "New param set [6, 5, 3, 8]\n",
      "Test dense down\n"
     ]
    },
    {
     "name": "stderr",
     "output_type": "stream",
     "text": [
      "W0904 13:45:05.434254 140075983804224 callbacks.py:875] `period` argument is deprecated. Please use `save_freq` to specify the frequency in number of samples seen.\n"
     ]
    },
    {
     "name": "stdout",
     "output_type": "stream",
     "text": [
      "Train on 350 samples, validate on 75 samples\n",
      "Epoch 1/50\n",
      "350/350 [==============================] - 2s 7ms/sample - loss: 8.3411 - acc: 0.0200 - val_loss: 7.8990 - val_acc: 0.0133\n",
      "Epoch 2/50\n",
      "350/350 [==============================] - 0s 1ms/sample - loss: 6.9410 - acc: 0.0371 - val_loss: 5.6714 - val_acc: 0.0533\n",
      "Epoch 3/50\n",
      "350/350 [==============================] - 0s 1ms/sample - loss: 5.8399 - acc: 0.0514 - val_loss: 5.9868 - val_acc: 0.0533\n",
      "Epoch 4/50\n",
      "350/350 [==============================] - 1s 2ms/sample - loss: 5.2081 - acc: 0.0229 - val_loss: 5.8408 - val_acc: 0.0533\n",
      "Epoch 5/50\n",
      "350/350 [==============================] - 0s 478us/sample - loss: 5.0081 - acc: 0.0314 - val_loss: 5.8504 - val_acc: 0.0533\n",
      "Epoch 6/50\n",
      "350/350 [==============================] - 0s 508us/sample - loss: 4.9181 - acc: 0.0314 - val_loss: 5.8000 - val_acc: 0.0533\n",
      "Epoch 7/50\n",
      "350/350 [==============================] - 0s 563us/sample - loss: 4.9317 - acc: 0.0429 - val_loss: 5.7952 - val_acc: 0.0533\n",
      "75/75 [==============================] - 0s 3ms/sample - loss: 5.6714 - acc: 0.0533\n",
      "Test dense up\n"
     ]
    },
    {
     "name": "stderr",
     "output_type": "stream",
     "text": [
      "W0904 13:45:14.625258 140075983804224 callbacks.py:875] `period` argument is deprecated. Please use `save_freq` to specify the frequency in number of samples seen.\n"
     ]
    },
    {
     "name": "stdout",
     "output_type": "stream",
     "text": [
      "Train on 350 samples, validate on 75 samples\n",
      "Epoch 1/50\n",
      "350/350 [==============================] - 3s 8ms/sample - loss: 8.1265 - acc: 0.0286 - val_loss: 6.3518 - val_acc: 0.0533\n",
      "Epoch 2/50\n",
      "350/350 [==============================] - 0s 878us/sample - loss: 6.2562 - acc: 0.0314 - val_loss: 5.7814 - val_acc: 0.0133\n",
      "Epoch 3/50\n",
      "350/350 [==============================] - 0s 1ms/sample - loss: 5.2455 - acc: 0.0457 - val_loss: 5.6492 - val_acc: 0.0267\n",
      "Epoch 4/50\n",
      "350/350 [==============================] - 1s 3ms/sample - loss: 4.9434 - acc: 0.0457 - val_loss: 5.7111 - val_acc: 0.0267\n",
      "Epoch 5/50\n",
      "350/350 [==============================] - 1s 4ms/sample - loss: 4.8485 - acc: 0.0400 - val_loss: 5.8262 - val_acc: 0.0133\n",
      "Epoch 6/50\n",
      "350/350 [==============================] - 0s 945us/sample - loss: 4.6864 - acc: 0.0286 - val_loss: 5.8445 - val_acc: 0.0133\n",
      "Epoch 7/50\n",
      "350/350 [==============================] - 0s 732us/sample - loss: 4.6591 - acc: 0.0429 - val_loss: 5.8552 - val_acc: 0.0267\n",
      "Epoch 8/50\n",
      "350/350 [==============================] - 0s 795us/sample - loss: 4.6899 - acc: 0.0314 - val_loss: 5.8558 - val_acc: 0.0400\n",
      "75/75 [==============================] - 0s 3ms/sample - loss: 5.6492 - acc: 0.0267\n",
      "New param set [6, 5, 3, 9]\n",
      "Test dropout up\n"
     ]
    },
    {
     "name": "stderr",
     "output_type": "stream",
     "text": [
      "W0904 13:45:26.938864 140075983804224 callbacks.py:875] `period` argument is deprecated. Please use `save_freq` to specify the frequency in number of samples seen.\n"
     ]
    },
    {
     "name": "stdout",
     "output_type": "stream",
     "text": [
      "Train on 350 samples, validate on 75 samples\n",
      "Epoch 1/50\n",
      "350/350 [==============================] - 3s 9ms/sample - loss: 8.0576 - acc: 0.0343 - val_loss: 6.5611 - val_acc: 0.0533\n",
      "Epoch 2/50\n",
      "350/350 [==============================] - 1s 4ms/sample - loss: 6.4213 - acc: 0.0286 - val_loss: 5.9323 - val_acc: 0.0400\n",
      "Epoch 3/50\n",
      "350/350 [==============================] - 1s 4ms/sample - loss: 5.5571 - acc: 0.0314 - val_loss: 5.7237 - val_acc: 0.0533\n",
      "Epoch 4/50\n",
      "350/350 [==============================] - 1s 4ms/sample - loss: 5.1717 - acc: 0.0400 - val_loss: 5.8203 - val_acc: 0.0267\n",
      "Epoch 5/50\n",
      "350/350 [==============================] - 2s 5ms/sample - loss: 4.8698 - acc: 0.0257 - val_loss: 5.7913 - val_acc: 0.0533\n",
      "Epoch 6/50\n",
      "350/350 [==============================] - 0s 744us/sample - loss: 4.7747 - acc: 0.0257 - val_loss: 5.7928 - val_acc: 0.0533\n",
      "Epoch 7/50\n",
      "350/350 [==============================] - 0s 822us/sample - loss: 4.7335 - acc: 0.0343 - val_loss: 5.7958 - val_acc: 0.0533\n",
      "Epoch 8/50\n",
      "350/350 [==============================] - 1s 3ms/sample - loss: 4.7767 - acc: 0.0543 - val_loss: 5.7960 - val_acc: 0.0533\n",
      "75/75 [==============================] - 0s 4ms/sample - loss: 5.7237 - acc: 0.0533\n"
     ]
    },
    {
     "name": "stderr",
     "output_type": "stream",
     "text": [
      "W0904 13:45:42.944239 140075983804224 callbacks.py:875] `period` argument is deprecated. Please use `save_freq` to specify the frequency in number of samples seen.\n"
     ]
    },
    {
     "name": "stdout",
     "output_type": "stream",
     "text": [
      "Test batchsize down\n",
      "Train on 350 samples, validate on 75 samples\n",
      "Epoch 1/50\n",
      "350/350 [==============================] - 4s 10ms/sample - loss: 7.8036 - acc: 0.0200 - val_loss: 6.0201 - val_acc: 0.0533\n",
      "Epoch 2/50\n",
      "350/350 [==============================] - 2s 6ms/sample - loss: 5.7888 - acc: 0.0257 - val_loss: 5.8728 - val_acc: 0.0133\n",
      "Epoch 3/50\n",
      "350/350 [==============================] - 2s 6ms/sample - loss: 5.0812 - acc: 0.0371 - val_loss: 5.6450 - val_acc: 0.0533\n",
      "Epoch 4/50\n",
      "350/350 [==============================] - 1s 2ms/sample - loss: 4.8707 - acc: 0.0343 - val_loss: 5.6605 - val_acc: 0.0533\n",
      "Epoch 5/50\n",
      "350/350 [==============================] - 3s 9ms/sample - loss: 4.7729 - acc: 0.0457 - val_loss: 5.7799 - val_acc: 0.0533\n",
      "Epoch 6/50\n",
      "350/350 [==============================] - 1s 1ms/sample - loss: 4.7100 - acc: 0.0343 - val_loss: 5.7872 - val_acc: 0.0533\n",
      "Epoch 7/50\n",
      "350/350 [==============================] - 0s 1ms/sample - loss: 4.7019 - acc: 0.0543 - val_loss: 5.8186 - val_acc: 0.0533\n",
      "Epoch 8/50\n",
      "350/350 [==============================] - 1s 2ms/sample - loss: 4.6662 - acc: 0.0571 - val_loss: 5.8211 - val_acc: 0.0533\n",
      "75/75 [==============================] - 0s 4ms/sample - loss: 5.6450 - acc: 0.0533\n",
      "New param set [6, 4, 3, 9]\n",
      "Test batchsize up\n"
     ]
    },
    {
     "name": "stderr",
     "output_type": "stream",
     "text": [
      "W0904 13:46:02.527912 140075983804224 callbacks.py:875] `period` argument is deprecated. Please use `save_freq` to specify the frequency in number of samples seen.\n"
     ]
    },
    {
     "name": "stdout",
     "output_type": "stream",
     "text": [
      "Train on 350 samples, validate on 75 samples\n",
      "Epoch 1/50\n",
      "350/350 [==============================] - 3s 10ms/sample - loss: 8.0497 - acc: 0.0114 - val_loss: 6.3254 - val_acc: 0.0533\n",
      "Epoch 2/50\n",
      "350/350 [==============================] - 0s 1ms/sample - loss: 6.0169 - acc: 0.0400 - val_loss: 6.2021 - val_acc: 0.0133\n",
      "Epoch 3/50\n",
      "350/350 [==============================] - 2s 4ms/sample - loss: 5.3636 - acc: 0.0200 - val_loss: 5.8112 - val_acc: 0.0133\n",
      "Epoch 4/50\n",
      "350/350 [==============================] - 0s 1ms/sample - loss: 4.9831 - acc: 0.0314 - val_loss: 5.8225 - val_acc: 0.0133\n",
      "Epoch 5/50\n",
      "350/350 [==============================] - 2s 4ms/sample - loss: 4.8154 - acc: 0.0314 - val_loss: 5.8390 - val_acc: 0.0533\n",
      "Epoch 6/50\n",
      "350/350 [==============================] - 0s 761us/sample - loss: 4.7506 - acc: 0.0400 - val_loss: 5.8383 - val_acc: 0.0533\n",
      "Epoch 7/50\n",
      "350/350 [==============================] - 0s 982us/sample - loss: 4.7687 - acc: 0.0486 - val_loss: 5.8344 - val_acc: 0.0533\n",
      "Epoch 8/50\n",
      "350/350 [==============================] - 0s 789us/sample - loss: 4.6951 - acc: 0.0514 - val_loss: 5.8344 - val_acc: 0.0533\n",
      "75/75 [==============================] - 0s 4ms/sample - loss: 5.8112 - acc: 0.0133\n"
     ]
    },
    {
     "name": "stderr",
     "output_type": "stream",
     "text": [
      "W0904 13:46:17.083551 140075983804224 callbacks.py:875] `period` argument is deprecated. Please use `save_freq` to specify the frequency in number of samples seen.\n"
     ]
    },
    {
     "name": "stdout",
     "output_type": "stream",
     "text": [
      "Test convolution down\n",
      "Train on 350 samples, validate on 75 samples\n",
      "Epoch 1/50\n",
      "350/350 [==============================] - 5s 14ms/sample - loss: 8.1738 - acc: 0.0229 - val_loss: 6.8719 - val_acc: 0.0533\n",
      "Epoch 2/50\n",
      "350/350 [==============================] - 1s 1ms/sample - loss: 6.1993 - acc: 0.0429 - val_loss: 5.8332 - val_acc: 0.0267\n",
      "Epoch 3/50\n",
      "350/350 [==============================] - 1s 2ms/sample - loss: 5.1985 - acc: 0.0257 - val_loss: 5.6212 - val_acc: 0.0133\n",
      "Epoch 4/50\n",
      "350/350 [==============================] - 1s 3ms/sample - loss: 4.8424 - acc: 0.0657 - val_loss: 5.7145 - val_acc: 0.0533\n",
      "Epoch 5/50\n",
      "350/350 [==============================] - 1s 4ms/sample - loss: 4.8275 - acc: 0.0571 - val_loss: 5.7620 - val_acc: 0.0533\n",
      "Epoch 6/50\n",
      "350/350 [==============================] - 1s 2ms/sample - loss: 4.7404 - acc: 0.0514 - val_loss: 5.8065 - val_acc: 0.0533\n",
      "Epoch 7/50\n",
      "350/350 [==============================] - 1s 3ms/sample - loss: 4.6990 - acc: 0.0371 - val_loss: 5.8634 - val_acc: 0.0533\n",
      "Epoch 8/50\n",
      "350/350 [==============================] - 1s 3ms/sample - loss: 4.6662 - acc: 0.0600 - val_loss: 5.8680 - val_acc: 0.0533\n",
      "75/75 [==============================] - 0s 5ms/sample - loss: 5.6212 - acc: 0.0133\n",
      "New param set [6, 4, 2, 9]\n",
      "Test convolution up\n"
     ]
    },
    {
     "name": "stderr",
     "output_type": "stream",
     "text": [
      "W0904 13:46:35.941417 140075983804224 callbacks.py:875] `period` argument is deprecated. Please use `save_freq` to specify the frequency in number of samples seen.\n"
     ]
    },
    {
     "name": "stdout",
     "output_type": "stream",
     "text": [
      "Train on 350 samples, validate on 75 samples\n",
      "Epoch 1/50\n",
      "350/350 [==============================] - 4s 12ms/sample - loss: 7.8467 - acc: 0.0229 - val_loss: 6.1225 - val_acc: 0.0267\n",
      "Epoch 2/50\n",
      "350/350 [==============================] - 1s 4ms/sample - loss: 5.6285 - acc: 0.0229 - val_loss: 5.7222 - val_acc: 0.0533\n",
      "Epoch 3/50\n",
      "350/350 [==============================] - 2s 6ms/sample - loss: 5.1211 - acc: 0.0343 - val_loss: 5.6772 - val_acc: 0.0133\n",
      "Epoch 4/50\n",
      "350/350 [==============================] - 0s 1ms/sample - loss: 4.8267 - acc: 0.0371 - val_loss: 5.6931 - val_acc: 0.0533\n",
      "Epoch 5/50\n",
      "350/350 [==============================] - 1s 3ms/sample - loss: 4.7690 - acc: 0.0371 - val_loss: 5.7976 - val_acc: 0.0533\n",
      "Epoch 6/50\n",
      "350/350 [==============================] - 0s 1ms/sample - loss: 4.6562 - acc: 0.0571 - val_loss: 5.8298 - val_acc: 0.0533\n",
      "Epoch 7/50\n",
      "350/350 [==============================] - 1s 2ms/sample - loss: 4.6285 - acc: 0.0571 - val_loss: 5.8782 - val_acc: 0.0533\n",
      "Epoch 8/50\n",
      "350/350 [==============================] - 1s 3ms/sample - loss: 4.6334 - acc: 0.0514 - val_loss: 5.8819 - val_acc: 0.0533\n",
      "75/75 [==============================] - 0s 4ms/sample - loss: 5.6772 - acc: 0.0133\n"
     ]
    },
    {
     "name": "stderr",
     "output_type": "stream",
     "text": [
      "W0904 13:46:54.765599 140075983804224 callbacks.py:875] `period` argument is deprecated. Please use `save_freq` to specify the frequency in number of samples seen.\n"
     ]
    },
    {
     "name": "stdout",
     "output_type": "stream",
     "text": [
      "Test dense down\n",
      "Train on 350 samples, validate on 75 samples\n",
      "Epoch 1/50\n",
      "350/350 [==============================] - 4s 12ms/sample - loss: 7.9945 - acc: 0.0257 - val_loss: 6.3994 - val_acc: 0.0533\n",
      "Epoch 2/50\n",
      "350/350 [==============================] - 0s 1ms/sample - loss: 6.3844 - acc: 0.0286 - val_loss: 5.8708 - val_acc: 0.0133\n",
      "Epoch 3/50\n",
      "350/350 [==============================] - 0s 1ms/sample - loss: 5.4091 - acc: 0.0371 - val_loss: 5.8941 - val_acc: 0.0533\n",
      "Epoch 4/50\n",
      "350/350 [==============================] - 0s 1ms/sample - loss: 5.1763 - acc: 0.0457 - val_loss: 5.7265 - val_acc: 0.0533\n",
      "Epoch 5/50\n",
      "350/350 [==============================] - 0s 1ms/sample - loss: 4.9113 - acc: 0.0429 - val_loss: 5.8272 - val_acc: 0.0533\n",
      "Epoch 6/50\n",
      "350/350 [==============================] - 1s 4ms/sample - loss: 4.8282 - acc: 0.0486 - val_loss: 5.8914 - val_acc: 0.0533\n",
      "Epoch 7/50\n",
      "350/350 [==============================] - 0s 1ms/sample - loss: 4.7500 - acc: 0.0286 - val_loss: 5.9355 - val_acc: 0.0533\n",
      "Epoch 8/50\n",
      "350/350 [==============================] - 0s 1ms/sample - loss: 4.7335 - acc: 0.0371 - val_loss: 5.9731 - val_acc: 0.0533\n",
      "Epoch 9/50\n",
      "350/350 [==============================] - 0s 1ms/sample - loss: 4.6992 - acc: 0.0400 - val_loss: 5.9767 - val_acc: 0.0533\n",
      "75/75 [==============================] - 0s 5ms/sample - loss: 5.7265 - acc: 0.0533\n"
     ]
    },
    {
     "name": "stderr",
     "output_type": "stream",
     "text": [
      "W0904 13:47:11.003824 140075983804224 callbacks.py:875] `period` argument is deprecated. Please use `save_freq` to specify the frequency in number of samples seen.\n"
     ]
    },
    {
     "name": "stdout",
     "output_type": "stream",
     "text": [
      "Test dense up\n",
      "Train on 350 samples, validate on 75 samples\n",
      "Epoch 1/50\n",
      "350/350 [==============================] - 6s 19ms/sample - loss: 7.8745 - acc: 0.0400 - val_loss: 6.6322 - val_acc: 0.0400\n",
      "Epoch 2/50\n",
      "350/350 [==============================] - 1s 2ms/sample - loss: 5.9251 - acc: 0.0343 - val_loss: 5.7325 - val_acc: 0.0267\n",
      "Epoch 3/50\n",
      "350/350 [==============================] - 3s 8ms/sample - loss: 5.1550 - acc: 0.0514 - val_loss: 5.6556 - val_acc: 0.0533\n",
      "Epoch 4/50\n",
      "350/350 [==============================] - 2s 6ms/sample - loss: 4.8933 - acc: 0.0457 - val_loss: 5.7483 - val_acc: 0.0533\n",
      "Epoch 5/50\n",
      "350/350 [==============================] - 3s 9ms/sample - loss: 4.7595 - acc: 0.0543 - val_loss: 5.8207 - val_acc: 0.0533\n",
      "Epoch 6/50\n",
      "350/350 [==============================] - 1s 2ms/sample - loss: 4.6442 - acc: 0.0657 - val_loss: 5.8349 - val_acc: 0.0533\n",
      "Epoch 7/50\n",
      "350/350 [==============================] - 2s 6ms/sample - loss: 4.6308 - acc: 0.0486 - val_loss: 5.8616 - val_acc: 0.0533\n",
      "Epoch 8/50\n",
      "350/350 [==============================] - 2s 5ms/sample - loss: 4.6251 - acc: 0.0600 - val_loss: 5.8642 - val_acc: 0.0533\n",
      "75/75 [==============================] - 0s 5ms/sample - loss: 5.6556 - acc: 0.0533\n"
     ]
    },
    {
     "name": "stderr",
     "output_type": "stream",
     "text": [
      "W0904 13:47:39.270526 140075983804224 callbacks.py:875] `period` argument is deprecated. Please use `save_freq` to specify the frequency in number of samples seen.\n"
     ]
    },
    {
     "name": "stdout",
     "output_type": "stream",
     "text": [
      "Test dropout down\n",
      "Train on 350 samples, validate on 75 samples\n",
      "Epoch 1/50\n",
      "350/350 [==============================] - 5s 14ms/sample - loss: 7.8526 - acc: 0.0314 - val_loss: 6.6428 - val_acc: 0.0533\n",
      "Epoch 2/50\n",
      "350/350 [==============================] - 1s 2ms/sample - loss: 6.3739 - acc: 0.0257 - val_loss: 5.8965 - val_acc: 0.0667\n",
      "Epoch 3/50\n",
      "350/350 [==============================] - 1s 2ms/sample - loss: 5.2571 - acc: 0.0400 - val_loss: 5.7537 - val_acc: 0.0133\n",
      "Epoch 4/50\n",
      "350/350 [==============================] - 1s 2ms/sample - loss: 4.9547 - acc: 0.0400 - val_loss: 5.7344 - val_acc: 0.0533\n",
      "Epoch 5/50\n",
      "350/350 [==============================] - 1s 2ms/sample - loss: 4.8331 - acc: 0.0514 - val_loss: 5.8215 - val_acc: 0.0533\n",
      "Epoch 6/50\n",
      "350/350 [==============================] - 3s 7ms/sample - loss: 4.7751 - acc: 0.0400 - val_loss: 5.9755 - val_acc: 0.0133\n",
      "Epoch 7/50\n",
      "350/350 [==============================] - 0s 1ms/sample - loss: 4.6402 - acc: 0.0400 - val_loss: 5.9832 - val_acc: 0.0133\n",
      "Epoch 8/50\n",
      "350/350 [==============================] - 0s 1ms/sample - loss: 4.6265 - acc: 0.0343 - val_loss: 6.0093 - val_acc: 0.0667\n",
      "Epoch 9/50\n",
      "350/350 [==============================] - 0s 1ms/sample - loss: 4.6608 - acc: 0.0400 - val_loss: 6.0127 - val_acc: 0.0667\n",
      "75/75 [==============================] - 0s 5ms/sample - loss: 5.7344 - acc: 0.0533\n",
      "Test dropout up\n"
     ]
    },
    {
     "name": "stderr",
     "output_type": "stream",
     "text": [
      "W0904 13:47:59.883935 140075983804224 callbacks.py:875] `period` argument is deprecated. Please use `save_freq` to specify the frequency in number of samples seen.\n"
     ]
    },
    {
     "name": "stdout",
     "output_type": "stream",
     "text": [
      "Train on 350 samples, validate on 75 samples\n",
      "Epoch 1/50\n",
      "350/350 [==============================] - 5s 14ms/sample - loss: 8.1145 - acc: 0.0229 - val_loss: 7.0703 - val_acc: 0.0267\n",
      "Epoch 2/50\n",
      "350/350 [==============================] - 1s 2ms/sample - loss: 6.3879 - acc: 0.0343 - val_loss: 6.2530 - val_acc: 0.0133\n",
      "Epoch 3/50\n",
      "350/350 [==============================] - 1s 3ms/sample - loss: 5.4966 - acc: 0.0343 - val_loss: 5.7002 - val_acc: 0.0533\n",
      "Epoch 4/50\n",
      "350/350 [==============================] - 1s 2ms/sample - loss: 5.0547 - acc: 0.0286 - val_loss: 5.7476 - val_acc: 0.0133\n",
      "Epoch 5/50\n",
      "350/350 [==============================] - 1s 4ms/sample - loss: 4.8884 - acc: 0.0486 - val_loss: 5.7947 - val_acc: 0.0533\n",
      "Epoch 6/50\n",
      "350/350 [==============================] - 1s 1ms/sample - loss: 4.8066 - acc: 0.0486 - val_loss: 5.8348 - val_acc: 0.0533\n",
      "Epoch 7/50\n",
      "350/350 [==============================] - 1s 1ms/sample - loss: 4.7376 - acc: 0.0543 - val_loss: 5.8685 - val_acc: 0.0533\n",
      "Epoch 8/50\n",
      "350/350 [==============================] - 1s 2ms/sample - loss: 4.7379 - acc: 0.0543 - val_loss: 5.8704 - val_acc: 0.0533\n",
      "75/75 [==============================] - 0s 6ms/sample - loss: 5.7002 - acc: 0.0533\n",
      "Test batchsize down\n"
     ]
    },
    {
     "name": "stderr",
     "output_type": "stream",
     "text": [
      "W0904 13:48:19.794287 140075983804224 callbacks.py:875] `period` argument is deprecated. Please use `save_freq` to specify the frequency in number of samples seen.\n"
     ]
    },
    {
     "name": "stdout",
     "output_type": "stream",
     "text": [
      "Train on 350 samples, validate on 75 samples\n",
      "Epoch 1/50\n",
      "350/350 [==============================] - 6s 16ms/sample - loss: 7.6577 - acc: 0.0257 - val_loss: 6.7468 - val_acc: 0.0267\n",
      "Epoch 2/50\n",
      "350/350 [==============================] - 1s 3ms/sample - loss: 5.7707 - acc: 0.0429 - val_loss: 6.0019 - val_acc: 0.0267\n",
      "Epoch 3/50\n",
      "350/350 [==============================] - 3s 8ms/sample - loss: 5.1574 - acc: 0.0343 - val_loss: 5.6258 - val_acc: 0.0533\n",
      "Epoch 4/50\n",
      "350/350 [==============================] - 1s 3ms/sample - loss: 4.9134 - acc: 0.0400 - val_loss: 5.6072 - val_acc: 0.0533\n",
      "Epoch 5/50\n",
      "350/350 [==============================] - 1s 4ms/sample - loss: 4.8093 - acc: 0.0371 - val_loss: 5.7087 - val_acc: 0.0533\n",
      "Epoch 6/50\n",
      "350/350 [==============================] - 4s 11ms/sample - loss: 4.7624 - acc: 0.0486 - val_loss: 5.8353 - val_acc: 0.0533\n",
      "Epoch 7/50\n",
      "350/350 [==============================] - 1s 3ms/sample - loss: 4.6730 - acc: 0.0514 - val_loss: 5.8823 - val_acc: 0.0533\n",
      "Epoch 8/50\n",
      "350/350 [==============================] - 1s 3ms/sample - loss: 4.6648 - acc: 0.0571 - val_loss: 5.9401 - val_acc: 0.0533\n",
      "Epoch 9/50\n",
      "350/350 [==============================] - 1s 3ms/sample - loss: 4.6581 - acc: 0.0571 - val_loss: 5.9429 - val_acc: 0.0533\n",
      "75/75 [==============================] - 1s 7ms/sample - loss: 5.6072 - acc: 0.0533\n",
      "New param set [6, 3, 2, 9]\n",
      "Test convolution up\n"
     ]
    },
    {
     "name": "stderr",
     "output_type": "stream",
     "text": [
      "W0904 13:48:48.480228 140075983804224 callbacks.py:875] `period` argument is deprecated. Please use `save_freq` to specify the frequency in number of samples seen.\n"
     ]
    },
    {
     "name": "stdout",
     "output_type": "stream",
     "text": [
      "Train on 350 samples, validate on 75 samples\n",
      "Epoch 1/50\n",
      "350/350 [==============================] - 6s 19ms/sample - loss: 7.3853 - acc: 0.0314 - val_loss: 6.1735 - val_acc: 0.0533\n",
      "Epoch 2/50\n",
      "350/350 [==============================] - 1s 4ms/sample - loss: 5.6448 - acc: 0.0286 - val_loss: 5.7069 - val_acc: 0.0533\n",
      "Epoch 3/50\n",
      "350/350 [==============================] - 4s 11ms/sample - loss: 5.1114 - acc: 0.0343 - val_loss: 5.5702 - val_acc: 0.0533\n",
      "Epoch 4/50\n",
      "350/350 [==============================] - 1s 4ms/sample - loss: 4.9129 - acc: 0.0457 - val_loss: 5.7132 - val_acc: 0.0533\n",
      "Epoch 5/50\n",
      "350/350 [==============================] - 6s 17ms/sample - loss: 4.8064 - acc: 0.0457 - val_loss: 6.0043 - val_acc: 0.0533\n",
      "Epoch 6/50\n",
      "350/350 [==============================] - 1s 3ms/sample - loss: 4.6776 - acc: 0.0543 - val_loss: 5.9475 - val_acc: 0.0533\n",
      "Epoch 7/50\n",
      "350/350 [==============================] - 2s 5ms/sample - loss: 4.6549 - acc: 0.0543 - val_loss: 5.9294 - val_acc: 0.0533\n",
      "Epoch 8/50\n",
      "350/350 [==============================] - 2s 5ms/sample - loss: 4.6800 - acc: 0.0543 - val_loss: 5.9278 - val_acc: 0.0533\n",
      "75/75 [==============================] - 1s 7ms/sample - loss: 5.5702 - acc: 0.0533\n",
      "New param set [6, 3, 3, 9]\n",
      "Test dense down\n"
     ]
    },
    {
     "name": "stderr",
     "output_type": "stream",
     "text": [
      "W0904 13:49:23.060779 140075983804224 callbacks.py:875] `period` argument is deprecated. Please use `save_freq` to specify the frequency in number of samples seen.\n"
     ]
    },
    {
     "name": "stdout",
     "output_type": "stream",
     "text": [
      "Train on 350 samples, validate on 75 samples\n",
      "Epoch 1/50\n",
      "350/350 [==============================] - 6s 18ms/sample - loss: 7.5976 - acc: 0.0257 - val_loss: 6.0954 - val_acc: 0.0267\n",
      "Epoch 2/50\n",
      "350/350 [==============================] - 2s 5ms/sample - loss: 5.7221 - acc: 0.0514 - val_loss: 6.1714 - val_acc: 0.0533\n",
      "Epoch 3/50\n",
      "350/350 [==============================] - 2s 5ms/sample - loss: 5.1638 - acc: 0.0429 - val_loss: 5.6393 - val_acc: 0.0533\n",
      "Epoch 4/50\n",
      "350/350 [==============================] - 1s 2ms/sample - loss: 4.9140 - acc: 0.0486 - val_loss: 5.6907 - val_acc: 0.0533\n",
      "Epoch 5/50\n",
      "350/350 [==============================] - 2s 5ms/sample - loss: 4.8311 - acc: 0.0400 - val_loss: 5.8706 - val_acc: 0.0533\n",
      "Epoch 6/50\n",
      "350/350 [==============================] - 1s 2ms/sample - loss: 4.7127 - acc: 0.0486 - val_loss: 5.8892 - val_acc: 0.0533\n",
      "Epoch 7/50\n",
      "350/350 [==============================] - 1s 2ms/sample - loss: 4.6861 - acc: 0.0429 - val_loss: 5.9267 - val_acc: 0.0533\n",
      "Epoch 8/50\n",
      "350/350 [==============================] - 1s 2ms/sample - loss: 4.6955 - acc: 0.0486 - val_loss: 5.9289 - val_acc: 0.0533\n",
      "75/75 [==============================] - 0s 6ms/sample - loss: 5.6393 - acc: 0.0533\n",
      "Test dense up\n"
     ]
    },
    {
     "name": "stderr",
     "output_type": "stream",
     "text": [
      "W0904 13:49:49.140186 140075983804224 callbacks.py:875] `period` argument is deprecated. Please use `save_freq` to specify the frequency in number of samples seen.\n"
     ]
    },
    {
     "name": "stdout",
     "output_type": "stream",
     "text": [
      "Train on 350 samples, validate on 75 samples\n",
      "Epoch 1/50\n",
      "350/350 [==============================] - 8s 22ms/sample - loss: 7.5876 - acc: 0.0229 - val_loss: 7.0648 - val_acc: 0.0533\n",
      "Epoch 2/50\n",
      "350/350 [==============================] - 4s 12ms/sample - loss: 5.6433 - acc: 0.0257 - val_loss: 5.7361 - val_acc: 0.0533\n",
      "Epoch 3/50\n",
      "350/350 [==============================] - 5s 14ms/sample - loss: 5.1017 - acc: 0.0486 - val_loss: 5.7989 - val_acc: 0.0533\n",
      "Epoch 4/50\n",
      "350/350 [==============================] - 5s 15ms/sample - loss: 4.9007 - acc: 0.0486 - val_loss: 5.6723 - val_acc: 0.0133\n",
      "Epoch 5/50\n",
      "350/350 [==============================] - 4s 12ms/sample - loss: 4.7897 - acc: 0.0314 - val_loss: 5.8712 - val_acc: 0.0533\n",
      "Epoch 6/50\n",
      "350/350 [==============================] - 6s 18ms/sample - loss: 4.7458 - acc: 0.0486 - val_loss: 5.8505 - val_acc: 0.0533\n",
      "Epoch 7/50\n",
      "350/350 [==============================] - 3s 10ms/sample - loss: 4.6318 - acc: 0.0629 - val_loss: 5.9380 - val_acc: 0.0533\n",
      "Epoch 8/50\n",
      "350/350 [==============================] - 4s 12ms/sample - loss: 4.6246 - acc: 0.0486 - val_loss: 5.9927 - val_acc: 0.0533\n",
      "Epoch 9/50\n",
      "350/350 [==============================] - 5s 15ms/sample - loss: 4.6281 - acc: 0.0514 - val_loss: 5.9963 - val_acc: 0.0533\n",
      "75/75 [==============================] - 0s 7ms/sample - loss: 5.6723 - acc: 0.0133\n"
     ]
    },
    {
     "name": "stderr",
     "output_type": "stream",
     "text": [
      "W0904 13:50:46.700624 140075983804224 callbacks.py:875] `period` argument is deprecated. Please use `save_freq` to specify the frequency in number of samples seen.\n"
     ]
    },
    {
     "name": "stdout",
     "output_type": "stream",
     "text": [
      "Test dropout up\n",
      "Train on 350 samples, validate on 75 samples\n",
      "Epoch 1/50\n",
      "350/350 [==============================] - 7s 21ms/sample - loss: 7.4822 - acc: 0.0257 - val_loss: 6.9705 - val_acc: 0.0133\n",
      "Epoch 2/50\n",
      "350/350 [==============================] - 1s 4ms/sample - loss: 5.6958 - acc: 0.0343 - val_loss: 5.6000 - val_acc: 0.0133\n",
      "Epoch 3/50\n",
      "350/350 [==============================] - 4s 12ms/sample - loss: 5.2383 - acc: 0.0371 - val_loss: 5.5642 - val_acc: 0.0533\n",
      "Epoch 4/50\n",
      "350/350 [==============================] - 1s 3ms/sample - loss: 4.9638 - acc: 0.0429 - val_loss: 5.6940 - val_acc: 0.0533\n",
      "Epoch 5/50\n",
      "350/350 [==============================] - 3s 9ms/sample - loss: 4.8398 - acc: 0.0543 - val_loss: 5.7340 - val_acc: 0.0533\n",
      "Epoch 6/50\n",
      "350/350 [==============================] - 1s 3ms/sample - loss: 4.7555 - acc: 0.0514 - val_loss: 5.8314 - val_acc: 0.0533\n",
      "Epoch 7/50\n",
      "350/350 [==============================] - 3s 8ms/sample - loss: 4.6952 - acc: 0.0571 - val_loss: 5.8961 - val_acc: 0.0533\n",
      "Epoch 8/50\n",
      "350/350 [==============================] - 1s 4ms/sample - loss: 4.7426 - acc: 0.0429 - val_loss: 5.8985 - val_acc: 0.0533\n",
      "75/75 [==============================] - 1s 7ms/sample - loss: 5.5642 - acc: 0.0533\n",
      "New param set [7, 3, 3, 9]\n",
      "Test batchsize down\n"
     ]
    },
    {
     "name": "stderr",
     "output_type": "stream",
     "text": [
      "W0904 13:51:21.013395 140075983804224 callbacks.py:875] `period` argument is deprecated. Please use `save_freq` to specify the frequency in number of samples seen.\n"
     ]
    },
    {
     "name": "stdout",
     "output_type": "stream",
     "text": [
      "Train on 350 samples, validate on 75 samples\n",
      "Epoch 1/50\n",
      "350/350 [==============================] - 8s 23ms/sample - loss: 7.4950 - acc: 0.0257 - val_loss: 7.0411 - val_acc: 0.0133\n",
      "Epoch 2/50\n",
      "350/350 [==============================] - 4s 12ms/sample - loss: 5.7331 - acc: 0.0371 - val_loss: 5.7046 - val_acc: 0.0133\n",
      "Epoch 3/50\n",
      "350/350 [==============================] - 5s 14ms/sample - loss: 5.2364 - acc: 0.0314 - val_loss: 5.6471 - val_acc: 0.0267\n",
      "Epoch 4/50\n",
      "350/350 [==============================] - 2s 6ms/sample - loss: 5.0722 - acc: 0.0429 - val_loss: 5.6313 - val_acc: 0.0533\n",
      "Epoch 5/50\n",
      "350/350 [==============================] - 4s 10ms/sample - loss: 4.8598 - acc: 0.0457 - val_loss: 5.7256 - val_acc: 0.0533\n",
      "Epoch 6/50\n",
      "350/350 [==============================] - 7s 21ms/sample - loss: 4.8006 - acc: 0.0514 - val_loss: 5.8680 - val_acc: 0.0533\n",
      "Epoch 7/50\n",
      "350/350 [==============================] - 2s 6ms/sample - loss: 4.7074 - acc: 0.0514 - val_loss: 5.8828 - val_acc: 0.0533\n",
      "Epoch 8/50\n",
      "350/350 [==============================] - 4s 11ms/sample - loss: 4.6896 - acc: 0.0600 - val_loss: 5.9233 - val_acc: 0.0533\n",
      "Epoch 9/50\n",
      "350/350 [==============================] - 7s 19ms/sample - loss: 4.6320 - acc: 0.0543 - val_loss: 5.9281 - val_acc: 0.0533\n",
      "75/75 [==============================] - 1s 7ms/sample - loss: 5.6313 - acc: 0.0533\n",
      "Test batchsize up\n"
     ]
    },
    {
     "name": "stderr",
     "output_type": "stream",
     "text": [
      "W0904 13:52:16.367543 140075983804224 callbacks.py:875] `period` argument is deprecated. Please use `save_freq` to specify the frequency in number of samples seen.\n"
     ]
    },
    {
     "name": "stdout",
     "output_type": "stream",
     "text": [
      "Train on 350 samples, validate on 75 samples\n",
      "Epoch 1/50\n",
      "350/350 [==============================] - 7s 20ms/sample - loss: 7.8466 - acc: 0.0314 - val_loss: 6.5440 - val_acc: 0.0133\n",
      "Epoch 2/50\n",
      "350/350 [==============================] - 0s 1ms/sample - loss: 5.9567 - acc: 0.0371 - val_loss: 6.9001 - val_acc: 0.0400\n",
      "Epoch 3/50\n",
      "350/350 [==============================] - 1s 2ms/sample - loss: 5.4172 - acc: 0.0229 - val_loss: 6.4561 - val_acc: 0.0533\n",
      "Epoch 4/50\n",
      "350/350 [==============================] - 1s 2ms/sample - loss: 5.1152 - acc: 0.0343 - val_loss: 5.8121 - val_acc: 0.0533\n",
      "Epoch 5/50\n",
      "350/350 [==============================] - 2s 6ms/sample - loss: 4.8329 - acc: 0.0571 - val_loss: 5.7147 - val_acc: 0.0533\n",
      "Epoch 6/50\n",
      "350/350 [==============================] - 2s 5ms/sample - loss: 4.8632 - acc: 0.0429 - val_loss: 5.7145 - val_acc: 0.0533\n",
      "Epoch 7/50\n",
      "350/350 [==============================] - 0s 1ms/sample - loss: 4.7596 - acc: 0.0314 - val_loss: 5.8145 - val_acc: 0.0533\n",
      "Epoch 8/50\n",
      "350/350 [==============================] - 2s 5ms/sample - loss: 4.7802 - acc: 0.0371 - val_loss: 5.8499 - val_acc: 0.0533\n",
      "Epoch 9/50\n",
      "350/350 [==============================] - 0s 1ms/sample - loss: 4.6787 - acc: 0.0514 - val_loss: 5.8577 - val_acc: 0.0533\n",
      "Epoch 10/50\n",
      "350/350 [==============================] - 2s 5ms/sample - loss: 4.6336 - acc: 0.0629 - val_loss: 5.8905 - val_acc: 0.0533\n",
      "Epoch 11/50\n",
      "350/350 [==============================] - 2s 6ms/sample - loss: 4.6642 - acc: 0.0400 - val_loss: 5.8926 - val_acc: 0.0533\n",
      "75/75 [==============================] - 1s 8ms/sample - loss: 5.7145 - acc: 0.0533\n",
      "Test convolution down\n"
     ]
    },
    {
     "name": "stderr",
     "output_type": "stream",
     "text": [
      "W0904 13:52:49.029379 140075983804224 callbacks.py:875] `period` argument is deprecated. Please use `save_freq` to specify the frequency in number of samples seen.\n"
     ]
    },
    {
     "name": "stdout",
     "output_type": "stream",
     "text": [
      "Train on 350 samples, validate on 75 samples\n",
      "Epoch 1/50\n",
      "350/350 [==============================] - 8s 24ms/sample - loss: 7.8006 - acc: 0.0400 - val_loss: 5.8371 - val_acc: 0.0133\n",
      "Epoch 2/50\n",
      "350/350 [==============================] - 3s 9ms/sample - loss: 5.6465 - acc: 0.0543 - val_loss: 5.5949 - val_acc: 0.0533\n",
      "Epoch 3/50\n",
      "350/350 [==============================] - 4s 12ms/sample - loss: 5.1213 - acc: 0.0514 - val_loss: 5.7413 - val_acc: 0.0533\n",
      "Epoch 4/50\n",
      "350/350 [==============================] - 5s 14ms/sample - loss: 4.9251 - acc: 0.0457 - val_loss: 5.6804 - val_acc: 0.0533\n",
      "Epoch 5/50\n",
      "350/350 [==============================] - 1s 3ms/sample - loss: 4.7780 - acc: 0.0571 - val_loss: 5.7419 - val_acc: 0.0533\n",
      "Epoch 6/50\n",
      "350/350 [==============================] - 1s 3ms/sample - loss: 4.7647 - acc: 0.0514 - val_loss: 5.7704 - val_acc: 0.0533\n",
      "Epoch 7/50\n",
      "350/350 [==============================] - 1s 3ms/sample - loss: 4.7488 - acc: 0.0571 - val_loss: 5.7718 - val_acc: 0.0533\n",
      "75/75 [==============================] - 1s 7ms/sample - loss: 5.5949 - acc: 0.0533\n"
     ]
    },
    {
     "name": "stderr",
     "output_type": "stream",
     "text": [
      "W0904 13:53:26.712633 140075983804224 callbacks.py:875] `period` argument is deprecated. Please use `save_freq` to specify the frequency in number of samples seen.\n"
     ]
    },
    {
     "name": "stdout",
     "output_type": "stream",
     "text": [
      "Test convolution up\n",
      "Train on 350 samples, validate on 75 samples\n",
      "Epoch 1/50\n",
      "350/350 [==============================] - 8s 23ms/sample - loss: 7.3174 - acc: 0.0343 - val_loss: 6.1304 - val_acc: 0.0533\n",
      "Epoch 2/50\n",
      "350/350 [==============================] - 2s 6ms/sample - loss: 5.7261 - acc: 0.0400 - val_loss: 6.0864 - val_acc: 0.0533\n",
      "Epoch 3/50\n",
      "350/350 [==============================] - 4s 11ms/sample - loss: 5.2396 - acc: 0.0343 - val_loss: 5.8227 - val_acc: 0.0533\n",
      "Epoch 4/50\n",
      "350/350 [==============================] - 4s 12ms/sample - loss: 5.0296 - acc: 0.0514 - val_loss: 5.6988 - val_acc: 0.0533\n",
      "Epoch 5/50\n",
      "350/350 [==============================] - 4s 11ms/sample - loss: 4.8770 - acc: 0.0486 - val_loss: 5.7748 - val_acc: 0.0533\n",
      "Epoch 6/50\n",
      "350/350 [==============================] - 5s 15ms/sample - loss: 4.7969 - acc: 0.0486 - val_loss: 5.8688 - val_acc: 0.0533\n",
      "Epoch 7/50\n",
      "350/350 [==============================] - 2s 4ms/sample - loss: 4.7077 - acc: 0.0457 - val_loss: 5.8968 - val_acc: 0.0533\n",
      "Epoch 8/50\n",
      "350/350 [==============================] - 4s 11ms/sample - loss: 4.7179 - acc: 0.0571 - val_loss: 5.8986 - val_acc: 0.0533\n",
      "Epoch 9/50\n",
      "350/350 [==============================] - 4s 13ms/sample - loss: 4.6460 - acc: 0.0571 - val_loss: 5.9044 - val_acc: 0.0533\n",
      "75/75 [==============================] - 1s 8ms/sample - loss: 5.6988 - acc: 0.0533\n"
     ]
    },
    {
     "name": "stderr",
     "output_type": "stream",
     "text": [
      "W0904 13:54:17.989178 140075983804224 callbacks.py:875] `period` argument is deprecated. Please use `save_freq` to specify the frequency in number of samples seen.\n"
     ]
    },
    {
     "name": "stdout",
     "output_type": "stream",
     "text": [
      "Test dense down\n",
      "Train on 350 samples, validate on 75 samples\n",
      "Epoch 1/50\n",
      "350/350 [==============================] - 8s 23ms/sample - loss: 7.6343 - acc: 0.0229 - val_loss: 7.0188 - val_acc: 0.0133\n",
      "Epoch 2/50\n",
      "350/350 [==============================] - 3s 9ms/sample - loss: 5.9132 - acc: 0.0343 - val_loss: 6.3929 - val_acc: 0.0133\n",
      "Epoch 3/50\n",
      "350/350 [==============================] - 1s 2ms/sample - loss: 5.3003 - acc: 0.0286 - val_loss: 5.6278 - val_acc: 0.0133\n",
      "Epoch 4/50\n",
      "350/350 [==============================] - 1s 2ms/sample - loss: 5.0771 - acc: 0.0429 - val_loss: 5.6348 - val_acc: 0.0133\n",
      "Epoch 5/50\n",
      "350/350 [==============================] - 2s 6ms/sample - loss: 4.9083 - acc: 0.0314 - val_loss: 5.6392 - val_acc: 0.0533\n",
      "Epoch 6/50\n",
      "350/350 [==============================] - 1s 2ms/sample - loss: 4.7702 - acc: 0.0429 - val_loss: 5.6671 - val_acc: 0.0533\n",
      "Epoch 7/50\n",
      "350/350 [==============================] - 1s 2ms/sample - loss: 4.7237 - acc: 0.0486 - val_loss: 5.6915 - val_acc: 0.0533\n",
      "Epoch 8/50\n",
      "350/350 [==============================] - 1s 2ms/sample - loss: 4.7449 - acc: 0.0514 - val_loss: 5.6923 - val_acc: 0.0533\n",
      "75/75 [==============================] - 1s 8ms/sample - loss: 5.6278 - acc: 0.0133\n"
     ]
    },
    {
     "name": "stderr",
     "output_type": "stream",
     "text": [
      "W0904 13:54:49.183309 140075983804224 callbacks.py:875] `period` argument is deprecated. Please use `save_freq` to specify the frequency in number of samples seen.\n"
     ]
    },
    {
     "name": "stdout",
     "output_type": "stream",
     "text": [
      "Test dense up\n",
      "Train on 350 samples, validate on 75 samples\n",
      "Epoch 1/50\n",
      "350/350 [==============================] - 9s 26ms/sample - loss: 7.5659 - acc: 0.0114 - val_loss: 6.4330 - val_acc: 0.0533\n",
      "Epoch 2/50\n",
      "350/350 [==============================] - 2s 7ms/sample - loss: 5.5925 - acc: 0.0371 - val_loss: 5.5491 - val_acc: 0.0133\n",
      "Epoch 3/50\n",
      "350/350 [==============================] - 4s 12ms/sample - loss: 5.0832 - acc: 0.0514 - val_loss: 5.5561 - val_acc: 0.0533\n",
      "Epoch 4/50\n",
      "350/350 [==============================] - 5s 15ms/sample - loss: 4.9105 - acc: 0.0457 - val_loss: 5.7227 - val_acc: 0.0533\n",
      "Epoch 5/50\n",
      "350/350 [==============================] - 1s 4ms/sample - loss: 4.7390 - acc: 0.0514 - val_loss: 5.7374 - val_acc: 0.0533\n",
      "Epoch 6/50\n",
      "350/350 [==============================] - 4s 13ms/sample - loss: 4.7282 - acc: 0.0543 - val_loss: 5.7497 - val_acc: 0.0533\n",
      "Epoch 7/50\n",
      "350/350 [==============================] - 5s 13ms/sample - loss: 4.6854 - acc: 0.0571 - val_loss: 5.7563 - val_acc: 0.0533\n",
      "75/75 [==============================] - 1s 9ms/sample - loss: 5.5491 - acc: 0.0133\n",
      "New param set [7, 3, 3, 10]\n",
      "Test dropout up\n"
     ]
    },
    {
     "name": "stderr",
     "output_type": "stream",
     "text": [
      "W0904 13:55:36.837564 140075983804224 callbacks.py:875] `period` argument is deprecated. Please use `save_freq` to specify the frequency in number of samples seen.\n"
     ]
    },
    {
     "name": "stdout",
     "output_type": "stream",
     "text": [
      "Train on 350 samples, validate on 75 samples\n",
      "Epoch 1/50\n",
      "350/350 [==============================] - 13s 37ms/sample - loss: 7.5187 - acc: 0.0229 - val_loss: 6.8161 - val_acc: 0.0533\n",
      "Epoch 2/50\n",
      "350/350 [==============================] - 3s 8ms/sample - loss: 6.1269 - acc: 0.0343 - val_loss: 5.8188 - val_acc: 0.0533\n",
      "Epoch 3/50\n",
      "350/350 [==============================] - 5s 14ms/sample - loss: 5.2668 - acc: 0.0429 - val_loss: 5.5933 - val_acc: 0.0533\n",
      "Epoch 4/50\n",
      "350/350 [==============================] - 4s 12ms/sample - loss: 4.9524 - acc: 0.0343 - val_loss: 5.7043 - val_acc: 0.0533\n",
      "Epoch 5/50\n",
      "350/350 [==============================] - 7s 19ms/sample - loss: 4.8043 - acc: 0.0457 - val_loss: 5.8730 - val_acc: 0.0533\n",
      "Epoch 6/50\n",
      "350/350 [==============================] - 3s 7ms/sample - loss: 4.6895 - acc: 0.0400 - val_loss: 5.8469 - val_acc: 0.0533\n",
      "Epoch 7/50\n",
      "350/350 [==============================] - 4s 13ms/sample - loss: 4.7269 - acc: 0.0514 - val_loss: 5.8475 - val_acc: 0.0533\n",
      "Epoch 8/50\n",
      "350/350 [==============================] - 4s 11ms/sample - loss: 4.7244 - acc: 0.0429 - val_loss: 5.8463 - val_acc: 0.0533\n",
      "75/75 [==============================] - 1s 8ms/sample - loss: 5.5933 - acc: 0.0533\n"
     ]
    },
    {
     "name": "stderr",
     "output_type": "stream",
     "text": [
      "W0904 13:56:35.821409 140075983804224 callbacks.py:875] `period` argument is deprecated. Please use `save_freq` to specify the frequency in number of samples seen.\n"
     ]
    },
    {
     "name": "stdout",
     "output_type": "stream",
     "text": [
      "Test batchsize down\n",
      "Train on 350 samples, validate on 75 samples\n",
      "Epoch 1/50\n",
      "348/350 [============================>.] - ETA: 0s - loss: 7.3821 - acc: 0.0201"
     ]
    },
    {
     "ename": "KeyboardInterrupt",
     "evalue": "",
     "output_type": "error",
     "traceback": [
      "\u001b[0;31m---------------------------------------------------------------------------\u001b[0m",
      "\u001b[0;31mKeyboardInterrupt\u001b[0m                         Traceback (most recent call last)",
      "\u001b[0;32m<ipython-input-9-ee2100078689>\u001b[0m in \u001b[0;36m<module>\u001b[0;34m\u001b[0m\n\u001b[0;32m----> 1\u001b[0;31m \u001b[0moptimizeHyperParameter\u001b[0m\u001b[0;34m(\u001b[0m\u001b[0mcreateModel1\u001b[0m\u001b[0;34m,\u001b[0m \u001b[0;34m'../models/KMNIST1.h5'\u001b[0m\u001b[0;34m)\u001b[0m\u001b[0;34m\u001b[0m\u001b[0;34m\u001b[0m\u001b[0m\n\u001b[0m",
      "\u001b[0;32m<ipython-input-8-956c2213cc9a>\u001b[0m in \u001b[0;36moptimizeHyperParameter\u001b[0;34m(funcCreateModel, filenameModel, dropoutLimit, batchSizeLimit, convolutionLayerLimit, denseLayerLimit, maxIter)\u001b[0m\n\u001b[1;32m     70\u001b[0m             \u001b[0mprint\u001b[0m\u001b[0;34m(\u001b[0m\u001b[0;34m\"Test batchsize down\"\u001b[0m\u001b[0;34m)\u001b[0m\u001b[0;34m\u001b[0m\u001b[0;34m\u001b[0m\u001b[0m\n\u001b[1;32m     71\u001b[0m             testLoss = trainAndEvaluateModel(funcCreateModel(curentParam[0]/20., 2**(curentParam[2]), 2**(curentParam[3])),\n\u001b[0;32m---> 72\u001b[0;31m                                              'temp.h5', 2**(curentParam[1]-1))\n\u001b[0m\u001b[1;32m     73\u001b[0m             \u001b[0mtestedParam\u001b[0m\u001b[0;34m[\u001b[0m\u001b[0mcurentParam\u001b[0m\u001b[0;34m[\u001b[0m\u001b[0;36m0\u001b[0m\u001b[0;34m]\u001b[0m\u001b[0;34m,\u001b[0m \u001b[0mcurentParam\u001b[0m\u001b[0;34m[\u001b[0m\u001b[0;36m1\u001b[0m\u001b[0;34m]\u001b[0m\u001b[0;34m-\u001b[0m\u001b[0;36m1\u001b[0m\u001b[0;34m,\u001b[0m \u001b[0mcurentParam\u001b[0m\u001b[0;34m[\u001b[0m\u001b[0;36m2\u001b[0m\u001b[0;34m]\u001b[0m\u001b[0;34m,\u001b[0m \u001b[0mcurentParam\u001b[0m\u001b[0;34m[\u001b[0m\u001b[0;36m3\u001b[0m\u001b[0;34m]\u001b[0m\u001b[0;34m]\u001b[0m \u001b[0;34m=\u001b[0m \u001b[0;32mTrue\u001b[0m\u001b[0;34m\u001b[0m\u001b[0;34m\u001b[0m\u001b[0m\n\u001b[1;32m     74\u001b[0m \u001b[0;34m\u001b[0m\u001b[0m\n",
      "\u001b[0;32m<ipython-input-8-956c2213cc9a>\u001b[0m in \u001b[0;36mtrainAndEvaluateModel\u001b[0;34m(model, filenameModel, batchSize)\u001b[0m\n\u001b[1;32m     18\u001b[0m     \u001b[0mmodel\u001b[0m\u001b[0;34m.\u001b[0m\u001b[0mcompile\u001b[0m\u001b[0;34m(\u001b[0m\u001b[0moptimizer\u001b[0m\u001b[0;34m=\u001b[0m\u001b[0;34m'adam'\u001b[0m\u001b[0;34m,\u001b[0m \u001b[0mloss\u001b[0m\u001b[0;34m=\u001b[0m\u001b[0;34m'sparse_categorical_crossentropy'\u001b[0m\u001b[0;34m,\u001b[0m \u001b[0mmetrics\u001b[0m\u001b[0;34m=\u001b[0m\u001b[0;34m[\u001b[0m\u001b[0;34m'accuracy'\u001b[0m\u001b[0;34m]\u001b[0m\u001b[0;34m)\u001b[0m\u001b[0;34m\u001b[0m\u001b[0;34m\u001b[0m\u001b[0m\n\u001b[1;32m     19\u001b[0m     model.fit(image[:nVal], charOutput[:nVal], epochs=50, batch_size=batchSize,\n\u001b[0;32m---> 20\u001b[0;31m               validation_data=(image[nVal:nFrac], charOutput[nVal:nFrac]), shuffle=True, callbacks=callbacks)\n\u001b[0m\u001b[1;32m     21\u001b[0m \u001b[0;34m\u001b[0m\u001b[0m\n\u001b[1;32m     22\u001b[0m     \u001b[0mmodel\u001b[0m \u001b[0;34m=\u001b[0m \u001b[0mkeras\u001b[0m\u001b[0;34m.\u001b[0m\u001b[0mmodels\u001b[0m\u001b[0;34m.\u001b[0m\u001b[0mload_model\u001b[0m\u001b[0;34m(\u001b[0m\u001b[0mfilenameModel\u001b[0m\u001b[0;34m)\u001b[0m\u001b[0;34m\u001b[0m\u001b[0;34m\u001b[0m\u001b[0m\n",
      "\u001b[0;32m~/miniconda3/envs/mlearning/lib/python3.7/site-packages/tensorflow/python/keras/engine/training.py\u001b[0m in \u001b[0;36mfit\u001b[0;34m(self, x, y, batch_size, epochs, verbose, callbacks, validation_split, validation_data, shuffle, class_weight, sample_weight, initial_epoch, steps_per_epoch, validation_steps, validation_freq, max_queue_size, workers, use_multiprocessing, **kwargs)\u001b[0m\n\u001b[1;32m    778\u001b[0m           \u001b[0mvalidation_steps\u001b[0m\u001b[0;34m=\u001b[0m\u001b[0mvalidation_steps\u001b[0m\u001b[0;34m,\u001b[0m\u001b[0;34m\u001b[0m\u001b[0;34m\u001b[0m\u001b[0m\n\u001b[1;32m    779\u001b[0m           \u001b[0mvalidation_freq\u001b[0m\u001b[0;34m=\u001b[0m\u001b[0mvalidation_freq\u001b[0m\u001b[0;34m,\u001b[0m\u001b[0;34m\u001b[0m\u001b[0;34m\u001b[0m\u001b[0m\n\u001b[0;32m--> 780\u001b[0;31m           steps_name='steps_per_epoch')\n\u001b[0m\u001b[1;32m    781\u001b[0m \u001b[0;34m\u001b[0m\u001b[0m\n\u001b[1;32m    782\u001b[0m   def evaluate(self,\n",
      "\u001b[0;32m~/miniconda3/envs/mlearning/lib/python3.7/site-packages/tensorflow/python/keras/engine/training_arrays.py\u001b[0m in \u001b[0;36mmodel_iteration\u001b[0;34m(model, inputs, targets, sample_weights, batch_size, epochs, verbose, callbacks, val_inputs, val_targets, val_sample_weights, shuffle, initial_epoch, steps_per_epoch, validation_steps, validation_freq, mode, validation_in_fit, prepared_feed_values_from_dataset, steps_name, **kwargs)\u001b[0m\n\u001b[1;32m    417\u001b[0m     \u001b[0;32mif\u001b[0m \u001b[0mmode\u001b[0m \u001b[0;34m==\u001b[0m \u001b[0mModeKeys\u001b[0m\u001b[0;34m.\u001b[0m\u001b[0mTRAIN\u001b[0m\u001b[0;34m:\u001b[0m\u001b[0;34m\u001b[0m\u001b[0;34m\u001b[0m\u001b[0m\n\u001b[1;32m    418\u001b[0m       \u001b[0;31m# Epochs only apply to `fit`.\u001b[0m\u001b[0;34m\u001b[0m\u001b[0;34m\u001b[0m\u001b[0;34m\u001b[0m\u001b[0m\n\u001b[0;32m--> 419\u001b[0;31m       \u001b[0mcallbacks\u001b[0m\u001b[0;34m.\u001b[0m\u001b[0mon_epoch_end\u001b[0m\u001b[0;34m(\u001b[0m\u001b[0mepoch\u001b[0m\u001b[0;34m,\u001b[0m \u001b[0mepoch_logs\u001b[0m\u001b[0;34m)\u001b[0m\u001b[0;34m\u001b[0m\u001b[0;34m\u001b[0m\u001b[0m\n\u001b[0m\u001b[1;32m    420\u001b[0m     \u001b[0mprogbar\u001b[0m\u001b[0;34m.\u001b[0m\u001b[0mon_epoch_end\u001b[0m\u001b[0;34m(\u001b[0m\u001b[0mepoch\u001b[0m\u001b[0;34m,\u001b[0m \u001b[0mepoch_logs\u001b[0m\u001b[0;34m)\u001b[0m\u001b[0;34m\u001b[0m\u001b[0;34m\u001b[0m\u001b[0m\n\u001b[1;32m    421\u001b[0m \u001b[0;34m\u001b[0m\u001b[0m\n",
      "\u001b[0;32m~/miniconda3/envs/mlearning/lib/python3.7/site-packages/tensorflow/python/keras/callbacks.py\u001b[0m in \u001b[0;36mon_epoch_end\u001b[0;34m(self, epoch, logs)\u001b[0m\n\u001b[1;32m    309\u001b[0m     \u001b[0mlogs\u001b[0m \u001b[0;34m=\u001b[0m \u001b[0mlogs\u001b[0m \u001b[0;32mor\u001b[0m \u001b[0;34m{\u001b[0m\u001b[0;34m}\u001b[0m\u001b[0;34m\u001b[0m\u001b[0;34m\u001b[0m\u001b[0m\n\u001b[1;32m    310\u001b[0m     \u001b[0;32mfor\u001b[0m \u001b[0mcallback\u001b[0m \u001b[0;32min\u001b[0m \u001b[0mself\u001b[0m\u001b[0;34m.\u001b[0m\u001b[0mcallbacks\u001b[0m\u001b[0;34m:\u001b[0m\u001b[0;34m\u001b[0m\u001b[0;34m\u001b[0m\u001b[0m\n\u001b[0;32m--> 311\u001b[0;31m       \u001b[0mcallback\u001b[0m\u001b[0;34m.\u001b[0m\u001b[0mon_epoch_end\u001b[0m\u001b[0;34m(\u001b[0m\u001b[0mepoch\u001b[0m\u001b[0;34m,\u001b[0m \u001b[0mlogs\u001b[0m\u001b[0;34m)\u001b[0m\u001b[0;34m\u001b[0m\u001b[0;34m\u001b[0m\u001b[0m\n\u001b[0m\u001b[1;32m    312\u001b[0m \u001b[0;34m\u001b[0m\u001b[0m\n\u001b[1;32m    313\u001b[0m   \u001b[0;32mdef\u001b[0m \u001b[0mon_train_batch_begin\u001b[0m\u001b[0;34m(\u001b[0m\u001b[0mself\u001b[0m\u001b[0;34m,\u001b[0m \u001b[0mbatch\u001b[0m\u001b[0;34m,\u001b[0m \u001b[0mlogs\u001b[0m\u001b[0;34m=\u001b[0m\u001b[0;32mNone\u001b[0m\u001b[0;34m)\u001b[0m\u001b[0;34m:\u001b[0m\u001b[0;34m\u001b[0m\u001b[0;34m\u001b[0m\u001b[0m\n",
      "\u001b[0;32m~/miniconda3/envs/mlearning/lib/python3.7/site-packages/tensorflow/python/keras/callbacks.py\u001b[0m in \u001b[0;36mon_epoch_end\u001b[0;34m(self, epoch, logs)\u001b[0m\n\u001b[1;32m    967\u001b[0m     \u001b[0mself\u001b[0m\u001b[0;34m.\u001b[0m\u001b[0mepochs_since_last_save\u001b[0m \u001b[0;34m+=\u001b[0m \u001b[0;36m1\u001b[0m\u001b[0;34m\u001b[0m\u001b[0;34m\u001b[0m\u001b[0m\n\u001b[1;32m    968\u001b[0m     \u001b[0;32mif\u001b[0m \u001b[0mself\u001b[0m\u001b[0;34m.\u001b[0m\u001b[0msave_freq\u001b[0m \u001b[0;34m==\u001b[0m \u001b[0;34m'epoch'\u001b[0m\u001b[0;34m:\u001b[0m\u001b[0;34m\u001b[0m\u001b[0;34m\u001b[0m\u001b[0m\n\u001b[0;32m--> 969\u001b[0;31m       \u001b[0mself\u001b[0m\u001b[0;34m.\u001b[0m\u001b[0m_save_model\u001b[0m\u001b[0;34m(\u001b[0m\u001b[0mepoch\u001b[0m\u001b[0;34m=\u001b[0m\u001b[0mepoch\u001b[0m\u001b[0;34m,\u001b[0m \u001b[0mlogs\u001b[0m\u001b[0;34m=\u001b[0m\u001b[0mlogs\u001b[0m\u001b[0;34m)\u001b[0m\u001b[0;34m\u001b[0m\u001b[0;34m\u001b[0m\u001b[0m\n\u001b[0m\u001b[1;32m    970\u001b[0m \u001b[0;34m\u001b[0m\u001b[0m\n\u001b[1;32m    971\u001b[0m   \u001b[0;32mdef\u001b[0m \u001b[0m_save_model\u001b[0m\u001b[0;34m(\u001b[0m\u001b[0mself\u001b[0m\u001b[0;34m,\u001b[0m \u001b[0mepoch\u001b[0m\u001b[0;34m,\u001b[0m \u001b[0mlogs\u001b[0m\u001b[0;34m)\u001b[0m\u001b[0;34m:\u001b[0m\u001b[0;34m\u001b[0m\u001b[0;34m\u001b[0m\u001b[0m\n",
      "\u001b[0;32m~/miniconda3/envs/mlearning/lib/python3.7/site-packages/tensorflow/python/keras/callbacks.py\u001b[0m in \u001b[0;36m_save_model\u001b[0;34m(self, epoch, logs)\u001b[0m\n\u001b[1;32m    998\u001b[0m               \u001b[0mself\u001b[0m\u001b[0;34m.\u001b[0m\u001b[0mmodel\u001b[0m\u001b[0;34m.\u001b[0m\u001b[0msave_weights\u001b[0m\u001b[0;34m(\u001b[0m\u001b[0mfilepath\u001b[0m\u001b[0;34m,\u001b[0m \u001b[0moverwrite\u001b[0m\u001b[0;34m=\u001b[0m\u001b[0;32mTrue\u001b[0m\u001b[0;34m)\u001b[0m\u001b[0;34m\u001b[0m\u001b[0;34m\u001b[0m\u001b[0m\n\u001b[1;32m    999\u001b[0m             \u001b[0;32melse\u001b[0m\u001b[0;34m:\u001b[0m\u001b[0;34m\u001b[0m\u001b[0;34m\u001b[0m\u001b[0m\n\u001b[0;32m-> 1000\u001b[0;31m               \u001b[0mself\u001b[0m\u001b[0;34m.\u001b[0m\u001b[0mmodel\u001b[0m\u001b[0;34m.\u001b[0m\u001b[0msave\u001b[0m\u001b[0;34m(\u001b[0m\u001b[0mfilepath\u001b[0m\u001b[0;34m,\u001b[0m \u001b[0moverwrite\u001b[0m\u001b[0;34m=\u001b[0m\u001b[0;32mTrue\u001b[0m\u001b[0;34m)\u001b[0m\u001b[0;34m\u001b[0m\u001b[0;34m\u001b[0m\u001b[0m\n\u001b[0m\u001b[1;32m   1001\u001b[0m           \u001b[0;32melse\u001b[0m\u001b[0;34m:\u001b[0m\u001b[0;34m\u001b[0m\u001b[0;34m\u001b[0m\u001b[0m\n\u001b[1;32m   1002\u001b[0m             \u001b[0;32mif\u001b[0m \u001b[0mself\u001b[0m\u001b[0;34m.\u001b[0m\u001b[0mverbose\u001b[0m \u001b[0;34m>\u001b[0m \u001b[0;36m0\u001b[0m\u001b[0;34m:\u001b[0m\u001b[0;34m\u001b[0m\u001b[0;34m\u001b[0m\u001b[0m\n",
      "\u001b[0;32m~/miniconda3/envs/mlearning/lib/python3.7/site-packages/tensorflow/python/keras/engine/network.py\u001b[0m in \u001b[0;36msave\u001b[0;34m(self, filepath, overwrite, include_optimizer, save_format)\u001b[0m\n\u001b[1;32m   1209\u001b[0m     \u001b[0;31m`\u001b[0m\u001b[0;31m`\u001b[0m\u001b[0;31m`\u001b[0m\u001b[0;34m\u001b[0m\u001b[0;34m\u001b[0m\u001b[0m\n\u001b[1;32m   1210\u001b[0m     \"\"\"\n\u001b[0;32m-> 1211\u001b[0;31m     \u001b[0msaving\u001b[0m\u001b[0;34m.\u001b[0m\u001b[0msave_model\u001b[0m\u001b[0;34m(\u001b[0m\u001b[0mself\u001b[0m\u001b[0;34m,\u001b[0m \u001b[0mfilepath\u001b[0m\u001b[0;34m,\u001b[0m \u001b[0moverwrite\u001b[0m\u001b[0;34m,\u001b[0m \u001b[0minclude_optimizer\u001b[0m\u001b[0;34m,\u001b[0m \u001b[0msave_format\u001b[0m\u001b[0;34m)\u001b[0m\u001b[0;34m\u001b[0m\u001b[0;34m\u001b[0m\u001b[0m\n\u001b[0m\u001b[1;32m   1212\u001b[0m \u001b[0;34m\u001b[0m\u001b[0m\n\u001b[1;32m   1213\u001b[0m   \u001b[0;32mdef\u001b[0m \u001b[0msave_weights\u001b[0m\u001b[0;34m(\u001b[0m\u001b[0mself\u001b[0m\u001b[0;34m,\u001b[0m \u001b[0mfilepath\u001b[0m\u001b[0;34m,\u001b[0m \u001b[0moverwrite\u001b[0m\u001b[0;34m=\u001b[0m\u001b[0;32mTrue\u001b[0m\u001b[0;34m,\u001b[0m \u001b[0msave_format\u001b[0m\u001b[0;34m=\u001b[0m\u001b[0;32mNone\u001b[0m\u001b[0;34m)\u001b[0m\u001b[0;34m:\u001b[0m\u001b[0;34m\u001b[0m\u001b[0;34m\u001b[0m\u001b[0m\n",
      "\u001b[0;32m~/miniconda3/envs/mlearning/lib/python3.7/site-packages/tensorflow/python/keras/saving/save.py\u001b[0m in \u001b[0;36msave_model\u001b[0;34m(model, filepath, overwrite, include_optimizer, save_format)\u001b[0m\n\u001b[1;32m    111\u001b[0m           'or using `save_weights`.')\n\u001b[1;32m    112\u001b[0m     hdf5_format.save_model_to_hdf5(\n\u001b[0;32m--> 113\u001b[0;31m         model, filepath, overwrite, include_optimizer)\n\u001b[0m\u001b[1;32m    114\u001b[0m     \u001b[0;32mreturn\u001b[0m\u001b[0;34m\u001b[0m\u001b[0;34m\u001b[0m\u001b[0m\n\u001b[1;32m    115\u001b[0m \u001b[0;34m\u001b[0m\u001b[0m\n",
      "\u001b[0;32m~/miniconda3/envs/mlearning/lib/python3.7/site-packages/tensorflow/python/keras/saving/hdf5_format.py\u001b[0m in \u001b[0;36msave_model_to_hdf5\u001b[0;34m(model, filepath, overwrite, include_optimizer)\u001b[0m\n\u001b[1;32m    122\u001b[0m                 'optimizer_config': {\n\u001b[1;32m    123\u001b[0m                     \u001b[0;34m'class_name'\u001b[0m\u001b[0;34m:\u001b[0m \u001b[0mmodel\u001b[0m\u001b[0;34m.\u001b[0m\u001b[0moptimizer\u001b[0m\u001b[0;34m.\u001b[0m\u001b[0m__class__\u001b[0m\u001b[0;34m.\u001b[0m\u001b[0m__name__\u001b[0m\u001b[0;34m,\u001b[0m\u001b[0;34m\u001b[0m\u001b[0;34m\u001b[0m\u001b[0m\n\u001b[0;32m--> 124\u001b[0;31m                     \u001b[0;34m'config'\u001b[0m\u001b[0;34m:\u001b[0m \u001b[0mmodel\u001b[0m\u001b[0;34m.\u001b[0m\u001b[0moptimizer\u001b[0m\u001b[0;34m.\u001b[0m\u001b[0mget_config\u001b[0m\u001b[0;34m(\u001b[0m\u001b[0;34m)\u001b[0m\u001b[0;34m\u001b[0m\u001b[0;34m\u001b[0m\u001b[0m\n\u001b[0m\u001b[1;32m    125\u001b[0m                 },\n\u001b[1;32m    126\u001b[0m                 \u001b[0;34m'loss'\u001b[0m\u001b[0;34m:\u001b[0m \u001b[0mmodel\u001b[0m\u001b[0;34m.\u001b[0m\u001b[0mloss\u001b[0m\u001b[0;34m,\u001b[0m\u001b[0;34m\u001b[0m\u001b[0;34m\u001b[0m\u001b[0m\n",
      "\u001b[0;32m~/miniconda3/envs/mlearning/lib/python3.7/site-packages/tensorflow/python/keras/optimizer_v2/adam.py\u001b[0m in \u001b[0;36mget_config\u001b[0;34m(self)\u001b[0m\n\u001b[1;32m    247\u001b[0m     config.update({\n\u001b[1;32m    248\u001b[0m         \u001b[0;34m'learning_rate'\u001b[0m\u001b[0;34m:\u001b[0m \u001b[0mself\u001b[0m\u001b[0;34m.\u001b[0m\u001b[0m_serialize_hyperparameter\u001b[0m\u001b[0;34m(\u001b[0m\u001b[0;34m'learning_rate'\u001b[0m\u001b[0;34m)\u001b[0m\u001b[0;34m,\u001b[0m\u001b[0;34m\u001b[0m\u001b[0;34m\u001b[0m\u001b[0m\n\u001b[0;32m--> 249\u001b[0;31m         \u001b[0;34m'decay'\u001b[0m\u001b[0;34m:\u001b[0m \u001b[0mself\u001b[0m\u001b[0;34m.\u001b[0m\u001b[0m_serialize_hyperparameter\u001b[0m\u001b[0;34m(\u001b[0m\u001b[0;34m'decay'\u001b[0m\u001b[0;34m)\u001b[0m\u001b[0;34m,\u001b[0m\u001b[0;34m\u001b[0m\u001b[0;34m\u001b[0m\u001b[0m\n\u001b[0m\u001b[1;32m    250\u001b[0m         \u001b[0;34m'beta_1'\u001b[0m\u001b[0;34m:\u001b[0m \u001b[0mself\u001b[0m\u001b[0;34m.\u001b[0m\u001b[0m_serialize_hyperparameter\u001b[0m\u001b[0;34m(\u001b[0m\u001b[0;34m'beta_1'\u001b[0m\u001b[0;34m)\u001b[0m\u001b[0;34m,\u001b[0m\u001b[0;34m\u001b[0m\u001b[0;34m\u001b[0m\u001b[0m\n\u001b[1;32m    251\u001b[0m         \u001b[0;34m'beta_2'\u001b[0m\u001b[0;34m:\u001b[0m \u001b[0mself\u001b[0m\u001b[0;34m.\u001b[0m\u001b[0m_serialize_hyperparameter\u001b[0m\u001b[0;34m(\u001b[0m\u001b[0;34m'beta_2'\u001b[0m\u001b[0;34m)\u001b[0m\u001b[0;34m,\u001b[0m\u001b[0;34m\u001b[0m\u001b[0;34m\u001b[0m\u001b[0m\n",
      "\u001b[0;32m~/miniconda3/envs/mlearning/lib/python3.7/site-packages/tensorflow/python/keras/optimizer_v2/optimizer_v2.py\u001b[0m in \u001b[0;36m_serialize_hyperparameter\u001b[0;34m(self, hyperparameter_name)\u001b[0m\n\u001b[1;32m    694\u001b[0m       \u001b[0;32mreturn\u001b[0m \u001b[0mvalue\u001b[0m\u001b[0;34m(\u001b[0m\u001b[0;34m)\u001b[0m\u001b[0;34m\u001b[0m\u001b[0;34m\u001b[0m\u001b[0m\n\u001b[1;32m    695\u001b[0m     \u001b[0;32mif\u001b[0m \u001b[0mtensor_util\u001b[0m\u001b[0;34m.\u001b[0m\u001b[0mis_tensor\u001b[0m\u001b[0;34m(\u001b[0m\u001b[0mvalue\u001b[0m\u001b[0;34m)\u001b[0m\u001b[0;34m:\u001b[0m\u001b[0;34m\u001b[0m\u001b[0;34m\u001b[0m\u001b[0m\n\u001b[0;32m--> 696\u001b[0;31m       \u001b[0;32mreturn\u001b[0m \u001b[0mbackend\u001b[0m\u001b[0;34m.\u001b[0m\u001b[0mget_value\u001b[0m\u001b[0;34m(\u001b[0m\u001b[0mvalue\u001b[0m\u001b[0;34m)\u001b[0m\u001b[0;34m\u001b[0m\u001b[0;34m\u001b[0m\u001b[0m\n\u001b[0m\u001b[1;32m    697\u001b[0m     \u001b[0;32mreturn\u001b[0m \u001b[0mvalue\u001b[0m\u001b[0;34m\u001b[0m\u001b[0;34m\u001b[0m\u001b[0m\n\u001b[1;32m    698\u001b[0m \u001b[0;34m\u001b[0m\u001b[0m\n",
      "\u001b[0;32m~/miniconda3/envs/mlearning/lib/python3.7/site-packages/tensorflow/python/keras/backend.py\u001b[0m in \u001b[0;36mget_value\u001b[0;34m(x)\u001b[0m\n\u001b[1;32m   2987\u001b[0m     \u001b[0;32mreturn\u001b[0m \u001b[0mfunction\u001b[0m\u001b[0;34m(\u001b[0m\u001b[0;34m[\u001b[0m\u001b[0;34m]\u001b[0m\u001b[0;34m,\u001b[0m \u001b[0mx\u001b[0m\u001b[0;34m)\u001b[0m\u001b[0;34m(\u001b[0m\u001b[0mx\u001b[0m\u001b[0;34m)\u001b[0m\u001b[0;34m\u001b[0m\u001b[0;34m\u001b[0m\u001b[0m\n\u001b[1;32m   2988\u001b[0m \u001b[0;34m\u001b[0m\u001b[0m\n\u001b[0;32m-> 2989\u001b[0;31m   \u001b[0;32mreturn\u001b[0m \u001b[0mx\u001b[0m\u001b[0;34m.\u001b[0m\u001b[0meval\u001b[0m\u001b[0;34m(\u001b[0m\u001b[0msession\u001b[0m\u001b[0;34m=\u001b[0m\u001b[0mget_session\u001b[0m\u001b[0;34m(\u001b[0m\u001b[0;34m(\u001b[0m\u001b[0mx\u001b[0m\u001b[0;34m,\u001b[0m\u001b[0;34m)\u001b[0m\u001b[0;34m)\u001b[0m\u001b[0;34m)\u001b[0m\u001b[0;34m\u001b[0m\u001b[0;34m\u001b[0m\u001b[0m\n\u001b[0m\u001b[1;32m   2990\u001b[0m \u001b[0;34m\u001b[0m\u001b[0m\n\u001b[1;32m   2991\u001b[0m \u001b[0;34m\u001b[0m\u001b[0m\n",
      "\u001b[0;32m~/miniconda3/envs/mlearning/lib/python3.7/site-packages/tensorflow/python/ops/resource_variable_ops.py\u001b[0m in \u001b[0;36meval\u001b[0;34m(self, session)\u001b[0m\n\u001b[1;32m    898\u001b[0m     \u001b[0;32mif\u001b[0m \u001b[0mcontext\u001b[0m\u001b[0;34m.\u001b[0m\u001b[0mexecuting_eagerly\u001b[0m\u001b[0;34m(\u001b[0m\u001b[0;34m)\u001b[0m\u001b[0;34m:\u001b[0m\u001b[0;34m\u001b[0m\u001b[0;34m\u001b[0m\u001b[0m\n\u001b[1;32m    899\u001b[0m       \u001b[0;32mraise\u001b[0m \u001b[0mRuntimeError\u001b[0m\u001b[0;34m(\u001b[0m\u001b[0;34m\"Trying to eval in EAGER mode\"\u001b[0m\u001b[0;34m)\u001b[0m\u001b[0;34m\u001b[0m\u001b[0;34m\u001b[0m\u001b[0m\n\u001b[0;32m--> 900\u001b[0;31m     \u001b[0;32mreturn\u001b[0m \u001b[0mself\u001b[0m\u001b[0;34m.\u001b[0m\u001b[0m_graph_element\u001b[0m\u001b[0;34m.\u001b[0m\u001b[0meval\u001b[0m\u001b[0;34m(\u001b[0m\u001b[0msession\u001b[0m\u001b[0;34m=\u001b[0m\u001b[0msession\u001b[0m\u001b[0;34m)\u001b[0m\u001b[0;34m\u001b[0m\u001b[0;34m\u001b[0m\u001b[0m\n\u001b[0m\u001b[1;32m    901\u001b[0m \u001b[0;34m\u001b[0m\u001b[0m\n\u001b[1;32m    902\u001b[0m   \u001b[0;32mdef\u001b[0m \u001b[0mnumpy\u001b[0m\u001b[0;34m(\u001b[0m\u001b[0mself\u001b[0m\u001b[0;34m)\u001b[0m\u001b[0;34m:\u001b[0m\u001b[0;34m\u001b[0m\u001b[0;34m\u001b[0m\u001b[0m\n",
      "\u001b[0;32m~/miniconda3/envs/mlearning/lib/python3.7/site-packages/tensorflow/python/framework/ops.py\u001b[0m in \u001b[0;36meval\u001b[0;34m(self, feed_dict, session)\u001b[0m\n\u001b[1;32m    729\u001b[0m \u001b[0;34m\u001b[0m\u001b[0m\n\u001b[1;32m    730\u001b[0m     \"\"\"\n\u001b[0;32m--> 731\u001b[0;31m     \u001b[0;32mreturn\u001b[0m \u001b[0m_eval_using_default_session\u001b[0m\u001b[0;34m(\u001b[0m\u001b[0mself\u001b[0m\u001b[0;34m,\u001b[0m \u001b[0mfeed_dict\u001b[0m\u001b[0;34m,\u001b[0m \u001b[0mself\u001b[0m\u001b[0;34m.\u001b[0m\u001b[0mgraph\u001b[0m\u001b[0;34m,\u001b[0m \u001b[0msession\u001b[0m\u001b[0;34m)\u001b[0m\u001b[0;34m\u001b[0m\u001b[0;34m\u001b[0m\u001b[0m\n\u001b[0m\u001b[1;32m    732\u001b[0m \u001b[0;34m\u001b[0m\u001b[0m\n\u001b[1;32m    733\u001b[0m \u001b[0;34m\u001b[0m\u001b[0m\n",
      "\u001b[0;32m~/miniconda3/envs/mlearning/lib/python3.7/site-packages/tensorflow/python/framework/ops.py\u001b[0m in \u001b[0;36m_eval_using_default_session\u001b[0;34m(tensors, feed_dict, graph, session)\u001b[0m\n\u001b[1;32m   5577\u001b[0m                        \u001b[0;34m\"the tensor's graph is different from the session's \"\u001b[0m\u001b[0;34m\u001b[0m\u001b[0;34m\u001b[0m\u001b[0m\n\u001b[1;32m   5578\u001b[0m                        \"graph.\")\n\u001b[0;32m-> 5579\u001b[0;31m   \u001b[0;32mreturn\u001b[0m \u001b[0msession\u001b[0m\u001b[0;34m.\u001b[0m\u001b[0mrun\u001b[0m\u001b[0;34m(\u001b[0m\u001b[0mtensors\u001b[0m\u001b[0;34m,\u001b[0m \u001b[0mfeed_dict\u001b[0m\u001b[0;34m)\u001b[0m\u001b[0;34m\u001b[0m\u001b[0;34m\u001b[0m\u001b[0m\n\u001b[0m\u001b[1;32m   5580\u001b[0m \u001b[0;34m\u001b[0m\u001b[0m\n\u001b[1;32m   5581\u001b[0m \u001b[0;34m\u001b[0m\u001b[0m\n",
      "\u001b[0;32m~/miniconda3/envs/mlearning/lib/python3.7/site-packages/tensorflow/python/client/session.py\u001b[0m in \u001b[0;36mrun\u001b[0;34m(self, fetches, feed_dict, options, run_metadata)\u001b[0m\n\u001b[1;32m    948\u001b[0m     \u001b[0;32mtry\u001b[0m\u001b[0;34m:\u001b[0m\u001b[0;34m\u001b[0m\u001b[0;34m\u001b[0m\u001b[0m\n\u001b[1;32m    949\u001b[0m       result = self._run(None, fetches, feed_dict, options_ptr,\n\u001b[0;32m--> 950\u001b[0;31m                          run_metadata_ptr)\n\u001b[0m\u001b[1;32m    951\u001b[0m       \u001b[0;32mif\u001b[0m \u001b[0mrun_metadata\u001b[0m\u001b[0;34m:\u001b[0m\u001b[0;34m\u001b[0m\u001b[0;34m\u001b[0m\u001b[0m\n\u001b[1;32m    952\u001b[0m         \u001b[0mproto_data\u001b[0m \u001b[0;34m=\u001b[0m \u001b[0mtf_session\u001b[0m\u001b[0;34m.\u001b[0m\u001b[0mTF_GetBuffer\u001b[0m\u001b[0;34m(\u001b[0m\u001b[0mrun_metadata_ptr\u001b[0m\u001b[0;34m)\u001b[0m\u001b[0;34m\u001b[0m\u001b[0;34m\u001b[0m\u001b[0m\n",
      "\u001b[0;32m~/miniconda3/envs/mlearning/lib/python3.7/site-packages/tensorflow/python/client/session.py\u001b[0m in \u001b[0;36m_run\u001b[0;34m(self, handle, fetches, feed_dict, options, run_metadata)\u001b[0m\n\u001b[1;32m   1171\u001b[0m     \u001b[0;32mif\u001b[0m \u001b[0mfinal_fetches\u001b[0m \u001b[0;32mor\u001b[0m \u001b[0mfinal_targets\u001b[0m \u001b[0;32mor\u001b[0m \u001b[0;34m(\u001b[0m\u001b[0mhandle\u001b[0m \u001b[0;32mand\u001b[0m \u001b[0mfeed_dict_tensor\u001b[0m\u001b[0;34m)\u001b[0m\u001b[0;34m:\u001b[0m\u001b[0;34m\u001b[0m\u001b[0;34m\u001b[0m\u001b[0m\n\u001b[1;32m   1172\u001b[0m       results = self._do_run(handle, final_targets, final_fetches,\n\u001b[0;32m-> 1173\u001b[0;31m                              feed_dict_tensor, options, run_metadata)\n\u001b[0m\u001b[1;32m   1174\u001b[0m     \u001b[0;32melse\u001b[0m\u001b[0;34m:\u001b[0m\u001b[0;34m\u001b[0m\u001b[0;34m\u001b[0m\u001b[0m\n\u001b[1;32m   1175\u001b[0m       \u001b[0mresults\u001b[0m \u001b[0;34m=\u001b[0m \u001b[0;34m[\u001b[0m\u001b[0;34m]\u001b[0m\u001b[0;34m\u001b[0m\u001b[0;34m\u001b[0m\u001b[0m\n",
      "\u001b[0;32m~/miniconda3/envs/mlearning/lib/python3.7/site-packages/tensorflow/python/client/session.py\u001b[0m in \u001b[0;36m_do_run\u001b[0;34m(self, handle, target_list, fetch_list, feed_dict, options, run_metadata)\u001b[0m\n\u001b[1;32m   1348\u001b[0m     \u001b[0;32mif\u001b[0m \u001b[0mhandle\u001b[0m \u001b[0;32mis\u001b[0m \u001b[0;32mNone\u001b[0m\u001b[0;34m:\u001b[0m\u001b[0;34m\u001b[0m\u001b[0;34m\u001b[0m\u001b[0m\n\u001b[1;32m   1349\u001b[0m       return self._do_call(_run_fn, feeds, fetches, targets, options,\n\u001b[0;32m-> 1350\u001b[0;31m                            run_metadata)\n\u001b[0m\u001b[1;32m   1351\u001b[0m     \u001b[0;32melse\u001b[0m\u001b[0;34m:\u001b[0m\u001b[0;34m\u001b[0m\u001b[0;34m\u001b[0m\u001b[0m\n\u001b[1;32m   1352\u001b[0m       \u001b[0;32mreturn\u001b[0m \u001b[0mself\u001b[0m\u001b[0;34m.\u001b[0m\u001b[0m_do_call\u001b[0m\u001b[0;34m(\u001b[0m\u001b[0m_prun_fn\u001b[0m\u001b[0;34m,\u001b[0m \u001b[0mhandle\u001b[0m\u001b[0;34m,\u001b[0m \u001b[0mfeeds\u001b[0m\u001b[0;34m,\u001b[0m \u001b[0mfetches\u001b[0m\u001b[0;34m)\u001b[0m\u001b[0;34m\u001b[0m\u001b[0;34m\u001b[0m\u001b[0m\n",
      "\u001b[0;32m~/miniconda3/envs/mlearning/lib/python3.7/site-packages/tensorflow/python/client/session.py\u001b[0m in \u001b[0;36m_do_call\u001b[0;34m(self, fn, *args)\u001b[0m\n\u001b[1;32m   1354\u001b[0m   \u001b[0;32mdef\u001b[0m \u001b[0m_do_call\u001b[0m\u001b[0;34m(\u001b[0m\u001b[0mself\u001b[0m\u001b[0;34m,\u001b[0m \u001b[0mfn\u001b[0m\u001b[0;34m,\u001b[0m \u001b[0;34m*\u001b[0m\u001b[0margs\u001b[0m\u001b[0;34m)\u001b[0m\u001b[0;34m:\u001b[0m\u001b[0;34m\u001b[0m\u001b[0;34m\u001b[0m\u001b[0m\n\u001b[1;32m   1355\u001b[0m     \u001b[0;32mtry\u001b[0m\u001b[0;34m:\u001b[0m\u001b[0;34m\u001b[0m\u001b[0;34m\u001b[0m\u001b[0m\n\u001b[0;32m-> 1356\u001b[0;31m       \u001b[0;32mreturn\u001b[0m \u001b[0mfn\u001b[0m\u001b[0;34m(\u001b[0m\u001b[0;34m*\u001b[0m\u001b[0margs\u001b[0m\u001b[0;34m)\u001b[0m\u001b[0;34m\u001b[0m\u001b[0;34m\u001b[0m\u001b[0m\n\u001b[0m\u001b[1;32m   1357\u001b[0m     \u001b[0;32mexcept\u001b[0m \u001b[0merrors\u001b[0m\u001b[0;34m.\u001b[0m\u001b[0mOpError\u001b[0m \u001b[0;32mas\u001b[0m \u001b[0me\u001b[0m\u001b[0;34m:\u001b[0m\u001b[0;34m\u001b[0m\u001b[0;34m\u001b[0m\u001b[0m\n\u001b[1;32m   1358\u001b[0m       \u001b[0mmessage\u001b[0m \u001b[0;34m=\u001b[0m \u001b[0mcompat\u001b[0m\u001b[0;34m.\u001b[0m\u001b[0mas_text\u001b[0m\u001b[0;34m(\u001b[0m\u001b[0me\u001b[0m\u001b[0;34m.\u001b[0m\u001b[0mmessage\u001b[0m\u001b[0;34m)\u001b[0m\u001b[0;34m\u001b[0m\u001b[0;34m\u001b[0m\u001b[0m\n",
      "\u001b[0;32m~/miniconda3/envs/mlearning/lib/python3.7/site-packages/tensorflow/python/client/session.py\u001b[0m in \u001b[0;36m_run_fn\u001b[0;34m(feed_dict, fetch_list, target_list, options, run_metadata)\u001b[0m\n\u001b[1;32m   1339\u001b[0m       \u001b[0mself\u001b[0m\u001b[0;34m.\u001b[0m\u001b[0m_extend_graph\u001b[0m\u001b[0;34m(\u001b[0m\u001b[0;34m)\u001b[0m\u001b[0;34m\u001b[0m\u001b[0;34m\u001b[0m\u001b[0m\n\u001b[1;32m   1340\u001b[0m       return self._call_tf_sessionrun(\n\u001b[0;32m-> 1341\u001b[0;31m           options, feed_dict, fetch_list, target_list, run_metadata)\n\u001b[0m\u001b[1;32m   1342\u001b[0m \u001b[0;34m\u001b[0m\u001b[0m\n\u001b[1;32m   1343\u001b[0m     \u001b[0;32mdef\u001b[0m \u001b[0m_prun_fn\u001b[0m\u001b[0;34m(\u001b[0m\u001b[0mhandle\u001b[0m\u001b[0;34m,\u001b[0m \u001b[0mfeed_dict\u001b[0m\u001b[0;34m,\u001b[0m \u001b[0mfetch_list\u001b[0m\u001b[0;34m)\u001b[0m\u001b[0;34m:\u001b[0m\u001b[0;34m\u001b[0m\u001b[0;34m\u001b[0m\u001b[0m\n",
      "\u001b[0;32m~/miniconda3/envs/mlearning/lib/python3.7/site-packages/tensorflow/python/client/session.py\u001b[0m in \u001b[0;36m_call_tf_sessionrun\u001b[0;34m(self, options, feed_dict, fetch_list, target_list, run_metadata)\u001b[0m\n\u001b[1;32m   1427\u001b[0m     return tf_session.TF_SessionRun_wrapper(\n\u001b[1;32m   1428\u001b[0m         \u001b[0mself\u001b[0m\u001b[0;34m.\u001b[0m\u001b[0m_session\u001b[0m\u001b[0;34m,\u001b[0m \u001b[0moptions\u001b[0m\u001b[0;34m,\u001b[0m \u001b[0mfeed_dict\u001b[0m\u001b[0;34m,\u001b[0m \u001b[0mfetch_list\u001b[0m\u001b[0;34m,\u001b[0m \u001b[0mtarget_list\u001b[0m\u001b[0;34m,\u001b[0m\u001b[0;34m\u001b[0m\u001b[0;34m\u001b[0m\u001b[0m\n\u001b[0;32m-> 1429\u001b[0;31m         run_metadata)\n\u001b[0m\u001b[1;32m   1430\u001b[0m \u001b[0;34m\u001b[0m\u001b[0m\n\u001b[1;32m   1431\u001b[0m   \u001b[0;32mdef\u001b[0m \u001b[0m_call_tf_sessionprun\u001b[0m\u001b[0;34m(\u001b[0m\u001b[0mself\u001b[0m\u001b[0;34m,\u001b[0m \u001b[0mhandle\u001b[0m\u001b[0;34m,\u001b[0m \u001b[0mfeed_dict\u001b[0m\u001b[0;34m,\u001b[0m \u001b[0mfetch_list\u001b[0m\u001b[0;34m)\u001b[0m\u001b[0;34m:\u001b[0m\u001b[0;34m\u001b[0m\u001b[0;34m\u001b[0m\u001b[0m\n",
      "\u001b[0;31mKeyboardInterrupt\u001b[0m: "
     ]
    }
   ],
   "source": [
    "optimizeHyperParameter(createModel1, '../models/KMNIST1.h5')"
   ]
  },
  {
   "cell_type": "code",
   "execution_count": null,
   "metadata": {},
   "outputs": [],
   "source": []
  }
 ],
 "metadata": {
  "kernelspec": {
   "display_name": "Python 3",
   "language": "python",
   "name": "python3"
  },
  "language_info": {
   "codemirror_mode": {
    "name": "ipython",
    "version": 3
   },
   "file_extension": ".py",
   "mimetype": "text/x-python",
   "name": "python",
   "nbconvert_exporter": "python",
   "pygments_lexer": "ipython3",
   "version": "3.7.3"
  }
 },
 "nbformat": 4,
 "nbformat_minor": 4
}
