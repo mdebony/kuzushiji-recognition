{
 "cells": [
  {
   "cell_type": "code",
   "execution_count": 2,
   "metadata": {},
   "outputs": [],
   "source": [
    "from tensorflow import keras\n",
    "import numpy as np\n",
    "import pandas as pd\n",
    "import random\n",
    "\n",
    "dataRep = '../data/'\n",
    "scriptRep = '../script/'\n",
    "\n",
    "# some_file.py\n",
    "import sys\n",
    "# insert at 1, 0 is the script path (or '' in REPL)\n",
    "sys.path.insert(1, scriptRep)\n",
    "import progressBar"
   ]
  },
  {
   "cell_type": "code",
   "execution_count": 32,
   "metadata": {},
   "outputs": [
    {
     "name": "stdout",
     "output_type": "stream",
     "text": [
      "464 (32, 32, 1) 371\n"
     ]
    }
   ],
   "source": [
    "testFrac = 0.2\n",
    "\n",
    "unicodeData = pd.read_csv(dataRep+'unicode_translation.csv')\n",
    "\n",
    "raw = np.load('../data/dataset/test2.npz')\n",
    "image = np.expand_dims(raw['image'], 3)\n",
    "charOutput = raw['characterClass']\n",
    "\n",
    "index = np.arange(image.shape[0])\n",
    "np.random.shuffle(index)\n",
    "image = image[index]/255.0\n",
    "charOutput = charOutput[index]\n",
    "\n",
    "nFrac = int(image.shape[0]*(1.-testFrac))\n",
    "print(image.shape[0], image.shape[1:], nFrac)"
   ]
  },
  {
   "cell_type": "code",
   "execution_count": 33,
   "metadata": {},
   "outputs": [
    {
     "name": "stdout",
     "output_type": "stream",
     "text": [
      "Model: \"sequential_5\"\n",
      "_________________________________________________________________\n",
      "Layer (type)                 Output Shape              Param #   \n",
      "=================================================================\n",
      "conv2d_20 (Conv2D)           (None, 30, 30, 16)        160       \n",
      "_________________________________________________________________\n",
      "spatial_dropout2d_20 (Spatia (None, 30, 30, 16)        0         \n",
      "_________________________________________________________________\n",
      "conv2d_21 (Conv2D)           (None, 28, 28, 16)        2320      \n",
      "_________________________________________________________________\n",
      "spatial_dropout2d_21 (Spatia (None, 28, 28, 16)        0         \n",
      "_________________________________________________________________\n",
      "max_pooling2d_5 (MaxPooling2 (None, 14, 14, 16)        0         \n",
      "_________________________________________________________________\n",
      "conv2d_22 (Conv2D)           (None, 12, 12, 32)        4640      \n",
      "_________________________________________________________________\n",
      "spatial_dropout2d_22 (Spatia (None, 12, 12, 32)        0         \n",
      "_________________________________________________________________\n",
      "conv2d_23 (Conv2D)           (None, 10, 10, 32)        9248      \n",
      "_________________________________________________________________\n",
      "spatial_dropout2d_23 (Spatia (None, 10, 10, 32)        0         \n",
      "_________________________________________________________________\n",
      "flatten_5 (Flatten)          (None, 3200)              0         \n",
      "_________________________________________________________________\n",
      "dense_10 (Dense)             (None, 256)               819456    \n",
      "_________________________________________________________________\n",
      "dropout_9 (Dropout)          (None, 256)               0         \n",
      "_________________________________________________________________\n",
      "dense_11 (Dense)             (None, 4787)              1230259   \n",
      "=================================================================\n",
      "Total params: 2,066,083\n",
      "Trainable params: 2,066,083\n",
      "Non-trainable params: 0\n",
      "_________________________________________________________________\n"
     ]
    }
   ],
   "source": [
    "dropoutRate = 0.5\n",
    "\n",
    "model = keras.models.Sequential()\n",
    "model.add(keras.layers.Conv2D(16, (3, 3), activation='relu', input_shape=image.shape[1:]))\n",
    "model.add(keras.layers.SpatialDropout2D(dropoutRate))\n",
    "model.add(keras.layers.Conv2D(16, (3, 3), activation='relu'))\n",
    "model.add(keras.layers.SpatialDropout2D(dropoutRate))\n",
    "model.add(keras.layers.MaxPooling2D((2, 2)))\n",
    "model.add(keras.layers.Conv2D(32, (3, 3), activation='relu'))\n",
    "model.add(keras.layers.SpatialDropout2D(dropoutRate))\n",
    "model.add(keras.layers.Conv2D(32, (3, 3), activation='relu'))\n",
    "model.add(keras.layers.SpatialDropout2D(dropoutRate))\n",
    "model.add(keras.layers.Flatten())\n",
    "model.add(keras.layers.Dense(256, activation='relu'))\n",
    "model.add(keras.layers.Dropout(dropoutRate))\n",
    "model.add(keras.layers.Dense(len(unicodeData), activation='softmax'))\n",
    "model.summary()\n",
    "\n",
    "model.compile(optimizer='adam',loss='sparse_categorical_crossentropy',metrics=['accuracy'])"
   ]
  },
  {
   "cell_type": "code",
   "execution_count": 34,
   "metadata": {},
   "outputs": [
    {
     "name": "stdout",
     "output_type": "stream",
     "text": [
      "Epoch 1/10\n",
      "371/371 [==============================] - 3s 7ms/sample - loss: 8.2142 - acc: 0.0081\n",
      "Epoch 2/10\n",
      "371/371 [==============================] - 2s 6ms/sample - loss: 6.8916 - acc: 0.0296\n",
      "Epoch 3/10\n",
      "371/371 [==============================] - 2s 6ms/sample - loss: 5.9409 - acc: 0.0243\n",
      "Epoch 4/10\n",
      "371/371 [==============================] - 2s 5ms/sample - loss: 5.4742 - acc: 0.0377\n",
      "Epoch 5/10\n",
      "371/371 [==============================] - 2s 6ms/sample - loss: 5.2227 - acc: 0.0485\n",
      "Epoch 6/10\n",
      "371/371 [==============================] - 2s 6ms/sample - loss: 4.9819 - acc: 0.0323\n",
      "Epoch 7/10\n",
      "371/371 [==============================] - 2s 6ms/sample - loss: 4.8819 - acc: 0.0377\n",
      "Epoch 8/10\n",
      "371/371 [==============================] - 2s 6ms/sample - loss: 4.9395 - acc: 0.0350\n",
      "Epoch 9/10\n",
      "371/371 [==============================] - 2s 6ms/sample - loss: 4.8519 - acc: 0.0323\n",
      "Epoch 10/10\n",
      "371/371 [==============================] - 2s 6ms/sample - loss: 4.8242 - acc: 0.0377\n"
     ]
    },
    {
     "data": {
      "text/plain": [
       "<tensorflow.python.keras.callbacks.History at 0x7f4ae00fac18>"
      ]
     },
     "execution_count": 34,
     "metadata": {},
     "output_type": "execute_result"
    }
   ],
   "source": [
    "model.fit(image[:nFrac], charOutput[:nFrac], epochs=10)"
   ]
  },
  {
   "cell_type": "code",
   "execution_count": 30,
   "metadata": {},
   "outputs": [
    {
     "data": {
      "text/plain": [
       "(371, 4787, 1)"
      ]
     },
     "execution_count": 30,
     "metadata": {},
     "output_type": "execute_result"
    }
   ],
   "source": [
    "charOutput[:nFrac].shape"
   ]
  },
  {
   "cell_type": "code",
   "execution_count": 31,
   "metadata": {},
   "outputs": [
    {
     "data": {
      "text/plain": [
       "(None, 4787)"
      ]
     },
     "execution_count": 31,
     "metadata": {},
     "output_type": "execute_result"
    }
   ],
   "source": [
    "model.output_shape"
   ]
  },
  {
   "cell_type": "code",
   "execution_count": 18,
   "metadata": {},
   "outputs": [],
   "source": []
  },
  {
   "cell_type": "code",
   "execution_count": 19,
   "metadata": {},
   "outputs": [
    {
     "data": {
      "text/plain": [
       "array([598418, 466034, 531642, ..., 604534, 292986, 552445])"
      ]
     },
     "execution_count": 19,
     "metadata": {},
     "output_type": "execute_result"
    }
   ],
   "source": [
    "index"
   ]
  },
  {
   "cell_type": "code",
   "execution_count": 23,
   "metadata": {},
   "outputs": [
    {
     "data": {
      "text/plain": [
       "255"
      ]
     },
     "execution_count": 23,
     "metadata": {},
     "output_type": "execute_result"
    }
   ],
   "source": [
    "np.max(image)"
   ]
  },
  {
   "cell_type": "code",
   "execution_count": null,
   "metadata": {},
   "outputs": [],
   "source": []
  }
 ],
 "metadata": {
  "kernelspec": {
   "display_name": "Python 3",
   "language": "python",
   "name": "python3"
  },
  "language_info": {
   "codemirror_mode": {
    "name": "ipython",
    "version": 3
   },
   "file_extension": ".py",
   "mimetype": "text/x-python",
   "name": "python",
   "nbconvert_exporter": "python",
   "pygments_lexer": "ipython3",
   "version": "3.7.3"
  }
 },
 "nbformat": 4,
 "nbformat_minor": 4
}
