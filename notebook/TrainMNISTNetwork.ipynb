{
 "cells": [
  {
   "cell_type": "code",
   "execution_count": null,
   "metadata": {},
   "outputs": [],
   "source": [
    "from tensorflow import keras\n",
    "import numpy as np\n",
    "import pandas as pd\n",
    "import random\n",
    "import os\n",
    "\n",
    "dataRep = '../data/'\n",
    "datasetRep = '../data/dataset/'\n",
    "trainImageRep = '../data/train_images/'\n",
    "scriptRep = '../'\n",
    "\n",
    "#Import the scripts\n",
    "import sys\n",
    "sys.path.insert(1, os.path.abspath(scriptRep))\n",
    "from kuzushiji_recognition import createKMNISTModel1, trainAndEvaluateModel, optimizeHyperParameter"
   ]
  },
  {
   "cell_type": "code",
   "execution_count": null,
   "metadata": {},
   "outputs": [],
   "source": [
    "testFrac = 0.15\n",
    "valFrac = 0.15\n",
    "\n",
    "unicodeData = pd.read_csv(dataRep+'unicode_translation.csv')\n",
    "\n",
    "raw = np.load('../data/dataset/caracterClassificationFull.npz')\n",
    "image = np.expand_dims(raw['image'], 3).copy()\n",
    "charOutput = raw['characterClass'].copy()\n",
    "del raw\n",
    "\n",
    "index = np.arange(image.shape[0])\n",
    "np.random.shuffle(index)\n",
    "image = (image[index]/255.0).astype(np.float16)\n",
    "charOutput = charOutput[index]\n",
    "del index\n",
    "\n",
    "nTest = int(image.shape[0]*(1.-testFrac))\n",
    "nVal = int(image.shape[0]*(1.-testFrac-valFrac))\n",
    "print(image.shape[0], image.shape[1:], nVal, nTest)"
   ]
  },
  {
   "cell_type": "code",
   "execution_count": null,
   "metadata": {},
   "outputs": [],
   "source": [
    "optimizeHyperParameter((lambda filenameModel, dropout, batchsize, convolution, dense: trainAndEvaluateModel(createKMNISTModel1(image[0].shape, \n",
    "                                                                                                                               len(unicodeData),\n",
    "                                                                                                                               dropout/20.,\n",
    "                                                                                                                               2**(convolution),\n",
    "                                                                                                                               2**(dense)),\n",
    "                                                                                                            filenameModel, 2**(batchsize),\n",
    "                                                                                                            image, charOutput,\n",
    "                                                                                                            nVal, nTest)),\n",
    "                       '../models/KMNIST1.h5', resultsFile='../models/KMNIST1_Train.npz',\n",
    "                       initialValue = [5, 8, 7, 8], boundValue=[[0,20],[0,10],[2,10],[2,10]],\n",
    "                       parameterName=['Dropout', 'Batchsize', 'Convolution', 'Dense'],\n",
    "                       step=1, maxIter=10, testRandom=False)"
   ]
  },
  {
   "cell_type": "code",
   "execution_count": null,
   "metadata": {},
   "outputs": [],
   "source": [
    "optimizeHyperParameter((lambda filenameModel, dropout, batchsize, convolution, dense: trainAndEvaluateModel(createKMNISTModel1(image[0].shape, \n",
    "                                                                                                                               len(unicodeData),\n",
    "                                                                                                                               dropout/20.,\n",
    "                                                                                                                               2**(convolution),\n",
    "                                                                                                                               2**(dense)),\n",
    "                                                                                                            filenameModel, 2**(batchsize),\n",
    "                                                                                                            image, charOutput,\n",
    "                                                                                                            nVal, nTest)),\n",
    "                       '../models/KMNIST1.h5', resultsFile='../models/KMNIST1_Train.npz',\n",
    "                       initialValue = None, step=1, maxIter=30, testRandom=True)"
   ]
  },
  {
   "cell_type": "code",
   "execution_count": null,
   "metadata": {},
   "outputs": [],
   "source": []
  }
 ],
 "metadata": {
  "kernelspec": {
   "display_name": "Python 3",
   "language": "python",
   "name": "python3"
  },
  "language_info": {
   "codemirror_mode": {
    "name": "ipython",
    "version": 3
   },
   "file_extension": ".py",
   "mimetype": "text/x-python",
   "name": "python",
   "nbconvert_exporter": "python",
   "pygments_lexer": "ipython3",
   "version": "3.7.3"
  }
 },
 "nbformat": 4,
 "nbformat_minor": 4
}
