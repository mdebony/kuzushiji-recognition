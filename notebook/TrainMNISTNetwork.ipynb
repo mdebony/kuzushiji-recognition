{
 "cells": [
  {
   "cell_type": "code",
   "execution_count": 2,
   "metadata": {},
   "outputs": [],
   "source": [
    "from tensorflow import keras\n",
    "import numpy as np\n",
    "import pandas as pd\n",
    "import random\n",
    "import os\n",
    "\n",
    "dataRep = '../data/'\n",
    "scriptRep = '../kuzushiji_recognition/'\n",
    "\n",
    "# some_file.py\n",
    "import sys\n",
    "# insert at 1, 0 is the script path (or '' in REPL)\n",
    "sys.path.insert(1, scriptRep)\n",
    "import progressBar"
   ]
  },
  {
   "cell_type": "code",
   "execution_count": 3,
   "metadata": {},
   "outputs": [
    {
     "name": "stdout",
     "output_type": "stream",
     "text": [
      "500 (32, 32, 1) 350 425\n"
     ]
    }
   ],
   "source": [
    "testFrac = 0.15\n",
    "valFrac = 0.15\n",
    "\n",
    "unicodeData = pd.read_csv(dataRep+'unicode_translation.csv')\n",
    "\n",
    "raw = np.load('../data/dataset/caracterClassificationFull.npz')\n",
    "image = np.expand_dims(raw['image'], 3)\n",
    "charOutput = raw['characterClass']\n",
    "\n",
    "index = np.arange(image.shape[0])\n",
    "np.random.shuffle(index)\n",
    "image = image[index]/255.0\n",
    "charOutput = charOutput[index]\n",
    "\n",
    "nFrac = int(image.shape[0]*(1.-testFrac))\n",
    "nVal = int(image.shape[0]*(1.-testFrac-valFrac))\n",
    "print(image.shape[0], image.shape[1:], nVal, nFrac)"
   ]
  },
  {
   "cell_type": "code",
   "execution_count": 4,
   "metadata": {},
   "outputs": [],
   "source": [
    "def trainAndEvaluateModel(model, filenameModel, batchSize):\n",
    "    \n",
    "    checkpoint = keras.callbacks.ModelCheckpoint(filepath=filenameModel,\n",
    "                                                 monitor='val_loss',\n",
    "                                                 verbose=0,\n",
    "                                                 save_best_only=True,\n",
    "                                                 mode='auto', period=1)\n",
    "    history = keras.callbacks.History()\n",
    "    reduceLR = keras.callbacks.ReduceLROnPlateau(monitor='val_loss',\n",
    "                                                 factor=0.1, patience=2,\n",
    "                                                 verbose=0,\n",
    "                                                 mode='auto')\n",
    "    earlyStop = keras.callbacks.EarlyStopping(monitor='val_loss',\n",
    "                                              min_delta=1e-7, patience=5,\n",
    "                                              verbose=0, mode='auto')\n",
    "    callbacks = [checkpoint, history, reduceLR, earlyStop]\n",
    "    \n",
    "    model.compile(optimizer='adam', loss='sparse_categorical_crossentropy', metrics=['accuracy'])\n",
    "    model.fit(image[:nVal], charOutput[:nVal], epochs=50, batch_size=batchSize,\n",
    "              validation_data=(image[nVal:nFrac], charOutput[nVal:nFrac]), shuffle=True, callbacks=callbacks)\n",
    "        \n",
    "    test_loss, test_acc = model.evaluate(image[nFrac:], charOutput[nFrac:])\n",
    "    \n",
    "    return test_loss\n",
    "\n",
    "\n",
    "def optimizeHyperParameter(funcCreateModel, filenameModel, dropoutLimit=(0.,1.0), batchSizeLimit=(1,10), convolutionLayerLimit=(2,10), denseLayerLimit=(2,10), maxIter=30):\n",
    "    \n",
    "    i=0\n",
    "    stop=False\n",
    "    curentParam = [0.5, 5, 4, 8] # (dropout, batchsize, convolution, dense)\n",
    "    \n",
    "    stdLoss = trainAndEvaluateModel(funcCreateModel(curentParam[0], 2**(curentParam[2]), 2**(curentParam[3])), filenameModel, 2**(curentParam[1]))\n",
    "    \n",
    "    while (i<maxIter) and not stop:\n",
    "        i+=1\n",
    "        stop=True\n",
    "        \n",
    "        if (curentParam[0]-0.1) >= dropoutLimit[0]:\n",
    "            print(\"Test dropout\")\n",
    "            testLoss = trainAndEvaluateModel(funcCreateModel(curentParam[0]-0.1, 2**(curentParam[2]), 2**(curentParam[3])),\n",
    "                                             'temp.h5', 2**(curentParam[1]))\n",
    "            if testLoss < stdLoss:\n",
    "                stop=False\n",
    "                stdLoss = testLoss\n",
    "                curentParam[0] -= 0.1\n",
    "                os.system(\"cp temp.h5 \"+filenameModel)\n",
    "            \n",
    "        if (curentParam[0]+0.1) <= dropoutLimit[1]:\n",
    "            print(\"Test dropout\")\n",
    "            testLoss = trainAndEvaluateModel(funcCreateModel(curentParam[0]+0.1, 2**(curentParam[2]), 2**(curentParam[3])),\n",
    "                                             'temp.h5', 2**(curentParam[1]))\n",
    "            if testLoss < stdLoss:\n",
    "                stop=False\n",
    "                stdLoss = testLoss\n",
    "                curentParam[0] += 0.1\n",
    "                os.system(\"cp temp.h5 \"+filenameModel)\n",
    "                \n",
    "                \n",
    "        if (curentParam[1]-1) >= batchSizeLimit[0]:\n",
    "            print(\"Test batchsize\")\n",
    "            testLoss = trainAndEvaluateModel(funcCreateModel(curentParam[0], 2**(curentParam[2]), 2**(curentParam[3])),\n",
    "                                             'temp.h5', 2**(curentParam[1]-1))\n",
    "            if testLoss < stdLoss:\n",
    "                stop=False\n",
    "                stdLoss = testLoss\n",
    "                curentParam[1] -= 1\n",
    "                os.system(\"cp temp.h5 \"+filenameModel)\n",
    "            \n",
    "        if (curentParam[1]+1) <= batchSizeLimit[1]:\n",
    "            print(\"Test batchsize\")\n",
    "            testLoss = trainAndEvaluateModel(funcCreateModel(curentParam[0], 2**(curentParam[2]), 2**(curentParam[3])),\n",
    "                                             'temp.h5', 2**(curentParam[1]+1))\n",
    "            if testLoss < stdLoss:\n",
    "                stop=False\n",
    "                stdLoss = testLoss\n",
    "                curentParam[1] += 1\n",
    "                os.system(\"cp temp.h5 \"+filenameModel)\n",
    "                \n",
    "        if (curentParam[2]-1) >= convolutionLayerLimit[0]:\n",
    "            print(\"Test convolution\")\n",
    "            testLoss = trainAndEvaluateModel(funcCreateModel(curentParam[0], 2**(curentParam[2]-1), 2**(curentParam[3])),\n",
    "                                             'temp.h5', 2**(curentParam[1]))\n",
    "            if testLoss < stdLoss:\n",
    "                stop=False\n",
    "                stdLoss = testLoss\n",
    "                curentParam[2] -= 1\n",
    "                os.system(\"cp temp.h5 \"+filenameModel)\n",
    "            \n",
    "        if (curentParam[2]+1) <= convolutionLayerLimit[1]:\n",
    "            print(\"Test convolution\")\n",
    "            testLoss = trainAndEvaluateModel(funcCreateModel(curentParam[0], 2**(curentParam[2]+1), 2**(curentParam[3])),\n",
    "                                             'temp.h5', 2**(curentParam[1]))\n",
    "            if testLoss < stdLoss:\n",
    "                stop=False\n",
    "                stdLoss = testLoss\n",
    "                curentParam[2] += 1\n",
    "                os.system(\"cp temp.h5 \"+filenameModel)\n",
    "                \n",
    "        if (curentParam[3]-1) >= denseLayerLimit[0]:\n",
    "            print(\"Test dense\")\n",
    "            testLoss = trainAndEvaluateModel(funcCreateModel(curentParam[0], 2**(curentParam[2]), 2**(curentParam[3]-1)),\n",
    "                                             'temp.h5', 2**(curentParam[1]))\n",
    "            if testLoss < stdLoss:\n",
    "                stop=False\n",
    "                stdLoss = testLoss\n",
    "                curentParam[3] -= 1\n",
    "                os.system(\"cp temp.h5 \"+filenameModel)\n",
    "            \n",
    "        if (curentParam[3]+1) <= denseLayerLimit[1]:\n",
    "            print(\"Test dense\")\n",
    "            testLoss = trainAndEvaluateModel(funcCreateModel(curentParam[0], 2**(curentParam[2]), 2**(curentParam[3]+1)),\n",
    "                                             'temp.h5', 2**(curentParam[1]))\n",
    "            if testLoss < stdLoss:\n",
    "                stop=False\n",
    "                stdLoss = testLoss\n",
    "                curentParam[3] += 1\n",
    "                os.system(\"cp temp.h5 \"+filenameModel)\n",
    "                \n",
    "    print('Dropout :', curentParam[0])\n",
    "    print('Batch Size :', 2**curentParam[1])\n",
    "    print('Convolutional layer :', 2**curentParam[2])\n",
    "    print('Dense Layer :', 2**curentParam[3])\n",
    "    os.system(\"rm temp.h5\")\n",
    "        \n",
    "def createModel1(dropoutRate, convLayer, denseLayer):\n",
    "    \n",
    "    model = keras.models.Sequential()\n",
    "    model.add(keras.layers.Conv2D(convLayer, (3, 3), activation='relu', input_shape=image.shape[1:]))\n",
    "    model.add(keras.layers.SpatialDropout2D(dropoutRate))\n",
    "    model.add(keras.layers.Conv2D(convLayer, (3, 3), activation='relu'))\n",
    "    model.add(keras.layers.SpatialDropout2D(dropoutRate))\n",
    "    model.add(keras.layers.MaxPooling2D((2, 2)))\n",
    "    model.add(keras.layers.Conv2D(convLayer*2, (3, 3), activation='relu'))\n",
    "    model.add(keras.layers.SpatialDropout2D(dropoutRate))\n",
    "    model.add(keras.layers.Conv2D(convLayer*2, (3, 3), activation='relu'))\n",
    "    model.add(keras.layers.SpatialDropout2D(dropoutRate))\n",
    "    model.add(keras.layers.Flatten())\n",
    "    model.add(keras.layers.Dense(denseLayer, activation='relu'))\n",
    "    model.add(keras.layers.Dropout(dropoutRate))\n",
    "    model.add(keras.layers.Dense(len(unicodeData), activation='softmax'))\n",
    "    \n",
    "    return model\n",
    "    "
   ]
  },
  {
   "cell_type": "code",
   "execution_count": 5,
   "metadata": {},
   "outputs": [
    {
     "name": "stderr",
     "output_type": "stream",
     "text": [
      "WARNING: Logging before flag parsing goes to stderr.\n",
      "W0901 19:22:36.524161 140708058982208 deprecation.py:506] From /home/mathieu/miniconda3/envs/mlearning/lib/python3.7/site-packages/tensorflow/python/ops/init_ops.py:1251: calling VarianceScaling.__init__ (from tensorflow.python.ops.init_ops) with dtype is deprecated and will be removed in a future version.\n",
      "Instructions for updating:\n",
      "Call initializer instance with the dtype argument instead of passing it to the constructor\n",
      "W0901 19:22:36.711377 140708058982208 callbacks.py:875] `period` argument is deprecated. Please use `save_freq` to specify the frequency in number of samples seen.\n"
     ]
    },
    {
     "name": "stdout",
     "output_type": "stream",
     "text": [
      "Train on 350 samples, validate on 75 samples\n",
      "Epoch 1/50\n",
      "350/350 [==============================] - 1s 3ms/sample - loss: 8.1894 - acc: 0.0200 - val_loss: 7.5267 - val_acc: 0.0267\n",
      "Epoch 2/50\n",
      "350/350 [==============================] - 0s 1ms/sample - loss: 6.6661 - acc: 0.0400 - val_loss: 6.6041 - val_acc: 0.0133\n",
      "Epoch 3/50\n",
      "350/350 [==============================] - 0s 957us/sample - loss: 5.8770 - acc: 0.0229 - val_loss: 6.7577 - val_acc: 0.0667\n",
      "Epoch 4/50\n",
      "350/350 [==============================] - 0s 1ms/sample - loss: 5.5134 - acc: 0.0257 - val_loss: 6.6430 - val_acc: 0.0667\n",
      "Epoch 5/50\n",
      "350/350 [==============================] - 0s 1ms/sample - loss: 5.1381 - acc: 0.0371 - val_loss: 6.5271 - val_acc: 0.0667\n",
      "Epoch 6/50\n",
      "350/350 [==============================] - 0s 1ms/sample - loss: 5.1135 - acc: 0.0429 - val_loss: 6.3724 - val_acc: 0.0667\n",
      "Epoch 7/50\n",
      "350/350 [==============================] - 0s 1ms/sample - loss: 5.1169 - acc: 0.0200 - val_loss: 6.2945 - val_acc: 0.0667\n",
      "Epoch 8/50\n",
      "350/350 [==============================] - 0s 980us/sample - loss: 4.9805 - acc: 0.0343 - val_loss: 6.2759 - val_acc: 0.0667\n",
      "Epoch 9/50\n",
      "350/350 [==============================] - 0s 1ms/sample - loss: 5.0216 - acc: 0.0343 - val_loss: 6.2737 - val_acc: 0.0667\n",
      "Epoch 10/50\n",
      "350/350 [==============================] - 0s 871us/sample - loss: 5.0820 - acc: 0.0229 - val_loss: 6.3246 - val_acc: 0.0667\n",
      "Epoch 11/50\n",
      "350/350 [==============================] - 0s 1ms/sample - loss: 4.9812 - acc: 0.0286 - val_loss: 6.2919 - val_acc: 0.0667\n",
      "Epoch 12/50\n",
      "350/350 [==============================] - 0s 968us/sample - loss: 4.9895 - acc: 0.0514 - val_loss: 6.2860 - val_acc: 0.0667\n",
      "Epoch 13/50\n",
      "350/350 [==============================] - 0s 940us/sample - loss: 5.0045 - acc: 0.0343 - val_loss: 6.2800 - val_acc: 0.0667\n",
      "Epoch 14/50\n",
      "350/350 [==============================] - 0s 965us/sample - loss: 4.9598 - acc: 0.0400 - val_loss: 6.2797 - val_acc: 0.0667\n",
      "75/75 [==============================] - 0s 200us/sample - loss: 6.4500 - acc: 0.0267\n",
      "Test dropout\n"
     ]
    },
    {
     "name": "stderr",
     "output_type": "stream",
     "text": [
      "W0901 19:22:43.444675 140708058982208 callbacks.py:875] `period` argument is deprecated. Please use `save_freq` to specify the frequency in number of samples seen.\n"
     ]
    },
    {
     "name": "stdout",
     "output_type": "stream",
     "text": [
      "Train on 350 samples, validate on 75 samples\n",
      "Epoch 1/50\n",
      "350/350 [==============================] - 1s 3ms/sample - loss: 8.2185 - acc: 0.0314 - val_loss: 6.9563 - val_acc: 0.0667\n",
      "Epoch 2/50\n",
      "350/350 [==============================] - 0s 1ms/sample - loss: 6.5124 - acc: 0.0200 - val_loss: 6.7265 - val_acc: 0.0133\n",
      "Epoch 3/50\n",
      "350/350 [==============================] - 0s 1ms/sample - loss: 5.5443 - acc: 0.0171 - val_loss: 6.0739 - val_acc: 0.0267\n",
      "Epoch 4/50\n",
      "350/350 [==============================] - 0s 1ms/sample - loss: 5.0968 - acc: 0.0314 - val_loss: 5.9768 - val_acc: 0.0667\n",
      "Epoch 5/50\n",
      "350/350 [==============================] - 0s 884us/sample - loss: 4.8913 - acc: 0.0486 - val_loss: 6.0139 - val_acc: 0.0667\n",
      "Epoch 6/50\n",
      "350/350 [==============================] - 0s 1ms/sample - loss: 4.8214 - acc: 0.0457 - val_loss: 5.9119 - val_acc: 0.0667\n",
      "Epoch 7/50\n",
      "350/350 [==============================] - 0s 917us/sample - loss: 4.7670 - acc: 0.0486 - val_loss: 5.9126 - val_acc: 0.0667\n",
      "Epoch 8/50\n",
      "350/350 [==============================] - 0s 1ms/sample - loss: 4.7200 - acc: 0.0429 - val_loss: 5.9288 - val_acc: 0.0667\n",
      "Epoch 9/50\n",
      "350/350 [==============================] - 0s 901us/sample - loss: 4.6611 - acc: 0.0257 - val_loss: 5.9406 - val_acc: 0.0667\n",
      "Epoch 10/50\n",
      "350/350 [==============================] - 0s 894us/sample - loss: 4.6853 - acc: 0.0400 - val_loss: 5.9355 - val_acc: 0.0667\n",
      "Epoch 11/50\n",
      "350/350 [==============================] - 0s 923us/sample - loss: 4.7153 - acc: 0.0400 - val_loss: 5.9347 - val_acc: 0.0667\n",
      "75/75 [==============================] - 0s 306us/sample - loss: 6.2697 - acc: 0.0267\n",
      "Test dropout\n"
     ]
    },
    {
     "name": "stderr",
     "output_type": "stream",
     "text": [
      "W0901 19:22:49.135025 140708058982208 callbacks.py:875] `period` argument is deprecated. Please use `save_freq` to specify the frequency in number of samples seen.\n"
     ]
    },
    {
     "name": "stdout",
     "output_type": "stream",
     "text": [
      "Train on 350 samples, validate on 75 samples\n",
      "Epoch 1/50\n",
      "350/350 [==============================] - 1s 4ms/sample - loss: 8.3239 - acc: 0.0171 - val_loss: 7.8822 - val_acc: 0.0667\n",
      "Epoch 2/50\n",
      "350/350 [==============================] - 0s 1ms/sample - loss: 7.1131 - acc: 0.0286 - val_loss: 6.8146 - val_acc: 0.0267\n",
      "Epoch 3/50\n",
      "350/350 [==============================] - 0s 1ms/sample - loss: 5.9817 - acc: 0.0229 - val_loss: 6.0811 - val_acc: 0.0267\n",
      "Epoch 4/50\n",
      "350/350 [==============================] - 0s 929us/sample - loss: 5.3445 - acc: 0.0229 - val_loss: 6.3495 - val_acc: 0.0800\n",
      "Epoch 5/50\n",
      "350/350 [==============================] - 0s 1ms/sample - loss: 5.0078 - acc: 0.0457 - val_loss: 5.8619 - val_acc: 0.0667\n",
      "Epoch 6/50\n",
      "350/350 [==============================] - 0s 899us/sample - loss: 4.8794 - acc: 0.0457 - val_loss: 5.8639 - val_acc: 0.0667\n",
      "Epoch 7/50\n",
      "350/350 [==============================] - 0s 1ms/sample - loss: 4.8230 - acc: 0.0343 - val_loss: 5.8936 - val_acc: 0.0667\n",
      "Epoch 8/50\n",
      "350/350 [==============================] - 0s 911us/sample - loss: 4.7926 - acc: 0.0400 - val_loss: 5.8862 - val_acc: 0.0667\n",
      "Epoch 9/50\n",
      "350/350 [==============================] - 0s 899us/sample - loss: 4.7499 - acc: 0.0486 - val_loss: 5.8800 - val_acc: 0.0667\n",
      "Epoch 10/50\n",
      "350/350 [==============================] - 0s 937us/sample - loss: 4.7671 - acc: 0.0486 - val_loss: 5.8800 - val_acc: 0.0667\n",
      "75/75 [==============================] - 0s 325us/sample - loss: 6.1783 - acc: 0.0267\n",
      "Test batchsize\n"
     ]
    },
    {
     "name": "stderr",
     "output_type": "stream",
     "text": [
      "W0901 19:22:54.584731 140708058982208 callbacks.py:875] `period` argument is deprecated. Please use `save_freq` to specify the frequency in number of samples seen.\n"
     ]
    },
    {
     "name": "stdout",
     "output_type": "stream",
     "text": [
      "Train on 350 samples, validate on 75 samples\n",
      "Epoch 1/50\n",
      "350/350 [==============================] - 2s 5ms/sample - loss: 8.0562 - acc: 0.0171 - val_loss: 7.0876 - val_acc: 0.0667\n",
      "Epoch 2/50\n",
      "350/350 [==============================] - 0s 1ms/sample - loss: 6.4649 - acc: 0.0171 - val_loss: 7.2179 - val_acc: 0.0133\n",
      "Epoch 3/50\n",
      "350/350 [==============================] - 0s 1ms/sample - loss: 5.7469 - acc: 0.0314 - val_loss: 6.4950 - val_acc: 0.0667\n",
      "Epoch 4/50\n",
      "350/350 [==============================] - 1s 1ms/sample - loss: 5.1946 - acc: 0.0457 - val_loss: 6.2003 - val_acc: 0.0267\n",
      "Epoch 5/50\n",
      "350/350 [==============================] - 1s 1ms/sample - loss: 5.1674 - acc: 0.0400 - val_loss: 5.8675 - val_acc: 0.0267\n",
      "Epoch 6/50\n",
      "350/350 [==============================] - 0s 1ms/sample - loss: 4.9597 - acc: 0.0457 - val_loss: 5.8645 - val_acc: 0.0667\n",
      "Epoch 7/50\n",
      "350/350 [==============================] - 0s 1ms/sample - loss: 4.8612 - acc: 0.0543 - val_loss: 5.9361 - val_acc: 0.0667\n",
      "Epoch 8/50\n",
      "350/350 [==============================] - 1s 2ms/sample - loss: 4.8308 - acc: 0.0371 - val_loss: 6.0688 - val_acc: 0.0667\n",
      "Epoch 9/50\n",
      "350/350 [==============================] - 0s 1ms/sample - loss: 4.6838 - acc: 0.0514 - val_loss: 6.1012 - val_acc: 0.0667\n",
      "Epoch 10/50\n",
      "350/350 [==============================] - 1s 2ms/sample - loss: 4.7062 - acc: 0.0457 - val_loss: 6.1253 - val_acc: 0.0667\n",
      "Epoch 11/50\n",
      "350/350 [==============================] - 0s 1ms/sample - loss: 4.7548 - acc: 0.0400 - val_loss: 6.1256 - val_acc: 0.0667\n",
      "75/75 [==============================] - 0s 270us/sample - loss: 6.4977 - acc: 0.0267\n",
      "Test batchsize\n"
     ]
    },
    {
     "name": "stderr",
     "output_type": "stream",
     "text": [
      "W0901 19:23:02.118506 140708058982208 callbacks.py:875] `period` argument is deprecated. Please use `save_freq` to specify the frequency in number of samples seen.\n"
     ]
    },
    {
     "name": "stdout",
     "output_type": "stream",
     "text": [
      "Train on 350 samples, validate on 75 samples\n",
      "Epoch 1/50\n",
      "350/350 [==============================] - 1s 4ms/sample - loss: 8.3985 - acc: 0.0143 - val_loss: 8.2255 - val_acc: 0.0267\n",
      "Epoch 2/50\n",
      "350/350 [==============================] - 0s 955us/sample - loss: 7.2095 - acc: 0.0486 - val_loss: 6.2648 - val_acc: 0.0267\n",
      "Epoch 3/50\n",
      "350/350 [==============================] - 0s 834us/sample - loss: 6.3241 - acc: 0.0286 - val_loss: 6.5274 - val_acc: 0.0000e+00\n",
      "Epoch 4/50\n",
      "350/350 [==============================] - 0s 1ms/sample - loss: 5.7555 - acc: 0.0257 - val_loss: 6.7176 - val_acc: 0.0000e+00\n",
      "Epoch 5/50\n",
      "350/350 [==============================] - 0s 781us/sample - loss: 5.5587 - acc: 0.0229 - val_loss: 6.6891 - val_acc: 0.0000e+00\n",
      "Epoch 6/50\n",
      "350/350 [==============================] - 0s 704us/sample - loss: 5.3883 - acc: 0.0229 - val_loss: 6.6245 - val_acc: 0.0000e+00\n",
      "Epoch 7/50\n",
      "350/350 [==============================] - 0s 744us/sample - loss: 5.3419 - acc: 0.0371 - val_loss: 6.6158 - val_acc: 0.0000e+00\n",
      "75/75 [==============================] - 0s 275us/sample - loss: 6.7392 - acc: 0.0000e+00\n",
      "Test convolution\n"
     ]
    },
    {
     "name": "stderr",
     "output_type": "stream",
     "text": [
      "W0901 19:23:06.433179 140708058982208 callbacks.py:875] `period` argument is deprecated. Please use `save_freq` to specify the frequency in number of samples seen.\n"
     ]
    },
    {
     "name": "stdout",
     "output_type": "stream",
     "text": [
      "Train on 350 samples, validate on 75 samples\n",
      "Epoch 1/50\n",
      "350/350 [==============================] - 2s 5ms/sample - loss: 8.3315 - acc: 0.0171 - val_loss: 8.0436 - val_acc: 0.0667\n",
      "Epoch 2/50\n",
      "350/350 [==============================] - 0s 770us/sample - loss: 7.2330 - acc: 0.0257 - val_loss: 6.6359 - val_acc: 0.0400\n",
      "Epoch 3/50\n",
      "350/350 [==============================] - 0s 843us/sample - loss: 6.1263 - acc: 0.0257 - val_loss: 6.3240 - val_acc: 0.0133\n",
      "Epoch 4/50\n",
      "350/350 [==============================] - 0s 860us/sample - loss: 5.7134 - acc: 0.0371 - val_loss: 6.1427 - val_acc: 0.0667\n",
      "Epoch 5/50\n",
      "350/350 [==============================] - 0s 755us/sample - loss: 5.2829 - acc: 0.0400 - val_loss: 5.9551 - val_acc: 0.0667\n",
      "Epoch 6/50\n",
      "350/350 [==============================] - 0s 747us/sample - loss: 4.9523 - acc: 0.0457 - val_loss: 5.8815 - val_acc: 0.0267\n",
      "Epoch 7/50\n",
      "350/350 [==============================] - 0s 815us/sample - loss: 4.9269 - acc: 0.0200 - val_loss: 5.9259 - val_acc: 0.0800\n",
      "Epoch 8/50\n",
      "350/350 [==============================] - 0s 1ms/sample - loss: 4.7914 - acc: 0.0343 - val_loss: 6.0183 - val_acc: 0.0667\n",
      "Epoch 9/50\n",
      "350/350 [==============================] - 0s 681us/sample - loss: 4.7673 - acc: 0.0486 - val_loss: 6.0301 - val_acc: 0.0667\n",
      "Epoch 10/50\n",
      "350/350 [==============================] - 0s 659us/sample - loss: 4.7515 - acc: 0.0200 - val_loss: 6.0340 - val_acc: 0.0667\n",
      "Epoch 11/50\n",
      "350/350 [==============================] - 0s 649us/sample - loss: 4.7644 - acc: 0.0486 - val_loss: 6.0343 - val_acc: 0.0667\n",
      "75/75 [==============================] - 0s 256us/sample - loss: 6.3571 - acc: 0.0267\n",
      "Test convolution\n"
     ]
    },
    {
     "name": "stderr",
     "output_type": "stream",
     "text": [
      "W0901 19:23:11.814210 140708058982208 callbacks.py:875] `period` argument is deprecated. Please use `save_freq` to specify the frequency in number of samples seen.\n"
     ]
    },
    {
     "name": "stdout",
     "output_type": "stream",
     "text": [
      "Train on 350 samples, validate on 75 samples\n",
      "Epoch 1/50\n",
      "350/350 [==============================] - 2s 6ms/sample - loss: 8.1305 - acc: 0.0086 - val_loss: 6.4976 - val_acc: 0.0667\n",
      "Epoch 2/50\n",
      "350/350 [==============================] - 0s 1ms/sample - loss: 6.4885 - acc: 0.0229 - val_loss: 6.5413 - val_acc: 0.0000e+00\n",
      "Epoch 3/50\n",
      "350/350 [==============================] - 1s 2ms/sample - loss: 5.5764 - acc: 0.0229 - val_loss: 6.7249 - val_acc: 0.0267\n",
      "Epoch 4/50\n",
      "350/350 [==============================] - 0s 1ms/sample - loss: 5.2269 - acc: 0.0286 - val_loss: 6.6755 - val_acc: 0.0533\n",
      "Epoch 5/50\n",
      "350/350 [==============================] - 0s 1ms/sample - loss: 5.1814 - acc: 0.0314 - val_loss: 6.6727 - val_acc: 0.0667\n",
      "Epoch 6/50\n",
      "350/350 [==============================] - 0s 1ms/sample - loss: 5.2722 - acc: 0.0343 - val_loss: 6.6676 - val_acc: 0.0667\n",
      "75/75 [==============================] - 0s 347us/sample - loss: 6.8657 - acc: 0.0267\n",
      "Test dense\n"
     ]
    },
    {
     "name": "stderr",
     "output_type": "stream",
     "text": [
      "W0901 19:23:17.586746 140708058982208 callbacks.py:875] `period` argument is deprecated. Please use `save_freq` to specify the frequency in number of samples seen.\n"
     ]
    },
    {
     "name": "stdout",
     "output_type": "stream",
     "text": [
      "Train on 350 samples, validate on 75 samples\n",
      "Epoch 1/50\n",
      "350/350 [==============================] - 2s 5ms/sample - loss: 8.3441 - acc: 0.0171 - val_loss: 7.9750 - val_acc: 0.0667\n",
      "Epoch 2/50\n",
      "350/350 [==============================] - 0s 911us/sample - loss: 7.2156 - acc: 0.0371 - val_loss: 6.4524 - val_acc: 0.0267\n",
      "Epoch 3/50\n",
      "350/350 [==============================] - 0s 780us/sample - loss: 6.0220 - acc: 0.0314 - val_loss: 6.5352 - val_acc: 0.0267\n",
      "Epoch 4/50\n",
      "350/350 [==============================] - 0s 1ms/sample - loss: 5.5990 - acc: 0.0286 - val_loss: 6.6785 - val_acc: 0.0667\n",
      "Epoch 5/50\n",
      "350/350 [==============================] - 0s 770us/sample - loss: 5.2614 - acc: 0.0171 - val_loss: 6.6013 - val_acc: 0.0667\n",
      "Epoch 6/50\n",
      "350/350 [==============================] - 0s 833us/sample - loss: 5.2156 - acc: 0.0200 - val_loss: 6.4386 - val_acc: 0.0667\n",
      "Epoch 7/50\n",
      "350/350 [==============================] - 0s 840us/sample - loss: 5.1945 - acc: 0.0400 - val_loss: 6.3833 - val_acc: 0.0667\n",
      "Epoch 8/50\n",
      "350/350 [==============================] - 0s 852us/sample - loss: 5.1664 - acc: 0.0371 - val_loss: 6.3468 - val_acc: 0.0667\n",
      "Epoch 9/50\n",
      "350/350 [==============================] - 0s 809us/sample - loss: 5.2362 - acc: 0.0429 - val_loss: 6.3514 - val_acc: 0.0667\n",
      "Epoch 10/50\n",
      "350/350 [==============================] - 0s 813us/sample - loss: 5.1551 - acc: 0.0286 - val_loss: 6.3434 - val_acc: 0.0667\n",
      "Epoch 11/50\n",
      "350/350 [==============================] - 0s 833us/sample - loss: 5.1624 - acc: 0.0286 - val_loss: 6.2620 - val_acc: 0.0800\n",
      "Epoch 12/50\n",
      "350/350 [==============================] - 0s 862us/sample - loss: 5.1012 - acc: 0.0343 - val_loss: 6.2138 - val_acc: 0.0667\n",
      "Epoch 13/50\n",
      "350/350 [==============================] - 0s 827us/sample - loss: 4.9988 - acc: 0.0343 - val_loss: 6.2120 - val_acc: 0.0667\n",
      "Epoch 14/50\n",
      "350/350 [==============================] - 0s 792us/sample - loss: 5.0186 - acc: 0.0371 - val_loss: 6.2476 - val_acc: 0.0667\n",
      "Epoch 15/50\n",
      "350/350 [==============================] - 0s 785us/sample - loss: 5.0118 - acc: 0.0286 - val_loss: 6.2149 - val_acc: 0.0667\n",
      "Epoch 16/50\n",
      "350/350 [==============================] - 0s 771us/sample - loss: 4.9817 - acc: 0.0343 - val_loss: 6.2130 - val_acc: 0.0667\n",
      "Epoch 17/50\n",
      "350/350 [==============================] - 0s 1ms/sample - loss: 4.9266 - acc: 0.0314 - val_loss: 6.2120 - val_acc: 0.0667\n",
      "Epoch 18/50\n",
      "350/350 [==============================] - 0s 1ms/sample - loss: 5.0041 - acc: 0.0257 - val_loss: 6.2120 - val_acc: 0.0667\n",
      "Epoch 19/50\n",
      "350/350 [==============================] - 0s 1ms/sample - loss: 5.0008 - acc: 0.0257 - val_loss: 6.2118 - val_acc: 0.0667\n",
      "Epoch 20/50\n",
      "350/350 [==============================] - 0s 870us/sample - loss: 4.9645 - acc: 0.0257 - val_loss: 6.2117 - val_acc: 0.0667\n",
      "Epoch 21/50\n",
      "350/350 [==============================] - 0s 879us/sample - loss: 5.0432 - acc: 0.0286 - val_loss: 6.2114 - val_acc: 0.0667\n",
      "Epoch 22/50\n",
      "350/350 [==============================] - 0s 882us/sample - loss: 4.9305 - acc: 0.0314 - val_loss: 6.2113 - val_acc: 0.0667\n",
      "Epoch 23/50\n",
      "350/350 [==============================] - 0s 950us/sample - loss: 5.0441 - acc: 0.0371 - val_loss: 6.2109 - val_acc: 0.0667\n",
      "Epoch 24/50\n",
      "350/350 [==============================] - 0s 1ms/sample - loss: 5.0221 - acc: 0.0429 - val_loss: 6.2105 - val_acc: 0.0667\n",
      "Epoch 25/50\n",
      "350/350 [==============================] - 0s 891us/sample - loss: 5.0197 - acc: 0.0371 - val_loss: 6.2104 - val_acc: 0.0667\n",
      "Epoch 26/50\n",
      "350/350 [==============================] - 0s 871us/sample - loss: 5.0401 - acc: 0.0457 - val_loss: 6.2102 - val_acc: 0.0667\n",
      "Epoch 27/50\n",
      "350/350 [==============================] - 0s 799us/sample - loss: 5.0665 - acc: 0.0371 - val_loss: 6.2103 - val_acc: 0.0667\n",
      "Epoch 28/50\n",
      "350/350 [==============================] - 0s 920us/sample - loss: 5.0453 - acc: 0.0343 - val_loss: 6.2102 - val_acc: 0.0667\n",
      "Epoch 29/50\n",
      "350/350 [==============================] - 0s 898us/sample - loss: 4.9549 - acc: 0.0314 - val_loss: 6.2102 - val_acc: 0.0667\n",
      "Epoch 30/50\n",
      "350/350 [==============================] - 0s 909us/sample - loss: 5.0137 - acc: 0.0371 - val_loss: 6.2102 - val_acc: 0.0667\n",
      "Epoch 31/50\n",
      "350/350 [==============================] - 0s 938us/sample - loss: 5.0676 - acc: 0.0400 - val_loss: 6.2102 - val_acc: 0.0667\n",
      "Epoch 32/50\n",
      "350/350 [==============================] - 0s 895us/sample - loss: 4.9730 - acc: 0.0314 - val_loss: 6.2102 - val_acc: 0.0667\n",
      "Epoch 33/50\n",
      "350/350 [==============================] - 0s 815us/sample - loss: 5.0202 - acc: 0.0371 - val_loss: 6.2102 - val_acc: 0.0667\n",
      "Epoch 34/50\n",
      "350/350 [==============================] - 0s 816us/sample - loss: 5.0635 - acc: 0.0343 - val_loss: 6.2102 - val_acc: 0.0667\n",
      "Epoch 35/50\n",
      "350/350 [==============================] - 0s 829us/sample - loss: 5.0435 - acc: 0.0343 - val_loss: 6.2102 - val_acc: 0.0667\n",
      "Epoch 36/50\n",
      "350/350 [==============================] - 0s 785us/sample - loss: 5.0712 - acc: 0.0314 - val_loss: 6.2102 - val_acc: 0.0667\n",
      "Epoch 37/50\n",
      "350/350 [==============================] - 0s 836us/sample - loss: 5.1223 - acc: 0.0229 - val_loss: 6.2102 - val_acc: 0.0667\n",
      "75/75 [==============================] - 0s 339us/sample - loss: 6.3832 - acc: 0.0267\n",
      "Test dense\n"
     ]
    },
    {
     "name": "stderr",
     "output_type": "stream",
     "text": [
      "W0901 19:23:31.677841 140708058982208 callbacks.py:875] `period` argument is deprecated. Please use `save_freq` to specify the frequency in number of samples seen.\n"
     ]
    },
    {
     "name": "stdout",
     "output_type": "stream",
     "text": [
      "Train on 350 samples, validate on 75 samples\n",
      "Epoch 1/50\n",
      "350/350 [==============================] - 2s 6ms/sample - loss: 7.9265 - acc: 0.0200 - val_loss: 6.7384 - val_acc: 0.0667\n",
      "Epoch 2/50\n",
      "350/350 [==============================] - 0s 1ms/sample - loss: 6.3028 - acc: 0.0286 - val_loss: 6.8924 - val_acc: 0.0133\n",
      "Epoch 3/50\n",
      "350/350 [==============================] - 1s 2ms/sample - loss: 5.7214 - acc: 0.0429 - val_loss: 7.1902 - val_acc: 0.0667\n",
      "Epoch 4/50\n",
      "350/350 [==============================] - 0s 1ms/sample - loss: 5.4208 - acc: 0.0486 - val_loss: 7.0449 - val_acc: 0.0667\n",
      "Epoch 5/50\n",
      "350/350 [==============================] - 0s 1ms/sample - loss: 5.3186 - acc: 0.0314 - val_loss: 6.9224 - val_acc: 0.0667\n",
      "Epoch 6/50\n",
      "350/350 [==============================] - 0s 1ms/sample - loss: 5.3405 - acc: 0.0200 - val_loss: 6.9079 - val_acc: 0.0667\n",
      "75/75 [==============================] - 0s 327us/sample - loss: 7.0726 - acc: 0.0267\n",
      "Test dropout\n"
     ]
    },
    {
     "name": "stderr",
     "output_type": "stream",
     "text": [
      "W0901 19:23:37.162767 140708058982208 callbacks.py:875] `period` argument is deprecated. Please use `save_freq` to specify the frequency in number of samples seen.\n"
     ]
    },
    {
     "name": "stdout",
     "output_type": "stream",
     "text": [
      "Train on 350 samples, validate on 75 samples\n",
      "Epoch 1/50\n",
      "350/350 [==============================] - 2s 6ms/sample - loss: 8.2257 - acc: 0.0086 - val_loss: 7.5593 - val_acc: 0.0667\n",
      "Epoch 2/50\n",
      "350/350 [==============================] - 0s 962us/sample - loss: 6.3630 - acc: 0.0314 - val_loss: 6.6102 - val_acc: 0.0133\n",
      "Epoch 3/50\n",
      "350/350 [==============================] - 0s 962us/sample - loss: 5.3359 - acc: 0.0171 - val_loss: 6.5135 - val_acc: 0.0667\n",
      "Epoch 4/50\n",
      "350/350 [==============================] - 0s 957us/sample - loss: 5.0835 - acc: 0.0229 - val_loss: 6.3764 - val_acc: 0.0267\n",
      "Epoch 5/50\n",
      "350/350 [==============================] - 0s 930us/sample - loss: 4.9487 - acc: 0.0286 - val_loss: 5.9680 - val_acc: 0.0400\n",
      "Epoch 6/50\n",
      "350/350 [==============================] - 0s 820us/sample - loss: 4.8207 - acc: 0.0343 - val_loss: 5.9777 - val_acc: 0.0667\n",
      "Epoch 7/50\n",
      "350/350 [==============================] - 0s 969us/sample - loss: 4.7549 - acc: 0.0457 - val_loss: 5.9439 - val_acc: 0.0667\n",
      "Epoch 8/50\n",
      "350/350 [==============================] - 0s 921us/sample - loss: 4.7764 - acc: 0.0486 - val_loss: 5.9219 - val_acc: 0.0667\n",
      "Epoch 9/50\n",
      "350/350 [==============================] - 0s 838us/sample - loss: 4.6746 - acc: 0.0514 - val_loss: 5.9488 - val_acc: 0.0667\n",
      "Epoch 10/50\n",
      "350/350 [==============================] - 1s 2ms/sample - loss: 4.6832 - acc: 0.0486 - val_loss: 5.9701 - val_acc: 0.0667\n",
      "Epoch 11/50\n",
      "350/350 [==============================] - 0s 860us/sample - loss: 4.6501 - acc: 0.0257 - val_loss: 5.9681 - val_acc: 0.0667\n",
      "Epoch 12/50\n",
      "350/350 [==============================] - 0s 976us/sample - loss: 4.6559 - acc: 0.0600 - val_loss: 5.9743 - val_acc: 0.0667\n",
      "Epoch 13/50\n",
      "350/350 [==============================] - 0s 951us/sample - loss: 4.6541 - acc: 0.0286 - val_loss: 5.9758 - val_acc: 0.0667\n",
      "75/75 [==============================] - 0s 306us/sample - loss: 6.2229 - acc: 0.0267\n"
     ]
    },
    {
     "name": "stderr",
     "output_type": "stream",
     "text": [
      "W0901 19:23:44.361750 140708058982208 nn_ops.py:4224] Large dropout rate: 0.6 (>0.5). In TensorFlow 2.x, dropout() uses dropout rate instead of keep_prob. Please ensure that this is intended.\n",
      "W0901 19:23:44.397177 140708058982208 nn_ops.py:4224] Large dropout rate: 0.6 (>0.5). In TensorFlow 2.x, dropout() uses dropout rate instead of keep_prob. Please ensure that this is intended.\n"
     ]
    },
    {
     "name": "stdout",
     "output_type": "stream",
     "text": [
      "Test dropout\n"
     ]
    },
    {
     "name": "stderr",
     "output_type": "stream",
     "text": [
      "W0901 19:23:44.434050 140708058982208 nn_ops.py:4224] Large dropout rate: 0.6 (>0.5). In TensorFlow 2.x, dropout() uses dropout rate instead of keep_prob. Please ensure that this is intended.\n",
      "W0901 19:23:44.469908 140708058982208 nn_ops.py:4224] Large dropout rate: 0.6 (>0.5). In TensorFlow 2.x, dropout() uses dropout rate instead of keep_prob. Please ensure that this is intended.\n",
      "W0901 19:23:44.504048 140708058982208 nn_ops.py:4224] Large dropout rate: 0.6 (>0.5). In TensorFlow 2.x, dropout() uses dropout rate instead of keep_prob. Please ensure that this is intended.\n",
      "W0901 19:23:44.531456 140708058982208 callbacks.py:875] `period` argument is deprecated. Please use `save_freq` to specify the frequency in number of samples seen.\n"
     ]
    },
    {
     "name": "stdout",
     "output_type": "stream",
     "text": [
      "Train on 350 samples, validate on 75 samples\n",
      "Epoch 1/50\n",
      "350/350 [==============================] - 2s 6ms/sample - loss: 8.3044 - acc: 0.0171 - val_loss: 7.9913 - val_acc: 0.0267\n",
      "Epoch 2/50\n",
      "350/350 [==============================] - 0s 1ms/sample - loss: 7.2524 - acc: 0.0314 - val_loss: 7.4197 - val_acc: 0.0667\n",
      "Epoch 3/50\n",
      "350/350 [==============================] - 0s 969us/sample - loss: 6.1992 - acc: 0.0143 - val_loss: 6.8817 - val_acc: 0.0133\n",
      "Epoch 4/50\n",
      "350/350 [==============================] - 0s 1ms/sample - loss: 5.8070 - acc: 0.0371 - val_loss: 6.7935 - val_acc: 0.0267\n",
      "Epoch 5/50\n",
      "350/350 [==============================] - 0s 1ms/sample - loss: 5.4745 - acc: 0.0343 - val_loss: 6.5732 - val_acc: 0.0267\n",
      "Epoch 6/50\n",
      "350/350 [==============================] - 0s 1ms/sample - loss: 5.2615 - acc: 0.0286 - val_loss: 6.2199 - val_acc: 0.0267\n",
      "Epoch 7/50\n",
      "350/350 [==============================] - 0s 1ms/sample - loss: 5.0703 - acc: 0.0314 - val_loss: 5.8823 - val_acc: 0.0267\n",
      "Epoch 8/50\n",
      "350/350 [==============================] - 0s 1ms/sample - loss: 4.9336 - acc: 0.0371 - val_loss: 5.8297 - val_acc: 0.0667\n",
      "Epoch 9/50\n",
      "350/350 [==============================] - 0s 936us/sample - loss: 5.0009 - acc: 0.0457 - val_loss: 5.8522 - val_acc: 0.0667\n",
      "Epoch 10/50\n",
      "350/350 [==============================] - 1s 2ms/sample - loss: 4.8821 - acc: 0.0400 - val_loss: 5.9922 - val_acc: 0.0667\n",
      "Epoch 11/50\n",
      "350/350 [==============================] - 0s 1ms/sample - loss: 4.8375 - acc: 0.0257 - val_loss: 5.9915 - val_acc: 0.0667\n",
      "Epoch 12/50\n",
      "350/350 [==============================] - 0s 1ms/sample - loss: 4.8786 - acc: 0.0286 - val_loss: 5.9852 - val_acc: 0.0667\n",
      "Epoch 13/50\n",
      "350/350 [==============================] - 0s 996us/sample - loss: 4.8161 - acc: 0.0400 - val_loss: 5.9837 - val_acc: 0.0667\n",
      "75/75 [==============================] - 0s 295us/sample - loss: 6.3133 - acc: 0.0267\n",
      "Test batchsize\n"
     ]
    },
    {
     "name": "stderr",
     "output_type": "stream",
     "text": [
      "W0901 19:23:52.580265 140708058982208 callbacks.py:875] `period` argument is deprecated. Please use `save_freq` to specify the frequency in number of samples seen.\n"
     ]
    },
    {
     "name": "stdout",
     "output_type": "stream",
     "text": [
      "Train on 350 samples, validate on 75 samples\n",
      "Epoch 1/50\n",
      "350/350 [==============================] - 2s 7ms/sample - loss: 8.0516 - acc: 0.0257 - val_loss: 7.0846 - val_acc: 0.0667\n",
      "Epoch 2/50\n",
      "350/350 [==============================] - 1s 2ms/sample - loss: 6.2235 - acc: 0.0229 - val_loss: 6.3740 - val_acc: 0.0667\n",
      "Epoch 3/50\n",
      "350/350 [==============================] - 1s 1ms/sample - loss: 5.6066 - acc: 0.0286 - val_loss: 6.0600 - val_acc: 0.0267\n",
      "Epoch 4/50\n",
      "350/350 [==============================] - 1s 2ms/sample - loss: 5.1842 - acc: 0.0286 - val_loss: 5.8082 - val_acc: 0.0667\n",
      "Epoch 5/50\n",
      "350/350 [==============================] - 0s 1ms/sample - loss: 4.9839 - acc: 0.0400 - val_loss: 5.8506 - val_acc: 0.0667\n",
      "Epoch 6/50\n",
      "350/350 [==============================] - 1s 2ms/sample - loss: 4.8688 - acc: 0.0314 - val_loss: 5.8273 - val_acc: 0.0667\n",
      "Epoch 7/50\n",
      "350/350 [==============================] - 0s 1ms/sample - loss: 4.8413 - acc: 0.0314 - val_loss: 5.8497 - val_acc: 0.0667\n",
      "Epoch 8/50\n",
      "350/350 [==============================] - 0s 1ms/sample - loss: 4.8268 - acc: 0.0343 - val_loss: 5.8871 - val_acc: 0.0667\n",
      "Epoch 9/50\n",
      "350/350 [==============================] - 0s 1ms/sample - loss: 4.7731 - acc: 0.0543 - val_loss: 5.8882 - val_acc: 0.0667\n",
      "75/75 [==============================] - 0s 292us/sample - loss: 6.1629 - acc: 0.0267\n",
      "Test batchsize\n"
     ]
    },
    {
     "name": "stderr",
     "output_type": "stream",
     "text": [
      "W0901 19:24:00.822182 140708058982208 callbacks.py:875] `period` argument is deprecated. Please use `save_freq` to specify the frequency in number of samples seen.\n"
     ]
    },
    {
     "name": "stdout",
     "output_type": "stream",
     "text": [
      "Train on 350 samples, validate on 75 samples\n",
      "Epoch 1/50\n",
      "350/350 [==============================] - 3s 7ms/sample - loss: 8.2169 - acc: 0.0114 - val_loss: 7.5126 - val_acc: 0.0267\n",
      "Epoch 2/50\n",
      "350/350 [==============================] - 0s 1ms/sample - loss: 6.8769 - acc: 0.0257 - val_loss: 7.1080 - val_acc: 0.0133\n",
      "Epoch 3/50\n",
      "350/350 [==============================] - 0s 1ms/sample - loss: 6.0014 - acc: 0.0229 - val_loss: 6.6940 - val_acc: 0.0267\n",
      "Epoch 4/50\n",
      "350/350 [==============================] - 0s 1ms/sample - loss: 5.3915 - acc: 0.0171 - val_loss: 6.6146 - val_acc: 0.0667\n",
      "Epoch 5/50\n",
      "350/350 [==============================] - 0s 992us/sample - loss: 5.2649 - acc: 0.0400 - val_loss: 6.2580 - val_acc: 0.0667\n",
      "Epoch 6/50\n",
      "350/350 [==============================] - 0s 968us/sample - loss: 5.0281 - acc: 0.0286 - val_loss: 6.1314 - val_acc: 0.0667\n",
      "Epoch 7/50\n",
      "350/350 [==============================] - 0s 1ms/sample - loss: 4.8106 - acc: 0.0429 - val_loss: 5.9582 - val_acc: 0.0667\n",
      "Epoch 8/50\n",
      "350/350 [==============================] - 0s 959us/sample - loss: 4.8408 - acc: 0.0400 - val_loss: 5.9253 - val_acc: 0.0667\n",
      "Epoch 9/50\n",
      "350/350 [==============================] - 0s 844us/sample - loss: 4.7542 - acc: 0.0371 - val_loss: 5.9492 - val_acc: 0.0267\n",
      "Epoch 10/50\n",
      "350/350 [==============================] - 1s 2ms/sample - loss: 4.7267 - acc: 0.0400 - val_loss: 5.9690 - val_acc: 0.0667\n",
      "Epoch 11/50\n",
      "350/350 [==============================] - 0s 1ms/sample - loss: 4.7017 - acc: 0.0543 - val_loss: 5.9671 - val_acc: 0.0667\n",
      "Epoch 12/50\n",
      "350/350 [==============================] - 0s 1ms/sample - loss: 4.6892 - acc: 0.0429 - val_loss: 5.9680 - val_acc: 0.0667\n",
      "Epoch 13/50\n",
      "350/350 [==============================] - 0s 899us/sample - loss: 4.7047 - acc: 0.0314 - val_loss: 5.9686 - val_acc: 0.0667\n",
      "75/75 [==============================] - 0s 341us/sample - loss: 6.2590 - acc: 0.0267\n",
      "Test convolution\n"
     ]
    },
    {
     "name": "stderr",
     "output_type": "stream",
     "text": [
      "W0901 19:24:09.436321 140708058982208 callbacks.py:875] `period` argument is deprecated. Please use `save_freq` to specify the frequency in number of samples seen.\n"
     ]
    },
    {
     "name": "stdout",
     "output_type": "stream",
     "text": [
      "Train on 350 samples, validate on 75 samples\n",
      "Epoch 1/50\n",
      "350/350 [==============================] - 3s 8ms/sample - loss: 8.1462 - acc: 0.0229 - val_loss: 7.3632 - val_acc: 0.0667\n",
      "Epoch 2/50\n",
      "350/350 [==============================] - 0s 1ms/sample - loss: 6.6939 - acc: 0.0229 - val_loss: 6.7094 - val_acc: 0.0667\n",
      "Epoch 3/50\n",
      "350/350 [==============================] - 0s 1ms/sample - loss: 5.8913 - acc: 0.0200 - val_loss: 6.2438 - val_acc: 0.0267\n",
      "Epoch 4/50\n",
      "350/350 [==============================] - 0s 1ms/sample - loss: 5.4172 - acc: 0.0343 - val_loss: 5.8900 - val_acc: 0.0667\n",
      "Epoch 5/50\n",
      "350/350 [==============================] - 0s 1ms/sample - loss: 5.1488 - acc: 0.0314 - val_loss: 5.8314 - val_acc: 0.0667\n",
      "Epoch 6/50\n",
      "350/350 [==============================] - 0s 1ms/sample - loss: 4.9584 - acc: 0.0571 - val_loss: 5.9877 - val_acc: 0.0667\n",
      "Epoch 7/50\n",
      "350/350 [==============================] - 1s 2ms/sample - loss: 4.8992 - acc: 0.0286 - val_loss: 6.0062 - val_acc: 0.0667\n",
      "Epoch 8/50\n",
      "350/350 [==============================] - 0s 1ms/sample - loss: 4.7997 - acc: 0.0457 - val_loss: 6.0336 - val_acc: 0.0667\n",
      "Epoch 9/50\n",
      "350/350 [==============================] - 0s 1ms/sample - loss: 4.8498 - acc: 0.0514 - val_loss: 6.0289 - val_acc: 0.0667\n",
      "Epoch 10/50\n",
      "350/350 [==============================] - 0s 1ms/sample - loss: 4.8136 - acc: 0.0400 - val_loss: 6.0317 - val_acc: 0.0667\n",
      "75/75 [==============================] - 0s 317us/sample - loss: 6.4335 - acc: 0.0267\n",
      "Test convolution\n"
     ]
    },
    {
     "name": "stderr",
     "output_type": "stream",
     "text": [
      "W0901 19:24:17.679394 140708058982208 callbacks.py:875] `period` argument is deprecated. Please use `save_freq` to specify the frequency in number of samples seen.\n"
     ]
    },
    {
     "name": "stdout",
     "output_type": "stream",
     "text": [
      "Train on 350 samples, validate on 75 samples\n",
      "Epoch 1/50\n",
      "350/350 [==============================] - 3s 9ms/sample - loss: 7.7674 - acc: 0.0257 - val_loss: 7.0296 - val_acc: 0.0267\n",
      "Epoch 2/50\n",
      "350/350 [==============================] - 1s 2ms/sample - loss: 5.9421 - acc: 0.0371 - val_loss: 6.9921 - val_acc: 0.0667\n",
      "Epoch 3/50\n",
      "350/350 [==============================] - 1s 2ms/sample - loss: 5.5044 - acc: 0.0343 - val_loss: 6.2711 - val_acc: 0.0667\n",
      "Epoch 4/50\n",
      "350/350 [==============================] - 1s 2ms/sample - loss: 5.2590 - acc: 0.0429 - val_loss: 5.9435 - val_acc: 0.0667\n",
      "Epoch 5/50\n",
      "350/350 [==============================] - 1s 2ms/sample - loss: 5.0560 - acc: 0.0314 - val_loss: 5.7919 - val_acc: 0.0267\n",
      "Epoch 6/50\n",
      "350/350 [==============================] - 1s 2ms/sample - loss: 4.8709 - acc: 0.0314 - val_loss: 5.8481 - val_acc: 0.0667\n",
      "Epoch 7/50\n",
      "350/350 [==============================] - 1s 3ms/sample - loss: 4.8521 - acc: 0.0514 - val_loss: 5.8868 - val_acc: 0.0667\n",
      "Epoch 8/50\n",
      "350/350 [==============================] - 1s 2ms/sample - loss: 4.7420 - acc: 0.0371 - val_loss: 5.9168 - val_acc: 0.0667\n",
      "Epoch 9/50\n",
      "350/350 [==============================] - 1s 2ms/sample - loss: 4.7010 - acc: 0.0514 - val_loss: 5.9628 - val_acc: 0.0667\n",
      "Epoch 10/50\n",
      "350/350 [==============================] - 1s 2ms/sample - loss: 4.7291 - acc: 0.0343 - val_loss: 5.9672 - val_acc: 0.0667\n",
      "75/75 [==============================] - 0s 424us/sample - loss: 6.3968 - acc: 0.0267\n",
      "Test dense\n"
     ]
    },
    {
     "name": "stderr",
     "output_type": "stream",
     "text": [
      "W0901 19:24:29.364634 140708058982208 callbacks.py:875] `period` argument is deprecated. Please use `save_freq` to specify the frequency in number of samples seen.\n"
     ]
    },
    {
     "name": "stdout",
     "output_type": "stream",
     "text": [
      "Train on 350 samples, validate on 75 samples\n",
      "Epoch 1/50\n",
      "350/350 [==============================] - 3s 8ms/sample - loss: 8.1408 - acc: 0.0257 - val_loss: 6.8353 - val_acc: 0.0133\n",
      "Epoch 2/50\n",
      "350/350 [==============================] - 0s 1ms/sample - loss: 6.4506 - acc: 0.0314 - val_loss: 7.1055 - val_acc: 0.0133\n",
      "Epoch 3/50\n",
      "350/350 [==============================] - 0s 1ms/sample - loss: 5.6499 - acc: 0.0571 - val_loss: 6.1333 - val_acc: 0.0267\n",
      "Epoch 4/50\n",
      "350/350 [==============================] - 1s 2ms/sample - loss: 5.2526 - acc: 0.0286 - val_loss: 5.7962 - val_acc: 0.0667\n",
      "Epoch 5/50\n",
      "350/350 [==============================] - 0s 1ms/sample - loss: 5.1357 - acc: 0.0486 - val_loss: 5.8033 - val_acc: 0.0667\n",
      "Epoch 6/50\n",
      "350/350 [==============================] - 1s 2ms/sample - loss: 4.9159 - acc: 0.0371 - val_loss: 5.9590 - val_acc: 0.0667\n",
      "Epoch 7/50\n",
      "350/350 [==============================] - 0s 1ms/sample - loss: 4.8252 - acc: 0.0629 - val_loss: 5.9326 - val_acc: 0.0667\n",
      "Epoch 8/50\n",
      "350/350 [==============================] - 0s 1ms/sample - loss: 4.7275 - acc: 0.0400 - val_loss: 5.9214 - val_acc: 0.0667\n",
      "Epoch 9/50\n",
      "350/350 [==============================] - 0s 1ms/sample - loss: 4.8433 - acc: 0.0200 - val_loss: 5.9211 - val_acc: 0.0667\n",
      "75/75 [==============================] - 0s 302us/sample - loss: 6.2348 - acc: 0.0267\n",
      "Test dense\n"
     ]
    },
    {
     "name": "stderr",
     "output_type": "stream",
     "text": [
      "W0901 19:24:37.865140 140708058982208 callbacks.py:875] `period` argument is deprecated. Please use `save_freq` to specify the frequency in number of samples seen.\n"
     ]
    },
    {
     "name": "stdout",
     "output_type": "stream",
     "text": [
      "Train on 350 samples, validate on 75 samples\n",
      "Epoch 1/50\n",
      "350/350 [==============================] - 3s 9ms/sample - loss: 7.9898 - acc: 0.0200 - val_loss: 7.3304 - val_acc: 0.0267\n",
      "Epoch 2/50\n",
      "350/350 [==============================] - 1s 2ms/sample - loss: 6.0158 - acc: 0.0257 - val_loss: 6.7929 - val_acc: 0.0267\n",
      "Epoch 3/50\n",
      "350/350 [==============================] - 1s 2ms/sample - loss: 5.4889 - acc: 0.0086 - val_loss: 5.8916 - val_acc: 0.0667\n",
      "Epoch 4/50\n",
      "350/350 [==============================] - 1s 2ms/sample - loss: 5.1295 - acc: 0.0314 - val_loss: 5.7240 - val_acc: 0.0400\n",
      "Epoch 5/50\n",
      "350/350 [==============================] - 1s 2ms/sample - loss: 5.0130 - acc: 0.0400 - val_loss: 5.7726 - val_acc: 0.0667\n",
      "Epoch 6/50\n",
      "350/350 [==============================] - 1s 3ms/sample - loss: 4.7961 - acc: 0.0457 - val_loss: 5.8160 - val_acc: 0.0667\n",
      "Epoch 7/50\n",
      "350/350 [==============================] - 1s 2ms/sample - loss: 4.7129 - acc: 0.0514 - val_loss: 5.8603 - val_acc: 0.0667\n",
      "Epoch 8/50\n",
      "350/350 [==============================] - 1s 2ms/sample - loss: 4.6913 - acc: 0.0486 - val_loss: 5.9412 - val_acc: 0.0667\n",
      "Epoch 9/50\n",
      "350/350 [==============================] - 1s 2ms/sample - loss: 4.7073 - acc: 0.0629 - val_loss: 5.9466 - val_acc: 0.0667\n",
      "75/75 [==============================] - 0s 388us/sample - loss: 6.3150 - acc: 0.0267\n",
      "Test dropout\n"
     ]
    },
    {
     "name": "stderr",
     "output_type": "stream",
     "text": [
      "W0901 19:24:48.537363 140708058982208 callbacks.py:875] `period` argument is deprecated. Please use `save_freq` to specify the frequency in number of samples seen.\n"
     ]
    },
    {
     "name": "stdout",
     "output_type": "stream",
     "text": [
      "Train on 350 samples, validate on 75 samples\n",
      "Epoch 1/50\n",
      "350/350 [==============================] - 3s 9ms/sample - loss: 7.7449 - acc: 0.0286 - val_loss: 6.4151 - val_acc: 0.0267\n",
      "Epoch 2/50\n",
      "350/350 [==============================] - 1s 1ms/sample - loss: 5.9377 - acc: 0.0400 - val_loss: 6.3558 - val_acc: 0.0667\n",
      "Epoch 3/50\n",
      "350/350 [==============================] - 1s 2ms/sample - loss: 5.2901 - acc: 0.0400 - val_loss: 6.1510 - val_acc: 0.0800\n",
      "Epoch 4/50\n",
      "350/350 [==============================] - 1s 2ms/sample - loss: 5.0688 - acc: 0.0286 - val_loss: 5.8246 - val_acc: 0.0667\n",
      "Epoch 5/50\n",
      "350/350 [==============================] - 0s 1ms/sample - loss: 4.8516 - acc: 0.0371 - val_loss: 5.8604 - val_acc: 0.0667\n",
      "Epoch 6/50\n",
      "350/350 [==============================] - 1s 3ms/sample - loss: 4.7702 - acc: 0.0457 - val_loss: 5.8957 - val_acc: 0.0267\n",
      "Epoch 7/50\n",
      "350/350 [==============================] - 0s 1ms/sample - loss: 4.7450 - acc: 0.0371 - val_loss: 5.9167 - val_acc: 0.0267\n",
      "Epoch 8/50\n",
      "350/350 [==============================] - 0s 1ms/sample - loss: 4.7747 - acc: 0.0343 - val_loss: 5.9206 - val_acc: 0.0667\n",
      "Epoch 9/50\n",
      "350/350 [==============================] - 0s 1ms/sample - loss: 4.6992 - acc: 0.0314 - val_loss: 5.9214 - val_acc: 0.0667\n",
      "75/75 [==============================] - 0s 299us/sample - loss: 6.2123 - acc: 0.0267\n",
      "Test dropout\n"
     ]
    },
    {
     "name": "stderr",
     "output_type": "stream",
     "text": [
      "W0901 19:24:57.789333 140708058982208 callbacks.py:875] `period` argument is deprecated. Please use `save_freq` to specify the frequency in number of samples seen.\n"
     ]
    },
    {
     "name": "stdout",
     "output_type": "stream",
     "text": [
      "Train on 350 samples, validate on 75 samples\n",
      "Epoch 1/50\n",
      "350/350 [==============================] - 3s 10ms/sample - loss: 8.1546 - acc: 0.0171 - val_loss: 7.6560 - val_acc: 0.0667\n",
      "Epoch 2/50\n",
      "350/350 [==============================] - 1s 2ms/sample - loss: 6.9034 - acc: 0.0286 - val_loss: 7.5496 - val_acc: 0.0133\n",
      "Epoch 3/50\n",
      "350/350 [==============================] - 1s 2ms/sample - loss: 6.1748 - acc: 0.0314 - val_loss: 6.5027 - val_acc: 0.0667\n",
      "Epoch 4/50\n",
      "350/350 [==============================] - 1s 2ms/sample - loss: 5.5177 - acc: 0.0514 - val_loss: 5.9801 - val_acc: 0.0667\n",
      "Epoch 5/50\n",
      "350/350 [==============================] - 1s 2ms/sample - loss: 5.3518 - acc: 0.0286 - val_loss: 5.7695 - val_acc: 0.0267\n",
      "Epoch 6/50\n",
      "350/350 [==============================] - 1s 1ms/sample - loss: 5.1817 - acc: 0.0371 - val_loss: 5.7987 - val_acc: 0.0667\n",
      "Epoch 7/50\n",
      "350/350 [==============================] - 1s 3ms/sample - loss: 5.0593 - acc: 0.0286 - val_loss: 5.8052 - val_acc: 0.0667\n",
      "Epoch 8/50\n",
      "350/350 [==============================] - 0s 1ms/sample - loss: 4.9522 - acc: 0.0571 - val_loss: 5.8282 - val_acc: 0.0667\n",
      "Epoch 9/50\n",
      "350/350 [==============================] - 0s 1ms/sample - loss: 4.9103 - acc: 0.0429 - val_loss: 5.8665 - val_acc: 0.0667\n",
      "Epoch 10/50\n",
      "350/350 [==============================] - 0s 1ms/sample - loss: 4.9147 - acc: 0.0457 - val_loss: 5.8694 - val_acc: 0.0667\n",
      "75/75 [==============================] - 0s 219us/sample - loss: 6.2711 - acc: 0.0267\n",
      "Test batchsize\n"
     ]
    },
    {
     "name": "stderr",
     "output_type": "stream",
     "text": [
      "W0901 19:25:08.237801 140708058982208 callbacks.py:875] `period` argument is deprecated. Please use `save_freq` to specify the frequency in number of samples seen.\n"
     ]
    },
    {
     "name": "stdout",
     "output_type": "stream",
     "text": [
      "Train on 350 samples, validate on 75 samples\n",
      "Epoch 1/50\n",
      "350/350 [==============================] - 4s 12ms/sample - loss: 7.8517 - acc: 0.0314 - val_loss: 6.5786 - val_acc: 0.0667\n",
      "Epoch 2/50\n",
      "350/350 [==============================] - 1s 3ms/sample - loss: 5.8061 - acc: 0.0371 - val_loss: 5.8679 - val_acc: 0.0667\n",
      "Epoch 3/50\n",
      "350/350 [==============================] - 1s 2ms/sample - loss: 5.3806 - acc: 0.0343 - val_loss: 5.7178 - val_acc: 0.0667\n",
      "Epoch 4/50\n",
      "350/350 [==============================] - 1s 2ms/sample - loss: 5.1074 - acc: 0.0543 - val_loss: 5.6595 - val_acc: 0.0667\n",
      "Epoch 5/50\n",
      "350/350 [==============================] - 1s 2ms/sample - loss: 4.9589 - acc: 0.0486 - val_loss: 5.7649 - val_acc: 0.0667\n",
      "Epoch 6/50\n",
      "350/350 [==============================] - 1s 4ms/sample - loss: 4.9201 - acc: 0.0600 - val_loss: 5.8664 - val_acc: 0.0667\n",
      "Epoch 7/50\n",
      "350/350 [==============================] - 1s 2ms/sample - loss: 4.7917 - acc: 0.0457 - val_loss: 5.9476 - val_acc: 0.0667\n",
      "Epoch 8/50\n",
      "350/350 [==============================] - 1s 2ms/sample - loss: 4.7818 - acc: 0.0571 - val_loss: 5.9215 - val_acc: 0.0667\n",
      "Epoch 9/50\n",
      "350/350 [==============================] - 1s 2ms/sample - loss: 4.7378 - acc: 0.0514 - val_loss: 5.9254 - val_acc: 0.0667\n",
      "75/75 [==============================] - 0s 212us/sample - loss: 6.3401 - acc: 0.0267\n",
      "Test batchsize\n"
     ]
    },
    {
     "name": "stderr",
     "output_type": "stream",
     "text": [
      "W0901 19:25:21.513762 140708058982208 callbacks.py:875] `period` argument is deprecated. Please use `save_freq` to specify the frequency in number of samples seen.\n"
     ]
    },
    {
     "name": "stdout",
     "output_type": "stream",
     "text": [
      "Train on 350 samples, validate on 75 samples\n",
      "Epoch 1/50\n",
      "350/350 [==============================] - 3s 10ms/sample - loss: 8.2650 - acc: 0.0229 - val_loss: 7.5855 - val_acc: 0.0667\n",
      "Epoch 2/50\n",
      "350/350 [==============================] - 0s 1ms/sample - loss: 6.7466 - acc: 0.0371 - val_loss: 6.6940 - val_acc: 0.0267\n",
      "Epoch 3/50\n",
      "350/350 [==============================] - 0s 1ms/sample - loss: 5.8027 - acc: 0.0171 - val_loss: 5.9248 - val_acc: 0.0000e+00\n",
      "Epoch 4/50\n",
      "350/350 [==============================] - 0s 1ms/sample - loss: 5.3842 - acc: 0.0257 - val_loss: 6.2777 - val_acc: 0.0667\n",
      "Epoch 5/50\n",
      "350/350 [==============================] - 0s 1ms/sample - loss: 5.1265 - acc: 0.0400 - val_loss: 5.8947 - val_acc: 0.0267\n",
      "Epoch 6/50\n",
      "350/350 [==============================] - 0s 1ms/sample - loss: 4.9462 - acc: 0.0343 - val_loss: 5.9088 - val_acc: 0.0667\n",
      "Epoch 7/50\n",
      "350/350 [==============================] - 1s 2ms/sample - loss: 4.8035 - acc: 0.0200 - val_loss: 5.9378 - val_acc: 0.0667\n",
      "Epoch 8/50\n",
      "350/350 [==============================] - 0s 955us/sample - loss: 4.7460 - acc: 0.0343 - val_loss: 5.9419 - val_acc: 0.0667\n",
      "Epoch 9/50\n",
      "350/350 [==============================] - 0s 985us/sample - loss: 4.7726 - acc: 0.0514 - val_loss: 5.9496 - val_acc: 0.0667\n",
      "Epoch 10/50\n",
      "350/350 [==============================] - 0s 996us/sample - loss: 4.8120 - acc: 0.0400 - val_loss: 5.9473 - val_acc: 0.0667\n",
      "75/75 [==============================] - 0s 331us/sample - loss: 6.3064 - acc: 0.0267\n",
      "Test convolution\n"
     ]
    },
    {
     "name": "stderr",
     "output_type": "stream",
     "text": [
      "W0901 19:25:30.568679 140708058982208 callbacks.py:875] `period` argument is deprecated. Please use `save_freq` to specify the frequency in number of samples seen.\n"
     ]
    },
    {
     "name": "stdout",
     "output_type": "stream",
     "text": [
      "Train on 350 samples, validate on 75 samples\n",
      "Epoch 1/50\n",
      "350/350 [==============================] - 4s 10ms/sample - loss: 8.2829 - acc: 0.0257 - val_loss: 7.8920 - val_acc: 0.0667\n",
      "Epoch 2/50\n",
      "350/350 [==============================] - 0s 1ms/sample - loss: 6.8290 - acc: 0.0343 - val_loss: 6.8175 - val_acc: 0.0400\n",
      "Epoch 3/50\n",
      "350/350 [==============================] - 0s 1ms/sample - loss: 5.9305 - acc: 0.0229 - val_loss: 6.4064 - val_acc: 0.0667\n",
      "Epoch 4/50\n",
      "350/350 [==============================] - 0s 1ms/sample - loss: 5.3315 - acc: 0.0286 - val_loss: 5.9229 - val_acc: 0.0400\n",
      "Epoch 5/50\n",
      "350/350 [==============================] - 0s 1ms/sample - loss: 5.1596 - acc: 0.0200 - val_loss: 5.8452 - val_acc: 0.0667\n",
      "Epoch 6/50\n",
      "350/350 [==============================] - 0s 1ms/sample - loss: 4.9532 - acc: 0.0371 - val_loss: 5.8846 - val_acc: 0.0667\n",
      "Epoch 7/50\n",
      "350/350 [==============================] - 1s 3ms/sample - loss: 4.9256 - acc: 0.0371 - val_loss: 5.9408 - val_acc: 0.0667\n",
      "Epoch 8/50\n",
      "350/350 [==============================] - 0s 1ms/sample - loss: 4.8059 - acc: 0.0400 - val_loss: 5.9595 - val_acc: 0.0667\n",
      "Epoch 9/50\n",
      "350/350 [==============================] - 0s 1ms/sample - loss: 4.7916 - acc: 0.0457 - val_loss: 5.9864 - val_acc: 0.0667\n",
      "Epoch 10/50\n",
      "350/350 [==============================] - 0s 1ms/sample - loss: 4.7747 - acc: 0.0600 - val_loss: 5.9892 - val_acc: 0.0667\n",
      "75/75 [==============================] - 0s 332us/sample - loss: 6.3724 - acc: 0.0267\n",
      "Test convolution\n"
     ]
    },
    {
     "name": "stderr",
     "output_type": "stream",
     "text": [
      "W0901 19:25:40.515582 140708058982208 callbacks.py:875] `period` argument is deprecated. Please use `save_freq` to specify the frequency in number of samples seen.\n"
     ]
    },
    {
     "name": "stdout",
     "output_type": "stream",
     "text": [
      "Train on 350 samples, validate on 75 samples\n",
      "Epoch 1/50\n",
      "350/350 [==============================] - 4s 11ms/sample - loss: 7.9859 - acc: 0.0229 - val_loss: 7.6085 - val_acc: 0.0267\n",
      "Epoch 2/50\n",
      "350/350 [==============================] - 1s 2ms/sample - loss: 6.1493 - acc: 0.0257 - val_loss: 6.7836 - val_acc: 0.0267\n",
      "Epoch 3/50\n",
      "350/350 [==============================] - 1s 2ms/sample - loss: 5.5031 - acc: 0.0229 - val_loss: 6.5152 - val_acc: 0.0267\n",
      "Epoch 4/50\n",
      "350/350 [==============================] - 1s 2ms/sample - loss: 5.2541 - acc: 0.0200 - val_loss: 6.0019 - val_acc: 0.0267\n",
      "Epoch 5/50\n",
      "350/350 [==============================] - 1s 2ms/sample - loss: 5.0824 - acc: 0.0343 - val_loss: 5.8641 - val_acc: 0.0667\n",
      "Epoch 6/50\n",
      "350/350 [==============================] - 1s 2ms/sample - loss: 4.8750 - acc: 0.0343 - val_loss: 5.8704 - val_acc: 0.0667\n",
      "Epoch 7/50\n",
      "350/350 [==============================] - 1s 4ms/sample - loss: 4.8581 - acc: 0.0257 - val_loss: 5.8879 - val_acc: 0.0667\n",
      "Epoch 8/50\n",
      "350/350 [==============================] - 1s 2ms/sample - loss: 4.7778 - acc: 0.0343 - val_loss: 5.9056 - val_acc: 0.0667\n",
      "Epoch 9/50\n",
      "350/350 [==============================] - 1s 2ms/sample - loss: 4.7136 - acc: 0.0486 - val_loss: 5.9247 - val_acc: 0.0667\n",
      "Epoch 10/50\n",
      "350/350 [==============================] - 1s 2ms/sample - loss: 4.6990 - acc: 0.0486 - val_loss: 5.9270 - val_acc: 0.0667\n",
      "75/75 [==============================] - 0s 495us/sample - loss: 6.2748 - acc: 0.0267\n",
      "Test dense\n"
     ]
    },
    {
     "name": "stderr",
     "output_type": "stream",
     "text": [
      "W0901 19:25:53.793033 140708058982208 callbacks.py:875] `period` argument is deprecated. Please use `save_freq` to specify the frequency in number of samples seen.\n"
     ]
    },
    {
     "name": "stdout",
     "output_type": "stream",
     "text": [
      "Train on 350 samples, validate on 75 samples\n",
      "Epoch 1/50\n",
      "350/350 [==============================] - 4s 11ms/sample - loss: 8.1285 - acc: 0.0200 - val_loss: 7.0261 - val_acc: 0.0533\n",
      "Epoch 2/50\n",
      "350/350 [==============================] - 0s 1ms/sample - loss: 6.4994 - acc: 0.0571 - val_loss: 6.8555 - val_acc: 0.0133\n",
      "Epoch 3/50\n",
      "350/350 [==============================] - 0s 1ms/sample - loss: 5.8068 - acc: 0.0314 - val_loss: 6.2351 - val_acc: 0.0133\n",
      "Epoch 4/50\n",
      "350/350 [==============================] - 0s 1ms/sample - loss: 5.3351 - acc: 0.0257 - val_loss: 5.9098 - val_acc: 0.0667\n",
      "Epoch 5/50\n",
      "350/350 [==============================] - 0s 1ms/sample - loss: 5.2995 - acc: 0.0286 - val_loss: 5.7916 - val_acc: 0.0267\n",
      "Epoch 6/50\n",
      "350/350 [==============================] - 0s 1ms/sample - loss: 4.9010 - acc: 0.0486 - val_loss: 5.8485 - val_acc: 0.0667\n",
      "Epoch 7/50\n",
      "350/350 [==============================] - 1s 3ms/sample - loss: 4.8892 - acc: 0.0457 - val_loss: 5.8792 - val_acc: 0.0667\n",
      "Epoch 8/50\n",
      "350/350 [==============================] - 0s 1ms/sample - loss: 4.8777 - acc: 0.0400 - val_loss: 5.9024 - val_acc: 0.0667\n",
      "Epoch 9/50\n",
      "350/350 [==============================] - 0s 1ms/sample - loss: 4.7813 - acc: 0.0343 - val_loss: 5.9330 - val_acc: 0.0667\n",
      "Epoch 10/50\n",
      "350/350 [==============================] - 0s 1ms/sample - loss: 4.7992 - acc: 0.0314 - val_loss: 5.9369 - val_acc: 0.0667\n",
      "75/75 [==============================] - 0s 337us/sample - loss: 6.2829 - acc: 0.0267\n",
      "Test dense\n"
     ]
    },
    {
     "name": "stderr",
     "output_type": "stream",
     "text": [
      "W0901 19:26:04.242393 140708058982208 callbacks.py:875] `period` argument is deprecated. Please use `save_freq` to specify the frequency in number of samples seen.\n"
     ]
    },
    {
     "name": "stdout",
     "output_type": "stream",
     "text": [
      "Train on 350 samples, validate on 75 samples\n",
      "Epoch 1/50\n",
      "350/350 [==============================] - 4s 13ms/sample - loss: 7.9101 - acc: 0.0229 - val_loss: 7.2425 - val_acc: 0.0133\n",
      "Epoch 2/50\n",
      "350/350 [==============================] - 1s 3ms/sample - loss: 6.2594 - acc: 0.0229 - val_loss: 6.8671 - val_acc: 0.0133\n",
      "Epoch 3/50\n",
      "350/350 [==============================] - 1s 2ms/sample - loss: 5.4435 - acc: 0.0286 - val_loss: 6.4236 - val_acc: 0.0667\n",
      "Epoch 4/50\n",
      "350/350 [==============================] - 1s 2ms/sample - loss: 5.2205 - acc: 0.0229 - val_loss: 6.0698 - val_acc: 0.0667\n",
      "Epoch 5/50\n",
      "350/350 [==============================] - 1s 2ms/sample - loss: 4.9888 - acc: 0.0429 - val_loss: 5.8662 - val_acc: 0.0667\n",
      "Epoch 6/50\n",
      "350/350 [==============================] - 1s 2ms/sample - loss: 4.9496 - acc: 0.0429 - val_loss: 5.8524 - val_acc: 0.0667\n",
      "Epoch 7/50\n",
      "350/350 [==============================] - 1s 2ms/sample - loss: 4.7630 - acc: 0.0343 - val_loss: 5.9995 - val_acc: 0.0667\n",
      "Epoch 8/50\n",
      "350/350 [==============================] - 1s 4ms/sample - loss: 4.7653 - acc: 0.0457 - val_loss: 6.0494 - val_acc: 0.0667\n",
      "Epoch 9/50\n",
      "350/350 [==============================] - 1s 2ms/sample - loss: 4.6988 - acc: 0.0486 - val_loss: 6.0537 - val_acc: 0.0667\n",
      "Epoch 10/50\n",
      "350/350 [==============================] - 1s 2ms/sample - loss: 4.7180 - acc: 0.0400 - val_loss: 6.0839 - val_acc: 0.0667\n",
      "Epoch 11/50\n",
      "350/350 [==============================] - 1s 2ms/sample - loss: 4.6956 - acc: 0.0429 - val_loss: 6.0847 - val_acc: 0.0667\n",
      "75/75 [==============================] - 0s 357us/sample - loss: 6.5074 - acc: 0.0267\n",
      "Dropout : 0.5\n",
      "Batch Size : 16\n",
      "Convolutional layer : 16\n",
      "Dense Layer : 256\n"
     ]
    }
   ],
   "source": [
    "optimizeHyperParameter(createModel1, '../models/KMNIST1.h5')"
   ]
  },
  {
   "cell_type": "code",
   "execution_count": 5,
   "metadata": {},
   "outputs": [
    {
     "name": "stdout",
     "output_type": "stream",
     "text": [
      "Model: \"sequential_1\"\n",
      "_________________________________________________________________\n",
      "Layer (type)                 Output Shape              Param #   \n",
      "=================================================================\n",
      "conv2d_4 (Conv2D)            (None, 30, 30, 32)        320       \n",
      "_________________________________________________________________\n",
      "spatial_dropout2d_4 (Spatial (None, 30, 30, 32)        0         \n",
      "_________________________________________________________________\n",
      "conv2d_5 (Conv2D)            (None, 28, 28, 32)        9248      \n",
      "_________________________________________________________________\n",
      "spatial_dropout2d_5 (Spatial (None, 28, 28, 32)        0         \n",
      "_________________________________________________________________\n",
      "max_pooling2d_1 (MaxPooling2 (None, 14, 14, 32)        0         \n",
      "_________________________________________________________________\n",
      "conv2d_6 (Conv2D)            (None, 12, 12, 64)        18496     \n",
      "_________________________________________________________________\n",
      "spatial_dropout2d_6 (Spatial (None, 12, 12, 64)        0         \n",
      "_________________________________________________________________\n",
      "conv2d_7 (Conv2D)            (None, 10, 10, 64)        36928     \n",
      "_________________________________________________________________\n",
      "spatial_dropout2d_7 (Spatial (None, 10, 10, 64)        0         \n",
      "_________________________________________________________________\n",
      "flatten_1 (Flatten)          (None, 6400)              0         \n",
      "_________________________________________________________________\n",
      "dense_2 (Dense)              (None, 128)               819328    \n",
      "_________________________________________________________________\n",
      "dropout_1 (Dropout)          (None, 128)               0         \n",
      "_________________________________________________________________\n",
      "dense_3 (Dense)              (None, 4787)              617523    \n",
      "=================================================================\n",
      "Total params: 1,501,843\n",
      "Trainable params: 1,501,843\n",
      "Non-trainable params: 0\n",
      "_________________________________________________________________\n"
     ]
    }
   ],
   "source": [
    "dropoutRate = 0.5\n",
    "\n",
    "model = keras.models.Sequential()\n",
    "model.add(keras.layers.Conv2D(32, (3, 3), activation='relu', input_shape=image.shape[1:]))\n",
    "model.add(keras.layers.SpatialDropout2D(dropoutRate))\n",
    "model.add(keras.layers.Conv2D(32, (3, 3), activation='relu'))\n",
    "model.add(keras.layers.SpatialDropout2D(dropoutRate))\n",
    "model.add(keras.layers.MaxPooling2D((2, 2)))\n",
    "model.add(keras.layers.Conv2D(64, (3, 3), activation='relu'))\n",
    "model.add(keras.layers.SpatialDropout2D(dropoutRate))\n",
    "model.add(keras.layers.Conv2D(64, (3, 3), activation='relu'))\n",
    "model.add(keras.layers.SpatialDropout2D(dropoutRate))\n",
    "model.add(keras.layers.Flatten())\n",
    "model.add(keras.layers.Dense(128, activation='relu'))\n",
    "model.add(keras.layers.Dropout(dropoutRate))\n",
    "model.add(keras.layers.Dense(len(unicodeData), activation='softmax'))\n",
    "model.summary()\n",
    "\n",
    "model.compile(optimizer='adam',loss='sparse_categorical_crossentropy',metrics=['accuracy'])"
   ]
  },
  {
   "cell_type": "code",
   "execution_count": 6,
   "metadata": {},
   "outputs": [
    {
     "name": "stdout",
     "output_type": "stream",
     "text": [
      "Train on 478424 samples, validate on 102520 samples\n",
      "Epoch 1/5\n",
      "478424/478424 [==============================] - 575s 1ms/sample - loss: 3.7743 - acc: 0.3494 - val_loss: 2.4794 - val_acc: 0.5603\n",
      "Epoch 2/5\n",
      "478424/478424 [==============================] - 565s 1ms/sample - loss: 3.0402 - acc: 0.4542 - val_loss: 2.2473 - val_acc: 0.5994\n",
      "Epoch 3/5\n",
      "478424/478424 [==============================] - 563s 1ms/sample - loss: 2.9663 - acc: 0.4651 - val_loss: 2.2146 - val_acc: 0.6072\n",
      "Epoch 4/5\n",
      "478424/478424 [==============================] - 551s 1ms/sample - loss: 2.9680 - acc: 0.4662 - val_loss: 2.1369 - val_acc: 0.6186\n",
      "Epoch 5/5\n",
      "478424/478424 [==============================] - 587s 1ms/sample - loss: 3.0064 - acc: 0.4611 - val_loss: 2.2947 - val_acc: 0.5976\n"
     ]
    }
   ],
   "source": [
    "model.fit(image[:nFrac], charOutput[:nFrac], epochs=5, validation_split=testFrac/(1.-testFrac))\n",
    "model.save('../models/KMNIST5.h5')"
   ]
  },
  {
   "cell_type": "code",
   "execution_count": 7,
   "metadata": {},
   "outputs": [
    {
     "name": "stdout",
     "output_type": "stream",
     "text": [
      "Model: \"sequential_2\"\n",
      "_________________________________________________________________\n",
      "Layer (type)                 Output Shape              Param #   \n",
      "=================================================================\n",
      "conv2d_8 (Conv2D)            (None, 30, 30, 16)        160       \n",
      "_________________________________________________________________\n",
      "spatial_dropout2d_8 (Spatial (None, 30, 30, 16)        0         \n",
      "_________________________________________________________________\n",
      "conv2d_9 (Conv2D)            (None, 28, 28, 16)        2320      \n",
      "_________________________________________________________________\n",
      "spatial_dropout2d_9 (Spatial (None, 28, 28, 16)        0         \n",
      "_________________________________________________________________\n",
      "max_pooling2d_2 (MaxPooling2 (None, 14, 14, 16)        0         \n",
      "_________________________________________________________________\n",
      "conv2d_10 (Conv2D)           (None, 12, 12, 32)        4640      \n",
      "_________________________________________________________________\n",
      "spatial_dropout2d_10 (Spatia (None, 12, 12, 32)        0         \n",
      "_________________________________________________________________\n",
      "conv2d_11 (Conv2D)           (None, 10, 10, 32)        9248      \n",
      "_________________________________________________________________\n",
      "spatial_dropout2d_11 (Spatia (None, 10, 10, 32)        0         \n",
      "_________________________________________________________________\n",
      "flatten_2 (Flatten)          (None, 3200)              0         \n",
      "_________________________________________________________________\n",
      "dense_4 (Dense)              (None, 128)               409728    \n",
      "_________________________________________________________________\n",
      "dropout_2 (Dropout)          (None, 128)               0         \n",
      "_________________________________________________________________\n",
      "dense_5 (Dense)              (None, 4787)              617523    \n",
      "=================================================================\n",
      "Total params: 1,043,619\n",
      "Trainable params: 1,043,619\n",
      "Non-trainable params: 0\n",
      "_________________________________________________________________\n"
     ]
    }
   ],
   "source": [
    "dropoutRate = 0.5\n",
    "\n",
    "model = keras.models.Sequential()\n",
    "model.add(keras.layers.Conv2D(16, (3, 3), activation='relu', input_shape=image.shape[1:]))\n",
    "model.add(keras.layers.SpatialDropout2D(dropoutRate))\n",
    "model.add(keras.layers.Conv2D(16, (3, 3), activation='relu'))\n",
    "model.add(keras.layers.SpatialDropout2D(dropoutRate))\n",
    "model.add(keras.layers.MaxPooling2D((2, 2)))\n",
    "model.add(keras.layers.Conv2D(32, (3, 3), activation='relu'))\n",
    "model.add(keras.layers.SpatialDropout2D(dropoutRate))\n",
    "model.add(keras.layers.Conv2D(32, (3, 3), activation='relu'))\n",
    "model.add(keras.layers.SpatialDropout2D(dropoutRate))\n",
    "model.add(keras.layers.Flatten())\n",
    "model.add(keras.layers.Dense(128, activation='relu'))\n",
    "model.add(keras.layers.Dropout(dropoutRate))\n",
    "model.add(keras.layers.Dense(len(unicodeData), activation='softmax'))\n",
    "model.summary()\n",
    "\n",
    "model.compile(optimizer='adam',loss='sparse_categorical_crossentropy',metrics=['accuracy'])"
   ]
  },
  {
   "cell_type": "code",
   "execution_count": 8,
   "metadata": {},
   "outputs": [
    {
     "name": "stdout",
     "output_type": "stream",
     "text": [
      "Train on 478424 samples, validate on 102520 samples\n",
      "Epoch 1/5\n",
      "478424/478424 [==============================] - 337s 704us/sample - loss: 3.8546 - acc: 0.3332 - val_loss: 2.6197 - val_acc: 0.5320\n",
      "Epoch 2/5\n",
      "478424/478424 [==============================] - 344s 720us/sample - loss: 3.1551 - acc: 0.4318 - val_loss: 2.4001 - val_acc: 0.5679\n",
      "Epoch 3/5\n",
      "478424/478424 [==============================] - 357s 746us/sample - loss: 3.0688 - acc: 0.4440 - val_loss: 2.3285 - val_acc: 0.5762\n",
      "Epoch 4/5\n",
      "478424/478424 [==============================] - 395s 825us/sample - loss: 3.0786 - acc: 0.4433 - val_loss: 2.2172 - val_acc: 0.5955\n",
      "Epoch 5/5\n",
      "478424/478424 [==============================] - 342s 715us/sample - loss: 3.0537 - acc: 0.4469 - val_loss: 2.2711 - val_acc: 0.5890\n"
     ]
    }
   ],
   "source": [
    "model.fit(image[:nFrac], charOutput[:nFrac], epochs=5, validation_split=testFrac/(1.-testFrac))\n",
    "model.save('../models/KMNIST2.h5')"
   ]
  },
  {
   "cell_type": "code",
   "execution_count": 9,
   "metadata": {},
   "outputs": [
    {
     "name": "stdout",
     "output_type": "stream",
     "text": [
      "Model: \"sequential_3\"\n",
      "_________________________________________________________________\n",
      "Layer (type)                 Output Shape              Param #   \n",
      "=================================================================\n",
      "conv2d_12 (Conv2D)           (None, 30, 30, 16)        160       \n",
      "_________________________________________________________________\n",
      "spatial_dropout2d_12 (Spatia (None, 30, 30, 16)        0         \n",
      "_________________________________________________________________\n",
      "conv2d_13 (Conv2D)           (None, 28, 28, 16)        2320      \n",
      "_________________________________________________________________\n",
      "spatial_dropout2d_13 (Spatia (None, 28, 28, 16)        0         \n",
      "_________________________________________________________________\n",
      "max_pooling2d_3 (MaxPooling2 (None, 14, 14, 16)        0         \n",
      "_________________________________________________________________\n",
      "conv2d_14 (Conv2D)           (None, 12, 12, 32)        4640      \n",
      "_________________________________________________________________\n",
      "spatial_dropout2d_14 (Spatia (None, 12, 12, 32)        0         \n",
      "_________________________________________________________________\n",
      "conv2d_15 (Conv2D)           (None, 10, 10, 32)        9248      \n",
      "_________________________________________________________________\n",
      "spatial_dropout2d_15 (Spatia (None, 10, 10, 32)        0         \n",
      "_________________________________________________________________\n",
      "flatten_3 (Flatten)          (None, 3200)              0         \n",
      "_________________________________________________________________\n",
      "dense_6 (Dense)              (None, 256)               819456    \n",
      "_________________________________________________________________\n",
      "dropout_3 (Dropout)          (None, 256)               0         \n",
      "_________________________________________________________________\n",
      "dense_7 (Dense)              (None, 4787)              1230259   \n",
      "=================================================================\n",
      "Total params: 2,066,083\n",
      "Trainable params: 2,066,083\n",
      "Non-trainable params: 0\n",
      "_________________________________________________________________\n"
     ]
    }
   ],
   "source": [
    "dropoutRate = 0.5\n",
    "\n",
    "model = keras.models.Sequential()\n",
    "model.add(keras.layers.Conv2D(16, (3, 3), activation='relu', input_shape=image.shape[1:]))\n",
    "model.add(keras.layers.SpatialDropout2D(dropoutRate))\n",
    "model.add(keras.layers.Conv2D(16, (3, 3), activation='relu'))\n",
    "model.add(keras.layers.SpatialDropout2D(dropoutRate))\n",
    "model.add(keras.layers.MaxPooling2D((2, 2)))\n",
    "model.add(keras.layers.Conv2D(32, (3, 3), activation='relu'))\n",
    "model.add(keras.layers.SpatialDropout2D(dropoutRate))\n",
    "model.add(keras.layers.Conv2D(32, (3, 3), activation='relu'))\n",
    "model.add(keras.layers.SpatialDropout2D(dropoutRate))\n",
    "model.add(keras.layers.Flatten())\n",
    "model.add(keras.layers.Dense(256, activation='relu'))\n",
    "model.add(keras.layers.Dropout(dropoutRate))\n",
    "model.add(keras.layers.Dense(len(unicodeData), activation='softmax'))\n",
    "model.summary()\n",
    "\n",
    "model.compile(optimizer='adam',loss='sparse_categorical_crossentropy',metrics=['accuracy'])"
   ]
  },
  {
   "cell_type": "code",
   "execution_count": 10,
   "metadata": {},
   "outputs": [
    {
     "name": "stdout",
     "output_type": "stream",
     "text": [
      "Train on 478424 samples, validate on 102520 samples\n",
      "Epoch 1/5\n",
      "478424/478424 [==============================] - 612s 1ms/sample - loss: 3.6970 - acc: 0.3668 - val_loss: 2.4662 - val_acc: 0.5723\n",
      "Epoch 2/5\n",
      "478424/478424 [==============================] - 630s 1ms/sample - loss: 2.9308 - acc: 0.4788 - val_loss: 2.1859 - val_acc: 0.6163\n",
      "Epoch 3/5\n",
      "478424/478424 [==============================] - 567s 1ms/sample - loss: 2.8272 - acc: 0.4934 - val_loss: 2.0808 - val_acc: 0.6329\n",
      "Epoch 4/5\n",
      "478424/478424 [==============================] - 556s 1ms/sample - loss: 2.7916 - acc: 0.4970 - val_loss: 2.0186 - val_acc: 0.6427\n",
      "Epoch 5/5\n",
      "478424/478424 [==============================] - 398s 832us/sample - loss: 2.7860 - acc: 0.4979 - val_loss: 2.0089 - val_acc: 0.6447\n"
     ]
    }
   ],
   "source": [
    "model.fit(image[:nFrac], charOutput[:nFrac], epochs=5, validation_split=testFrac/(1.-testFrac))\n",
    "model.save('../models/KMNIST3.h5')"
   ]
  },
  {
   "cell_type": "code",
   "execution_count": 11,
   "metadata": {},
   "outputs": [
    {
     "name": "stdout",
     "output_type": "stream",
     "text": [
      "Model: \"sequential_4\"\n",
      "_________________________________________________________________\n",
      "Layer (type)                 Output Shape              Param #   \n",
      "=================================================================\n",
      "conv2d_16 (Conv2D)           (None, 30, 30, 16)        160       \n",
      "_________________________________________________________________\n",
      "spatial_dropout2d_16 (Spatia (None, 30, 30, 16)        0         \n",
      "_________________________________________________________________\n",
      "conv2d_17 (Conv2D)           (None, 28, 28, 16)        2320      \n",
      "_________________________________________________________________\n",
      "spatial_dropout2d_17 (Spatia (None, 28, 28, 16)        0         \n",
      "_________________________________________________________________\n",
      "max_pooling2d_4 (MaxPooling2 (None, 14, 14, 16)        0         \n",
      "_________________________________________________________________\n",
      "conv2d_18 (Conv2D)           (None, 12, 12, 32)        4640      \n",
      "_________________________________________________________________\n",
      "spatial_dropout2d_18 (Spatia (None, 12, 12, 32)        0         \n",
      "_________________________________________________________________\n",
      "conv2d_19 (Conv2D)           (None, 10, 10, 32)        9248      \n",
      "_________________________________________________________________\n",
      "spatial_dropout2d_19 (Spatia (None, 10, 10, 32)        0         \n",
      "_________________________________________________________________\n",
      "max_pooling2d_5 (MaxPooling2 (None, 5, 5, 32)          0         \n",
      "_________________________________________________________________\n",
      "conv2d_20 (Conv2D)           (None, 3, 3, 64)          18496     \n",
      "_________________________________________________________________\n",
      "spatial_dropout2d_20 (Spatia (None, 3, 3, 64)          0         \n",
      "_________________________________________________________________\n",
      "flatten_4 (Flatten)          (None, 576)               0         \n",
      "_________________________________________________________________\n",
      "dense_8 (Dense)              (None, 128)               73856     \n",
      "_________________________________________________________________\n",
      "dropout_4 (Dropout)          (None, 128)               0         \n",
      "_________________________________________________________________\n",
      "dense_9 (Dense)              (None, 4787)              617523    \n",
      "=================================================================\n",
      "Total params: 726,243\n",
      "Trainable params: 726,243\n",
      "Non-trainable params: 0\n",
      "_________________________________________________________________\n"
     ]
    }
   ],
   "source": [
    "dropoutRate = 0.5\n",
    "\n",
    "model = keras.models.Sequential()\n",
    "model.add(keras.layers.Conv2D(16, (3, 3), activation='relu', input_shape=image.shape[1:]))\n",
    "model.add(keras.layers.SpatialDropout2D(dropoutRate))\n",
    "model.add(keras.layers.Conv2D(16, (3, 3), activation='relu'))\n",
    "model.add(keras.layers.SpatialDropout2D(dropoutRate))\n",
    "model.add(keras.layers.MaxPooling2D((2, 2)))\n",
    "model.add(keras.layers.Conv2D(32, (3, 3), activation='relu'))\n",
    "model.add(keras.layers.SpatialDropout2D(dropoutRate))\n",
    "model.add(keras.layers.Conv2D(32, (3, 3), activation='relu'))\n",
    "model.add(keras.layers.SpatialDropout2D(dropoutRate))\n",
    "model.add(keras.layers.MaxPooling2D((2, 2)))\n",
    "model.add(keras.layers.Conv2D(64, (3, 3), activation='relu'))\n",
    "model.add(keras.layers.SpatialDropout2D(dropoutRate))\n",
    "model.add(keras.layers.Flatten())\n",
    "model.add(keras.layers.Dense(128, activation='relu'))\n",
    "model.add(keras.layers.Dropout(dropoutRate))\n",
    "model.add(keras.layers.Dense(len(unicodeData), activation='softmax'))\n",
    "model.summary()\n",
    "\n",
    "model.compile(optimizer='adam',loss='sparse_categorical_crossentropy',metrics=['accuracy'])"
   ]
  },
  {
   "cell_type": "code",
   "execution_count": 12,
   "metadata": {},
   "outputs": [
    {
     "name": "stdout",
     "output_type": "stream",
     "text": [
      "Train on 478424 samples, validate on 102520 samples\n",
      "Epoch 1/5\n",
      "478424/478424 [==============================] - 333s 696us/sample - loss: 4.3671 - acc: 0.2399 - val_loss: 3.1050 - val_acc: 0.4387\n",
      "Epoch 2/5\n",
      "478424/478424 [==============================] - 330s 690us/sample - loss: 3.5764 - acc: 0.3544 - val_loss: 2.8102 - val_acc: 0.4892\n",
      "Epoch 3/5\n",
      "478424/478424 [==============================] - 333s 695us/sample - loss: 3.4758 - acc: 0.3690 - val_loss: 2.6842 - val_acc: 0.5058\n",
      "Epoch 4/5\n",
      "478424/478424 [==============================] - 337s 705us/sample - loss: 3.4492 - acc: 0.3726 - val_loss: 2.6470 - val_acc: 0.5119\n",
      "Epoch 5/5\n",
      "478424/478424 [==============================] - 330s 690us/sample - loss: 3.4554 - acc: 0.3718 - val_loss: 2.6807 - val_acc: 0.5082\n"
     ]
    }
   ],
   "source": [
    "model.fit(image[:nFrac], charOutput[:nFrac], epochs=5, validation_split=testFrac/(1.-testFrac))\n",
    "model.save('../models/KMNIST4.h5')"
   ]
  },
  {
   "cell_type": "code",
   "execution_count": null,
   "metadata": {},
   "outputs": [],
   "source": []
  }
 ],
 "metadata": {
  "kernelspec": {
   "display_name": "Python 3",
   "language": "python",
   "name": "python3"
  },
  "language_info": {
   "codemirror_mode": {
    "name": "ipython",
    "version": 3
   },
   "file_extension": ".py",
   "mimetype": "text/x-python",
   "name": "python",
   "nbconvert_exporter": "python",
   "pygments_lexer": "ipython3",
   "version": "3.7.3"
  }
 },
 "nbformat": 4,
 "nbformat_minor": 4
}
