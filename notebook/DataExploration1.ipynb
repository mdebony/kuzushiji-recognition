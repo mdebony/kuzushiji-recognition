{
 "cells": [
  {
   "cell_type": "code",
   "execution_count": 1,
   "metadata": {},
   "outputs": [],
   "source": [
    "import pandas as pd\n",
    "import numpy as np\n",
    "import matplotlib.pyplot as plt\n",
    "import imageio\n",
    "import math\n",
    "\n",
    "dataRep = '../data/'"
   ]
  },
  {
   "cell_type": "code",
   "execution_count": 2,
   "metadata": {},
   "outputs": [],
   "source": [
    "import time, sys\n",
    "from IPython.display import clear_output\n",
    "\n",
    "def update_progress(progress):\n",
    "    bar_length = 20\n",
    "    if isinstance(progress, int):\n",
    "        progress = float(progress)\n",
    "    if not isinstance(progress, float):\n",
    "        progress = 0\n",
    "    if progress < 0:\n",
    "        progress = 0\n",
    "    if progress >= 1:\n",
    "        progress = 1\n",
    "\n",
    "    block = int(round(bar_length * progress))\n",
    "\n",
    "    clear_output(wait = True)\n",
    "    text = \"Progress: [{0}] {1:.1f}%\".format( \"#\" * block + \"-\" * (bar_length - block), progress * 100)\n",
    "    print(text)"
   ]
  },
  {
   "cell_type": "code",
   "execution_count": 3,
   "metadata": {},
   "outputs": [],
   "source": [
    "trainData = pd.read_csv(dataRep+'train.csv')\n",
    "unicodeData = pd.read_csv(dataRep+'unicode_translation.csv')\n",
    "sampleSubData = pd.read_csv(dataRep+'sample_submission.csv')"
   ]
  },
  {
   "cell_type": "code",
   "execution_count": 4,
   "metadata": {},
   "outputs": [
    {
     "data": {
      "text/html": [
       "<div>\n",
       "<style scoped>\n",
       "    .dataframe tbody tr th:only-of-type {\n",
       "        vertical-align: middle;\n",
       "    }\n",
       "\n",
       "    .dataframe tbody tr th {\n",
       "        vertical-align: top;\n",
       "    }\n",
       "\n",
       "    .dataframe thead th {\n",
       "        text-align: right;\n",
       "    }\n",
       "</style>\n",
       "<table border=\"1\" class=\"dataframe\">\n",
       "  <thead>\n",
       "    <tr style=\"text-align: right;\">\n",
       "      <th></th>\n",
       "      <th>image_id</th>\n",
       "      <th>labels</th>\n",
       "    </tr>\n",
       "  </thead>\n",
       "  <tbody>\n",
       "    <tr>\n",
       "      <td>0</td>\n",
       "      <td>100241706_00004_2</td>\n",
       "      <td>U+306F 1231 3465 133 53 U+304C 275 1652 84 69 ...</td>\n",
       "    </tr>\n",
       "    <tr>\n",
       "      <td>1</td>\n",
       "      <td>100241706_00005_1</td>\n",
       "      <td>U+306F 1087 2018 103 65 U+304B 1456 1832 40 73...</td>\n",
       "    </tr>\n",
       "    <tr>\n",
       "      <td>2</td>\n",
       "      <td>100241706_00005_2</td>\n",
       "      <td>U+306F 572 1376 125 57 U+306E 1551 2080 69 68 ...</td>\n",
       "    </tr>\n",
       "    <tr>\n",
       "      <td>3</td>\n",
       "      <td>100241706_00006_1</td>\n",
       "      <td>U+3082 1455 3009 65 44 U+516B 1654 1528 141 75...</td>\n",
       "    </tr>\n",
       "    <tr>\n",
       "      <td>4</td>\n",
       "      <td>100241706_00007_2</td>\n",
       "      <td>U+309D 1201 2949 27 33 U+309D 1196 1539 27 36 ...</td>\n",
       "    </tr>\n",
       "    <tr>\n",
       "      <td>...</td>\n",
       "      <td>...</td>\n",
       "      <td>...</td>\n",
       "    </tr>\n",
       "    <tr>\n",
       "      <td>3876</td>\n",
       "      <td>umgy012-039</td>\n",
       "      <td>U+309D 426 456 30 34 U+306F 584 359 82 45 U+30...</td>\n",
       "    </tr>\n",
       "    <tr>\n",
       "      <td>3877</td>\n",
       "      <td>umgy012-040</td>\n",
       "      <td>U+30DE 677 327 68 35 U+3078 1424 463 110 43 U+...</td>\n",
       "    </tr>\n",
       "    <tr>\n",
       "      <td>3878</td>\n",
       "      <td>umgy012-041</td>\n",
       "      <td>U+309D 1582 802 16 34 U+306F 597 2337 72 42 U+...</td>\n",
       "    </tr>\n",
       "    <tr>\n",
       "      <td>3879</td>\n",
       "      <td>umgy012-042</td>\n",
       "      <td>U+4E00 1050 898 86 21 U+309D 724 1864 27 29 U+...</td>\n",
       "    </tr>\n",
       "    <tr>\n",
       "      <td>3880</td>\n",
       "      <td>umgy012-043</td>\n",
       "      <td>NaN</td>\n",
       "    </tr>\n",
       "  </tbody>\n",
       "</table>\n",
       "<p>3881 rows × 2 columns</p>\n",
       "</div>"
      ],
      "text/plain": [
       "               image_id                                             labels\n",
       "0     100241706_00004_2  U+306F 1231 3465 133 53 U+304C 275 1652 84 69 ...\n",
       "1     100241706_00005_1  U+306F 1087 2018 103 65 U+304B 1456 1832 40 73...\n",
       "2     100241706_00005_2  U+306F 572 1376 125 57 U+306E 1551 2080 69 68 ...\n",
       "3     100241706_00006_1  U+3082 1455 3009 65 44 U+516B 1654 1528 141 75...\n",
       "4     100241706_00007_2  U+309D 1201 2949 27 33 U+309D 1196 1539 27 36 ...\n",
       "...                 ...                                                ...\n",
       "3876        umgy012-039  U+309D 426 456 30 34 U+306F 584 359 82 45 U+30...\n",
       "3877        umgy012-040  U+30DE 677 327 68 35 U+3078 1424 463 110 43 U+...\n",
       "3878        umgy012-041  U+309D 1582 802 16 34 U+306F 597 2337 72 42 U+...\n",
       "3879        umgy012-042  U+4E00 1050 898 86 21 U+309D 724 1864 27 29 U+...\n",
       "3880        umgy012-043                                                NaN\n",
       "\n",
       "[3881 rows x 2 columns]"
      ]
     },
     "execution_count": 4,
     "metadata": {},
     "output_type": "execute_result"
    }
   ],
   "source": [
    "trainData"
   ]
  },
  {
   "cell_type": "code",
   "execution_count": 5,
   "metadata": {},
   "outputs": [
    {
     "data": {
      "text/html": [
       "<div>\n",
       "<style scoped>\n",
       "    .dataframe tbody tr th:only-of-type {\n",
       "        vertical-align: middle;\n",
       "    }\n",
       "\n",
       "    .dataframe tbody tr th {\n",
       "        vertical-align: top;\n",
       "    }\n",
       "\n",
       "    .dataframe thead th {\n",
       "        text-align: right;\n",
       "    }\n",
       "</style>\n",
       "<table border=\"1\" class=\"dataframe\">\n",
       "  <thead>\n",
       "    <tr style=\"text-align: right;\">\n",
       "      <th></th>\n",
       "      <th>Unicode</th>\n",
       "      <th>char</th>\n",
       "    </tr>\n",
       "  </thead>\n",
       "  <tbody>\n",
       "    <tr>\n",
       "      <td>0</td>\n",
       "      <td>U+0031</td>\n",
       "      <td>1</td>\n",
       "    </tr>\n",
       "    <tr>\n",
       "      <td>1</td>\n",
       "      <td>U+0032</td>\n",
       "      <td>2</td>\n",
       "    </tr>\n",
       "    <tr>\n",
       "      <td>2</td>\n",
       "      <td>U+0034</td>\n",
       "      <td>4</td>\n",
       "    </tr>\n",
       "    <tr>\n",
       "      <td>3</td>\n",
       "      <td>U+0036</td>\n",
       "      <td>6</td>\n",
       "    </tr>\n",
       "    <tr>\n",
       "      <td>4</td>\n",
       "      <td>U+0039</td>\n",
       "      <td>9</td>\n",
       "    </tr>\n",
       "    <tr>\n",
       "      <td>...</td>\n",
       "      <td>...</td>\n",
       "      <td>...</td>\n",
       "    </tr>\n",
       "    <tr>\n",
       "      <td>4782</td>\n",
       "      <td>U+FA5C</td>\n",
       "      <td>臭</td>\n",
       "    </tr>\n",
       "    <tr>\n",
       "      <td>4783</td>\n",
       "      <td>U+FA65</td>\n",
       "      <td>贈</td>\n",
       "    </tr>\n",
       "    <tr>\n",
       "      <td>4784</td>\n",
       "      <td>U+FA68</td>\n",
       "      <td>難</td>\n",
       "    </tr>\n",
       "    <tr>\n",
       "      <td>4785</td>\n",
       "      <td>U+FF0D</td>\n",
       "      <td>－</td>\n",
       "    </tr>\n",
       "    <tr>\n",
       "      <td>4786</td>\n",
       "      <td>U+FF2F</td>\n",
       "      <td>Ｏ</td>\n",
       "    </tr>\n",
       "  </tbody>\n",
       "</table>\n",
       "<p>4787 rows × 2 columns</p>\n",
       "</div>"
      ],
      "text/plain": [
       "     Unicode char\n",
       "0     U+0031    1\n",
       "1     U+0032    2\n",
       "2     U+0034    4\n",
       "3     U+0036    6\n",
       "4     U+0039    9\n",
       "...      ...  ...\n",
       "4782  U+FA5C    臭\n",
       "4783  U+FA65    贈\n",
       "4784  U+FA68    難\n",
       "4785  U+FF0D    －\n",
       "4786  U+FF2F    Ｏ\n",
       "\n",
       "[4787 rows x 2 columns]"
      ]
     },
     "execution_count": 5,
     "metadata": {},
     "output_type": "execute_result"
    }
   ],
   "source": [
    "unicodeData"
   ]
  },
  {
   "cell_type": "code",
   "execution_count": 6,
   "metadata": {},
   "outputs": [
    {
     "data": {
      "text/html": [
       "<div>\n",
       "<style scoped>\n",
       "    .dataframe tbody tr th:only-of-type {\n",
       "        vertical-align: middle;\n",
       "    }\n",
       "\n",
       "    .dataframe tbody tr th {\n",
       "        vertical-align: top;\n",
       "    }\n",
       "\n",
       "    .dataframe thead th {\n",
       "        text-align: right;\n",
       "    }\n",
       "</style>\n",
       "<table border=\"1\" class=\"dataframe\">\n",
       "  <thead>\n",
       "    <tr style=\"text-align: right;\">\n",
       "      <th></th>\n",
       "      <th>image_id</th>\n",
       "      <th>labels</th>\n",
       "    </tr>\n",
       "  </thead>\n",
       "  <tbody>\n",
       "    <tr>\n",
       "      <td>0</td>\n",
       "      <td>test_00145af3</td>\n",
       "      <td>U+003F 1 1 U+FF2F 2 2</td>\n",
       "    </tr>\n",
       "    <tr>\n",
       "      <td>1</td>\n",
       "      <td>test_001c37e2</td>\n",
       "      <td>U+003F 1 1 U+FF2F 2 2</td>\n",
       "    </tr>\n",
       "    <tr>\n",
       "      <td>2</td>\n",
       "      <td>test_003aa33a</td>\n",
       "      <td>U+003F 1 1 U+FF2F 2 2</td>\n",
       "    </tr>\n",
       "    <tr>\n",
       "      <td>3</td>\n",
       "      <td>test_00665e33</td>\n",
       "      <td>U+003F 1 1 U+FF2F 2 2</td>\n",
       "    </tr>\n",
       "    <tr>\n",
       "      <td>4</td>\n",
       "      <td>test_006964dc</td>\n",
       "      <td>U+003F 1 1 U+FF2F 2 2</td>\n",
       "    </tr>\n",
       "    <tr>\n",
       "      <td>...</td>\n",
       "      <td>...</td>\n",
       "      <td>...</td>\n",
       "    </tr>\n",
       "    <tr>\n",
       "      <td>4145</td>\n",
       "      <td>test_ffb1f141</td>\n",
       "      <td>U+003F 1 1 U+FF2F 2 2</td>\n",
       "    </tr>\n",
       "    <tr>\n",
       "      <td>4146</td>\n",
       "      <td>test_ffe0bb66</td>\n",
       "      <td>U+003F 1 1 U+FF2F 2 2</td>\n",
       "    </tr>\n",
       "    <tr>\n",
       "      <td>4147</td>\n",
       "      <td>test_fff039a9</td>\n",
       "      <td>U+003F 1 1 U+FF2F 2 2</td>\n",
       "    </tr>\n",
       "    <tr>\n",
       "      <td>4148</td>\n",
       "      <td>test_fff50dbc</td>\n",
       "      <td>U+003F 1 1 U+FF2F 2 2</td>\n",
       "    </tr>\n",
       "    <tr>\n",
       "      <td>4149</td>\n",
       "      <td>test_fff8c890</td>\n",
       "      <td>U+003F 1 1 U+FF2F 2 2</td>\n",
       "    </tr>\n",
       "  </tbody>\n",
       "</table>\n",
       "<p>4150 rows × 2 columns</p>\n",
       "</div>"
      ],
      "text/plain": [
       "           image_id                 labels\n",
       "0     test_00145af3  U+003F 1 1 U+FF2F 2 2\n",
       "1     test_001c37e2  U+003F 1 1 U+FF2F 2 2\n",
       "2     test_003aa33a  U+003F 1 1 U+FF2F 2 2\n",
       "3     test_00665e33  U+003F 1 1 U+FF2F 2 2\n",
       "4     test_006964dc  U+003F 1 1 U+FF2F 2 2\n",
       "...             ...                    ...\n",
       "4145  test_ffb1f141  U+003F 1 1 U+FF2F 2 2\n",
       "4146  test_ffe0bb66  U+003F 1 1 U+FF2F 2 2\n",
       "4147  test_fff039a9  U+003F 1 1 U+FF2F 2 2\n",
       "4148  test_fff50dbc  U+003F 1 1 U+FF2F 2 2\n",
       "4149  test_fff8c890  U+003F 1 1 U+FF2F 2 2\n",
       "\n",
       "[4150 rows x 2 columns]"
      ]
     },
     "execution_count": 6,
     "metadata": {},
     "output_type": "execute_result"
    }
   ],
   "source": [
    "sampleSubData"
   ]
  },
  {
   "cell_type": "code",
   "execution_count": 7,
   "metadata": {},
   "outputs": [
    {
     "name": "stdout",
     "output_type": "stream",
     "text": [
      "Progress: [####################] 100.0%\n"
     ]
    }
   ],
   "source": [
    "imTrainSize = []\n",
    "imTestSize = []\n",
    "nImage = trainData.shape[0] + sampleSubData.shape[0]\n",
    "\n",
    "print('Read train image')\n",
    "i=0\n",
    "for idImage in trainData['image_id']:\n",
    "    i+=1\n",
    "    update_progress(float(i)/float(nImage))\n",
    "    image = imageio.imread(dataRep+'train_images/'+idImage+'.jpg')\n",
    "    imTrainSize.append(image.shape)\n",
    "    del image\n",
    "    \n",
    "print('Read test image')\n",
    "for idImage in sampleSubData['image_id']:\n",
    "    i+=1\n",
    "    update_progress(float(i)/float(nImage))\n",
    "    image = imageio.imread(dataRep+'test_images/'+idImage+'.jpg')\n",
    "    imTestSize.append(image.shape)\n",
    "    del image"
   ]
  },
  {
   "cell_type": "code",
   "execution_count": 8,
   "metadata": {},
   "outputs": [
    {
     "name": "stdout",
     "output_type": "stream",
     "text": [
      "[3.062e+03 2.015e+03 3.000e+00] [3.24514919e+03 2.09767405e+03 3.00000000e+00] [503.98481351 357.46796458   0.        ] [4493 3248    3] [1933 1146    3]\n",
      "[3.274e+03 2.158e+03 3.000e+00] [3.34191012e+03 2.19625807e+03 3.00000000e+00] [430.9226519  286.05055102   0.        ] [5286 3442    3] [2353 1747    3]\n"
     ]
    }
   ],
   "source": [
    "print(np.median(imTrainSize,axis=0),np.mean(imTrainSize,axis=0),np.std(imTrainSize,axis=0),np.max(imTrainSize,axis=0),np.min(imTrainSize,axis=0))\n",
    "print(np.median(imTestSize,axis=0),np.mean(imTestSize,axis=0),np.std(imTestSize,axis=0),np.max(imTestSize,axis=0),np.min(imTestSize,axis=0))"
   ]
  },
  {
   "cell_type": "code",
   "execution_count": 9,
   "metadata": {},
   "outputs": [],
   "source": [
    "ratioTrain = []\n",
    "ratioTest = []\n",
    "\n",
    "for i in range(len(imTrainSize)):\n",
    "    ratioTrain.append(imTrainSize[i][0]/imTrainSize[i][1])\n",
    "for i in range(len(imTestSize)):\n",
    "    ratioTest.append(imTestSize[i][0]/imTestSize[i][1])"
   ]
  },
  {
   "cell_type": "code",
   "execution_count": 10,
   "metadata": {},
   "outputs": [
    {
     "name": "stdout",
     "output_type": "stream",
     "text": [
      "1.5611510791366907 1.5589673275830938 0.14356525749487917 2.2958115183246073 0.6557881773399015\n",
      "1.5144844745864727 1.523248398832494 0.06572724008861697 1.706803455723542 1.3116022099447513\n"
     ]
    }
   ],
   "source": [
    "print(np.median(ratioTrain), np.mean(ratioTrain), np.std(ratioTrain), np.max(ratioTrain), np.min(ratioTrain))\n",
    "print(np.median(ratioTest), np.mean(ratioTest), np.std(ratioTest), np.max(ratioTest), np.min(ratioTest))"
   ]
  },
  {
   "cell_type": "code",
   "execution_count": 22,
   "metadata": {},
   "outputs": [
    {
     "name": "stderr",
     "output_type": "stream",
     "text": [
      "IOPub message rate exceeded.\n",
      "The notebook server will temporarily stop sending output\n",
      "to the client in order to avoid crashing it.\n",
      "To change this limit, set the config variable\n",
      "`--NotebookApp.iopub_msg_rate_limit`.\n",
      "\n",
      "Current values:\n",
      "NotebookApp.iopub_msg_rate_limit=1000.0 (msgs/sec)\n",
      "NotebookApp.rate_limit_window=3.0 (secs)\n",
      "\n"
     ]
    }
   ],
   "source": [
    "labelTrainSize = []\n",
    "caracHeigtTrainSize = []\n",
    "caracWidthTrainSize = []\n",
    "\n",
    "print('Read train image')\n",
    "i=0\n",
    "for label in trainData['labels']:\n",
    "    i+=1\n",
    "    update_progress(float(i)/float(len(trainData['labels'])))\n",
    "    if(isinstance(label, float)):\n",
    "        labelTrainSize.append(0)\n",
    "    else:\n",
    "        labelS = label.split()\n",
    "        labelTrainSize.append(int(len(labelS)/5))\n",
    "        for j in range(0, 5*labelTrainSize[-1], 5):\n",
    "            caracWidthTrainSize.append(int(labelS[j+3]))\n",
    "            caracHeigtTrainSize.append(int(labelS[j+4]))"
   ]
  },
  {
   "cell_type": "code",
   "execution_count": 23,
   "metadata": {},
   "outputs": [
    {
     "name": "stdout",
     "output_type": "stream",
     "text": [
      "183.0 176.1051275444473 99.78276469854036 614 0\n"
     ]
    }
   ],
   "source": [
    "print(np.median(labelTrainSize),np.mean(labelTrainSize),np.std(labelTrainSize),np.max(labelTrainSize),np.min(labelTrainSize))"
   ]
  },
  {
   "cell_type": "code",
   "execution_count": 24,
   "metadata": {},
   "outputs": [
    {
     "name": "stdout",
     "output_type": "stream",
     "text": [
      "77.0 77.20407804946566 30.46309149152613 520 6\n"
     ]
    }
   ],
   "source": [
    "print(np.median(caracWidthTrainSize),np.mean(caracWidthTrainSize),np.std(caracWidthTrainSize),np.max(caracWidthTrainSize),np.min(caracWidthTrainSize))"
   ]
  },
  {
   "cell_type": "code",
   "execution_count": 25,
   "metadata": {},
   "outputs": [
    {
     "name": "stdout",
     "output_type": "stream",
     "text": [
      "91.0 94.93389556728664 34.49913689659226 993 5\n"
     ]
    }
   ],
   "source": [
    "print(np.median(caracHeigtTrainSize),np.mean(caracHeigtTrainSize),np.std(caracHeigtTrainSize),np.max(caracHeigtTrainSize),np.min(caracHeigtTrainSize))"
   ]
  },
  {
   "cell_type": "code",
   "execution_count": 26,
   "metadata": {},
   "outputs": [
    {
     "name": "stdout",
     "output_type": "stream",
     "text": [
      "683464\n"
     ]
    }
   ],
   "source": [
    "print(np.sum(labelTrainSize))"
   ]
  },
  {
   "cell_type": "code",
   "execution_count": null,
   "metadata": {},
   "outputs": [],
   "source": []
  }
 ],
 "metadata": {
  "kernelspec": {
   "display_name": "Python 3",
   "language": "python",
   "name": "python3"
  },
  "language_info": {
   "codemirror_mode": {
    "name": "ipython",
    "version": 3
   },
   "file_extension": ".py",
   "mimetype": "text/x-python",
   "name": "python",
   "nbconvert_exporter": "python",
   "pygments_lexer": "ipython3",
   "version": "3.7.3"
  }
 },
 "nbformat": 4,
 "nbformat_minor": 4
}
