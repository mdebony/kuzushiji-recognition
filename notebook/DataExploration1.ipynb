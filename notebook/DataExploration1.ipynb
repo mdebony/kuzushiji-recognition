{
 "cells": [
  {
   "cell_type": "code",
   "execution_count": 1,
   "metadata": {},
   "outputs": [],
   "source": [
    "import pandas as pd\n",
    "import numpy as np\n",
    "import matplotlib.pyplot as plt\n",
    "import imageio\n",
    "import math\n",
    "\n",
    "dataRep = '../data/'"
   ]
  },
  {
   "cell_type": "code",
   "execution_count": 2,
   "metadata": {},
   "outputs": [],
   "source": [
    "import time, sys\n",
    "from IPython.display import clear_output\n",
    "\n",
    "def update_progress(progress):\n",
    "    bar_length = 20\n",
    "    if isinstance(progress, int):\n",
    "        progress = float(progress)\n",
    "    if not isinstance(progress, float):\n",
    "        progress = 0\n",
    "    if progress < 0:\n",
    "        progress = 0\n",
    "    if progress >= 1:\n",
    "        progress = 1\n",
    "\n",
    "    block = int(round(bar_length * progress))\n",
    "\n",
    "    clear_output(wait = True)\n",
    "    text = \"Progress: [{0}] {1:.1f}%\".format( \"#\" * block + \"-\" * (bar_length - block), progress * 100)\n",
    "    print(text)"
   ]
  },
  {
   "cell_type": "code",
   "execution_count": 3,
   "metadata": {},
   "outputs": [],
   "source": [
    "trainData = pd.read_csv(dataRep+'train.csv')\n",
    "unicodeData = pd.read_csv(dataRep+'unicode_translation.csv')\n",
    "sampleSubData = pd.read_csv(dataRep+'sample_submission.csv')"
   ]
  },
  {
   "cell_type": "code",
   "execution_count": 4,
   "metadata": {},
   "outputs": [
    {
     "data": {
      "text/html": [
       "<div>\n",
       "<style scoped>\n",
       "    .dataframe tbody tr th:only-of-type {\n",
       "        vertical-align: middle;\n",
       "    }\n",
       "\n",
       "    .dataframe tbody tr th {\n",
       "        vertical-align: top;\n",
       "    }\n",
       "\n",
       "    .dataframe thead th {\n",
       "        text-align: right;\n",
       "    }\n",
       "</style>\n",
       "<table border=\"1\" class=\"dataframe\">\n",
       "  <thead>\n",
       "    <tr style=\"text-align: right;\">\n",
       "      <th></th>\n",
       "      <th>image_id</th>\n",
       "      <th>labels</th>\n",
       "    </tr>\n",
       "  </thead>\n",
       "  <tbody>\n",
       "    <tr>\n",
       "      <td>0</td>\n",
       "      <td>100241706_00004_2</td>\n",
       "      <td>U+306F 1231 3465 133 53 U+304C 275 1652 84 69 ...</td>\n",
       "    </tr>\n",
       "    <tr>\n",
       "      <td>1</td>\n",
       "      <td>100241706_00005_1</td>\n",
       "      <td>U+306F 1087 2018 103 65 U+304B 1456 1832 40 73...</td>\n",
       "    </tr>\n",
       "    <tr>\n",
       "      <td>2</td>\n",
       "      <td>100241706_00005_2</td>\n",
       "      <td>U+306F 572 1376 125 57 U+306E 1551 2080 69 68 ...</td>\n",
       "    </tr>\n",
       "    <tr>\n",
       "      <td>3</td>\n",
       "      <td>100241706_00006_1</td>\n",
       "      <td>U+3082 1455 3009 65 44 U+516B 1654 1528 141 75...</td>\n",
       "    </tr>\n",
       "    <tr>\n",
       "      <td>4</td>\n",
       "      <td>100241706_00007_2</td>\n",
       "      <td>U+309D 1201 2949 27 33 U+309D 1196 1539 27 36 ...</td>\n",
       "    </tr>\n",
       "    <tr>\n",
       "      <td>...</td>\n",
       "      <td>...</td>\n",
       "      <td>...</td>\n",
       "    </tr>\n",
       "    <tr>\n",
       "      <td>3876</td>\n",
       "      <td>umgy012-039</td>\n",
       "      <td>U+309D 426 456 30 34 U+306F 584 359 82 45 U+30...</td>\n",
       "    </tr>\n",
       "    <tr>\n",
       "      <td>3877</td>\n",
       "      <td>umgy012-040</td>\n",
       "      <td>U+30DE 677 327 68 35 U+3078 1424 463 110 43 U+...</td>\n",
       "    </tr>\n",
       "    <tr>\n",
       "      <td>3878</td>\n",
       "      <td>umgy012-041</td>\n",
       "      <td>U+309D 1582 802 16 34 U+306F 597 2337 72 42 U+...</td>\n",
       "    </tr>\n",
       "    <tr>\n",
       "      <td>3879</td>\n",
       "      <td>umgy012-042</td>\n",
       "      <td>U+4E00 1050 898 86 21 U+309D 724 1864 27 29 U+...</td>\n",
       "    </tr>\n",
       "    <tr>\n",
       "      <td>3880</td>\n",
       "      <td>umgy012-043</td>\n",
       "      <td>NaN</td>\n",
       "    </tr>\n",
       "  </tbody>\n",
       "</table>\n",
       "<p>3881 rows × 2 columns</p>\n",
       "</div>"
      ],
      "text/plain": [
       "               image_id                                             labels\n",
       "0     100241706_00004_2  U+306F 1231 3465 133 53 U+304C 275 1652 84 69 ...\n",
       "1     100241706_00005_1  U+306F 1087 2018 103 65 U+304B 1456 1832 40 73...\n",
       "2     100241706_00005_2  U+306F 572 1376 125 57 U+306E 1551 2080 69 68 ...\n",
       "3     100241706_00006_1  U+3082 1455 3009 65 44 U+516B 1654 1528 141 75...\n",
       "4     100241706_00007_2  U+309D 1201 2949 27 33 U+309D 1196 1539 27 36 ...\n",
       "...                 ...                                                ...\n",
       "3876        umgy012-039  U+309D 426 456 30 34 U+306F 584 359 82 45 U+30...\n",
       "3877        umgy012-040  U+30DE 677 327 68 35 U+3078 1424 463 110 43 U+...\n",
       "3878        umgy012-041  U+309D 1582 802 16 34 U+306F 597 2337 72 42 U+...\n",
       "3879        umgy012-042  U+4E00 1050 898 86 21 U+309D 724 1864 27 29 U+...\n",
       "3880        umgy012-043                                                NaN\n",
       "\n",
       "[3881 rows x 2 columns]"
      ]
     },
     "execution_count": 4,
     "metadata": {},
     "output_type": "execute_result"
    }
   ],
   "source": [
    "trainData"
   ]
  },
  {
   "cell_type": "code",
   "execution_count": 5,
   "metadata": {},
   "outputs": [
    {
     "data": {
      "text/html": [
       "<div>\n",
       "<style scoped>\n",
       "    .dataframe tbody tr th:only-of-type {\n",
       "        vertical-align: middle;\n",
       "    }\n",
       "\n",
       "    .dataframe tbody tr th {\n",
       "        vertical-align: top;\n",
       "    }\n",
       "\n",
       "    .dataframe thead th {\n",
       "        text-align: right;\n",
       "    }\n",
       "</style>\n",
       "<table border=\"1\" class=\"dataframe\">\n",
       "  <thead>\n",
       "    <tr style=\"text-align: right;\">\n",
       "      <th></th>\n",
       "      <th>Unicode</th>\n",
       "      <th>char</th>\n",
       "    </tr>\n",
       "  </thead>\n",
       "  <tbody>\n",
       "    <tr>\n",
       "      <td>0</td>\n",
       "      <td>U+0031</td>\n",
       "      <td>1</td>\n",
       "    </tr>\n",
       "    <tr>\n",
       "      <td>1</td>\n",
       "      <td>U+0032</td>\n",
       "      <td>2</td>\n",
       "    </tr>\n",
       "    <tr>\n",
       "      <td>2</td>\n",
       "      <td>U+0034</td>\n",
       "      <td>4</td>\n",
       "    </tr>\n",
       "    <tr>\n",
       "      <td>3</td>\n",
       "      <td>U+0036</td>\n",
       "      <td>6</td>\n",
       "    </tr>\n",
       "    <tr>\n",
       "      <td>4</td>\n",
       "      <td>U+0039</td>\n",
       "      <td>9</td>\n",
       "    </tr>\n",
       "    <tr>\n",
       "      <td>...</td>\n",
       "      <td>...</td>\n",
       "      <td>...</td>\n",
       "    </tr>\n",
       "    <tr>\n",
       "      <td>4782</td>\n",
       "      <td>U+FA5C</td>\n",
       "      <td>臭</td>\n",
       "    </tr>\n",
       "    <tr>\n",
       "      <td>4783</td>\n",
       "      <td>U+FA65</td>\n",
       "      <td>贈</td>\n",
       "    </tr>\n",
       "    <tr>\n",
       "      <td>4784</td>\n",
       "      <td>U+FA68</td>\n",
       "      <td>難</td>\n",
       "    </tr>\n",
       "    <tr>\n",
       "      <td>4785</td>\n",
       "      <td>U+FF0D</td>\n",
       "      <td>－</td>\n",
       "    </tr>\n",
       "    <tr>\n",
       "      <td>4786</td>\n",
       "      <td>U+FF2F</td>\n",
       "      <td>Ｏ</td>\n",
       "    </tr>\n",
       "  </tbody>\n",
       "</table>\n",
       "<p>4787 rows × 2 columns</p>\n",
       "</div>"
      ],
      "text/plain": [
       "     Unicode char\n",
       "0     U+0031    1\n",
       "1     U+0032    2\n",
       "2     U+0034    4\n",
       "3     U+0036    6\n",
       "4     U+0039    9\n",
       "...      ...  ...\n",
       "4782  U+FA5C    臭\n",
       "4783  U+FA65    贈\n",
       "4784  U+FA68    難\n",
       "4785  U+FF0D    －\n",
       "4786  U+FF2F    Ｏ\n",
       "\n",
       "[4787 rows x 2 columns]"
      ]
     },
     "execution_count": 5,
     "metadata": {},
     "output_type": "execute_result"
    }
   ],
   "source": [
    "unicodeData"
   ]
  },
  {
   "cell_type": "code",
   "execution_count": 6,
   "metadata": {},
   "outputs": [
    {
     "data": {
      "text/html": [
       "<div>\n",
       "<style scoped>\n",
       "    .dataframe tbody tr th:only-of-type {\n",
       "        vertical-align: middle;\n",
       "    }\n",
       "\n",
       "    .dataframe tbody tr th {\n",
       "        vertical-align: top;\n",
       "    }\n",
       "\n",
       "    .dataframe thead th {\n",
       "        text-align: right;\n",
       "    }\n",
       "</style>\n",
       "<table border=\"1\" class=\"dataframe\">\n",
       "  <thead>\n",
       "    <tr style=\"text-align: right;\">\n",
       "      <th></th>\n",
       "      <th>image_id</th>\n",
       "      <th>labels</th>\n",
       "    </tr>\n",
       "  </thead>\n",
       "  <tbody>\n",
       "    <tr>\n",
       "      <td>0</td>\n",
       "      <td>test_00145af3</td>\n",
       "      <td>U+003F 1 1 U+FF2F 2 2</td>\n",
       "    </tr>\n",
       "    <tr>\n",
       "      <td>1</td>\n",
       "      <td>test_001c37e2</td>\n",
       "      <td>U+003F 1 1 U+FF2F 2 2</td>\n",
       "    </tr>\n",
       "    <tr>\n",
       "      <td>2</td>\n",
       "      <td>test_003aa33a</td>\n",
       "      <td>U+003F 1 1 U+FF2F 2 2</td>\n",
       "    </tr>\n",
       "    <tr>\n",
       "      <td>3</td>\n",
       "      <td>test_00665e33</td>\n",
       "      <td>U+003F 1 1 U+FF2F 2 2</td>\n",
       "    </tr>\n",
       "    <tr>\n",
       "      <td>4</td>\n",
       "      <td>test_006964dc</td>\n",
       "      <td>U+003F 1 1 U+FF2F 2 2</td>\n",
       "    </tr>\n",
       "    <tr>\n",
       "      <td>...</td>\n",
       "      <td>...</td>\n",
       "      <td>...</td>\n",
       "    </tr>\n",
       "    <tr>\n",
       "      <td>4145</td>\n",
       "      <td>test_ffb1f141</td>\n",
       "      <td>U+003F 1 1 U+FF2F 2 2</td>\n",
       "    </tr>\n",
       "    <tr>\n",
       "      <td>4146</td>\n",
       "      <td>test_ffe0bb66</td>\n",
       "      <td>U+003F 1 1 U+FF2F 2 2</td>\n",
       "    </tr>\n",
       "    <tr>\n",
       "      <td>4147</td>\n",
       "      <td>test_fff039a9</td>\n",
       "      <td>U+003F 1 1 U+FF2F 2 2</td>\n",
       "    </tr>\n",
       "    <tr>\n",
       "      <td>4148</td>\n",
       "      <td>test_fff50dbc</td>\n",
       "      <td>U+003F 1 1 U+FF2F 2 2</td>\n",
       "    </tr>\n",
       "    <tr>\n",
       "      <td>4149</td>\n",
       "      <td>test_fff8c890</td>\n",
       "      <td>U+003F 1 1 U+FF2F 2 2</td>\n",
       "    </tr>\n",
       "  </tbody>\n",
       "</table>\n",
       "<p>4150 rows × 2 columns</p>\n",
       "</div>"
      ],
      "text/plain": [
       "           image_id                 labels\n",
       "0     test_00145af3  U+003F 1 1 U+FF2F 2 2\n",
       "1     test_001c37e2  U+003F 1 1 U+FF2F 2 2\n",
       "2     test_003aa33a  U+003F 1 1 U+FF2F 2 2\n",
       "3     test_00665e33  U+003F 1 1 U+FF2F 2 2\n",
       "4     test_006964dc  U+003F 1 1 U+FF2F 2 2\n",
       "...             ...                    ...\n",
       "4145  test_ffb1f141  U+003F 1 1 U+FF2F 2 2\n",
       "4146  test_ffe0bb66  U+003F 1 1 U+FF2F 2 2\n",
       "4147  test_fff039a9  U+003F 1 1 U+FF2F 2 2\n",
       "4148  test_fff50dbc  U+003F 1 1 U+FF2F 2 2\n",
       "4149  test_fff8c890  U+003F 1 1 U+FF2F 2 2\n",
       "\n",
       "[4150 rows x 2 columns]"
      ]
     },
     "execution_count": 6,
     "metadata": {},
     "output_type": "execute_result"
    }
   ],
   "source": [
    "sampleSubData"
   ]
  },
  {
   "cell_type": "code",
   "execution_count": 7,
   "metadata": {},
   "outputs": [
    {
     "name": "stdout",
     "output_type": "stream",
     "text": [
      "Progress: [####################] 100.0%\n"
     ]
    }
   ],
   "source": [
    "imTrainSize = []\n",
    "imTestSize = []\n",
    "nImage = trainData.shape[0] + sampleSubData.shape[0]\n",
    "\n",
    "print('Read train image')\n",
    "i=0\n",
    "for idImage in trainData['image_id']:\n",
    "    i+=1\n",
    "    update_progress(float(i)/float(nImage))\n",
    "    image = imageio.imread(dataRep+'train_images/'+idImage+'.jpg')\n",
    "    imTrainSize.append(image.shape)\n",
    "    del image\n",
    "    \n",
    "print('Read test image')\n",
    "for idImage in sampleSubData['image_id']:\n",
    "    i+=1\n",
    "    update_progress(float(i)/float(nImage))\n",
    "    image = imageio.imread(dataRep+'test_images/'+idImage+'.jpg')\n",
    "    imTestSize.append(image.shape)\n",
    "    del image"
   ]
  },
  {
   "cell_type": "code",
   "execution_count": 8,
   "metadata": {},
   "outputs": [
    {
     "name": "stdout",
     "output_type": "stream",
     "text": [
      "[3.062e+03 2.015e+03 3.000e+00] [3.24514919e+03 2.09767405e+03 3.00000000e+00] [503.98481351 357.46796458   0.        ] [4493 3248    3] [1933 1146    3]\n",
      "[3.274e+03 2.158e+03 3.000e+00] [3.34191012e+03 2.19625807e+03 3.00000000e+00] [430.9226519  286.05055102   0.        ] [5286 3442    3] [2353 1747    3]\n"
     ]
    }
   ],
   "source": [
    "print(np.median(imTrainSize,axis=0),np.mean(imTrainSize,axis=0),np.std(imTrainSize,axis=0),np.max(imTrainSize,axis=0),np.min(imTrainSize,axis=0))\n",
    "print(np.median(imTestSize,axis=0),np.mean(imTestSize,axis=0),np.std(imTestSize,axis=0),np.max(imTestSize,axis=0),np.min(imTestSize,axis=0))"
   ]
  },
  {
   "cell_type": "code",
   "execution_count": 9,
   "metadata": {},
   "outputs": [],
   "source": [
    "ratioTrain = []\n",
    "ratioTest = []\n",
    "\n",
    "for i in range(len(imTrainSize)):\n",
    "    ratioTrain.append(imTrainSize[i][0]/imTrainSize[i][1])\n",
    "for i in range(len(imTestSize)):\n",
    "    ratioTest.append(imTestSize[i][0]/imTestSize[i][1])"
   ]
  },
  {
   "cell_type": "code",
   "execution_count": 10,
   "metadata": {},
   "outputs": [
    {
     "name": "stdout",
     "output_type": "stream",
     "text": [
      "1.5611510791366907 1.5589673275830938 0.14356525749487917 2.2958115183246073 0.6557881773399015\n",
      "1.5144844745864727 1.523248398832494 0.06572724008861697 1.706803455723542 1.3116022099447513\n"
     ]
    }
   ],
   "source": [
    "print(np.median(ratioTrain), np.mean(ratioTrain), np.std(ratioTrain), np.max(ratioTrain), np.min(ratioTrain))\n",
    "print(np.median(ratioTest), np.mean(ratioTest), np.std(ratioTest), np.max(ratioTest), np.min(ratioTest))"
   ]
  },
  {
   "cell_type": "code",
   "execution_count": 11,
   "metadata": {},
   "outputs": [
    {
     "name": "stdout",
     "output_type": "stream",
     "text": [
      "Progress: [####################] 100.0%\n"
     ]
    }
   ],
   "source": [
    "nImage = trainData.shape[0]\n",
    "#nImage = 10\n",
    "labelTrainSize = []\n",
    "caracHeigtTrainSize = []\n",
    "caracWidthTrainSize = []\n",
    "caracList = []\n",
    "\n",
    "print('Read train image')\n",
    "for k in range(0, nImage):\n",
    "    time.sleep(0.001)\n",
    "    update_progress(float(k+1)/float(nImage))\n",
    "    label = trainData['labels'].iloc[k]\n",
    "    if(isinstance(label, float)):\n",
    "        labelTrainSize.append(0)\n",
    "    else:\n",
    "        labelS = label.split()\n",
    "        labelTrainSize.append(int(len(labelS)/5))\n",
    "        for j in range(0, 5*labelTrainSize[-1], 5):\n",
    "            caracList.append(labelS[j])\n",
    "            caracWidthTrainSize.append(int(labelS[j+3]))\n",
    "            caracHeigtTrainSize.append(int(labelS[j+4]))"
   ]
  },
  {
   "cell_type": "code",
   "execution_count": 12,
   "metadata": {},
   "outputs": [
    {
     "name": "stdout",
     "output_type": "stream",
     "text": [
      "183.0 176.1051275444473 99.78276469854036 614 0\n"
     ]
    }
   ],
   "source": [
    "print(np.median(labelTrainSize),np.mean(labelTrainSize),np.std(labelTrainSize),np.max(labelTrainSize),np.min(labelTrainSize))"
   ]
  },
  {
   "cell_type": "code",
   "execution_count": 13,
   "metadata": {},
   "outputs": [
    {
     "name": "stdout",
     "output_type": "stream",
     "text": [
      "77.0 77.20407804946566 30.46309149152613 520 6\n"
     ]
    }
   ],
   "source": [
    "print(np.median(caracWidthTrainSize),np.mean(caracWidthTrainSize),np.std(caracWidthTrainSize),np.max(caracWidthTrainSize),np.min(caracWidthTrainSize))"
   ]
  },
  {
   "cell_type": "code",
   "execution_count": 14,
   "metadata": {},
   "outputs": [
    {
     "name": "stdout",
     "output_type": "stream",
     "text": [
      "91.0 94.93389556728664 34.49913689659226 993 5\n"
     ]
    }
   ],
   "source": [
    "print(np.median(caracHeigtTrainSize),np.mean(caracHeigtTrainSize),np.std(caracHeigtTrainSize),np.max(caracHeigtTrainSize),np.min(caracHeigtTrainSize))"
   ]
  },
  {
   "cell_type": "code",
   "execution_count": 15,
   "metadata": {},
   "outputs": [
    {
     "name": "stdout",
     "output_type": "stream",
     "text": [
      "683464 683464\n"
     ]
    }
   ],
   "source": [
    "print(np.sum(labelTrainSize), len(caracHeigtTrainSize))"
   ]
  },
  {
   "cell_type": "code",
   "execution_count": 16,
   "metadata": {},
   "outputs": [
    {
     "data": {
      "text/plain": [
       "4787"
      ]
     },
     "execution_count": 16,
     "metadata": {},
     "output_type": "execute_result"
    }
   ],
   "source": [
    "len(unicodeData)"
   ]
  },
  {
   "cell_type": "code",
   "execution_count": 17,
   "metadata": {},
   "outputs": [
    {
     "name": "stdout",
     "output_type": "stream",
     "text": [
      "(4212,) 683464\n",
      "9.0 162.26590693257359 1106.3439473185256 24685 1\n",
      "['U+003F' 'U+2000B' 'U+20D45' ... 'U+FA68' 'U+FF0D' 'U+FF2F'] [1 9 9 ... 7 1 1]\n",
      "      Unicode char\n",
      "5      U+003F    ?\n",
      "6     U+2000B    𠀋\n",
      "7     U+20D45    𠵅\n",
      "8     U+2123D    𡈽\n",
      "9     U+22999    𢦙\n",
      "...       ...  ...\n",
      "4782   U+FA5C    臭\n",
      "4783   U+FA65    贈\n",
      "4784   U+FA68    難\n",
      "4785   U+FF0D    －\n",
      "4786   U+FF2F    Ｏ\n",
      "\n",
      "[4212 rows x 2 columns]\n"
     ]
    }
   ],
   "source": [
    "unique, count = np.unique(caracList, return_counts=True)\n",
    "print(unique.shape, len(caracList))\n",
    "print(np.median(count), np.mean(count), np.std(count), np.max(count), np.min(count))\n",
    "print(unique, count)\n",
    "print(unicodeData[unicodeData['Unicode'].isin(unique)])"
   ]
  },
  {
   "cell_type": "code",
   "execution_count": 18,
   "metadata": {},
   "outputs": [
    {
     "data": {
      "text/plain": [
       "(array([    1,     2,     3,     4,     5,     6,     7,     8,     9,\n",
       "           10,    11,    12,    13,    14,    15,    16,    17,    18,\n",
       "           19,    20,    21,    22,    23,    24,    25,    26,    27,\n",
       "           28,    29,    30,    31,    32,    33,    34,    35,    36,\n",
       "           37,    38,    39,    40,    41,    42,    43,    44,    45,\n",
       "           46,    47,    48,    49,    50,    51,    52,    53,    54,\n",
       "           55,    56,    57,    58,    59,    60,    61,    62,    63,\n",
       "           64,    65,    66,    67,    68,    69,    70,    71,    72,\n",
       "           73,    74,    75,    76,    77,    78,    79,    80,    81,\n",
       "           82,    83,    84,    85,    86,    87,    88,    89,    90,\n",
       "           91,    92,    93,    94,    95,    96,    97,    98,    99,\n",
       "          100,   101,   102,   103,   104,   105,   106,   107,   108,\n",
       "          109,   110,   111,   112,   113,   114,   115,   116,   117,\n",
       "          118,   119,   120,   121,   122,   123,   124,   125,   126,\n",
       "          127,   128,   129,   130,   131,   132,   133,   134,   135,\n",
       "          136,   137,   138,   139,   140,   141,   142,   143,   144,\n",
       "          145,   146,   147,   148,   149,   150,   151,   152,   154,\n",
       "          155,   157,   158,   159,   160,   161,   162,   164,   165,\n",
       "          166,   167,   168,   169,   170,   171,   172,   173,   174,\n",
       "          175,   176,   178,   180,   181,   182,   183,   184,   185,\n",
       "          186,   187,   188,   189,   190,   191,   194,   195,   196,\n",
       "          197,   199,   200,   201,   203,   204,   205,   207,   209,\n",
       "          210,   211,   212,   213,   214,   215,   216,   217,   218,\n",
       "          219,   220,   221,   222,   223,   224,   225,   226,   228,\n",
       "          230,   231,   234,   235,   237,   238,   239,   241,   245,\n",
       "          246,   248,   250,   254,   255,   256,   259,   260,   262,\n",
       "          264,   265,   266,   269,   270,   271,   272,   273,   274,\n",
       "          275,   276,   277,   278,   279,   281,   284,   287,   289,\n",
       "          290,   292,   295,   296,   298,   299,   302,   303,   305,\n",
       "          306,   312,   316,   317,   318,   323,   325,   326,   327,\n",
       "          330,   331,   333,   334,   339,   340,   341,   343,   344,\n",
       "          346,   348,   350,   355,   356,   357,   359,   364,   373,\n",
       "          390,   395,   396,   398,   400,   401,   402,   403,   404,\n",
       "          408,   409,   413,   414,   417,   420,   423,   424,   427,\n",
       "          428,   440,   443,   449,   457,   459,   460,   462,   463,\n",
       "          469,   470,   480,   481,   482,   491,   492,   494,   496,\n",
       "          499,   507,   509,   511,   515,   524,   530,   540,   542,\n",
       "          543,   547,   553,   554,   559,   564,   565,   569,   570,\n",
       "          575,   580,   582,   591,   592,   601,   602,   603,   604,\n",
       "          610,   611,   619,   621,   625,   632,   633,   637,   638,\n",
       "          639,   641,   659,   660,   684,   697,   703,   705,   707,\n",
       "          744,   747,   756,   757,   770,   774,   786,   789,   795,\n",
       "          799,   808,   816,   817,   830,   833,   848,   859,   864,\n",
       "          871,   899,   918,   931,   932,   951,   963,   980,  1025,\n",
       "         1033,  1044,  1045,  1056,  1075,  1077,  1095,  1109,  1112,\n",
       "         1127,  1131,  1132,  1136,  1162,  1167,  1224,  1236,  1242,\n",
       "         1266,  1272,  1316,  1347,  1357,  1371,  1381,  1385,  1415,\n",
       "         1489,  1509,  1576,  1580,  1595,  1604,  1732,  1810,  1819,\n",
       "         1836,  1838,  1884,  1885,  1966,  1978,  2060,  2080,  2115,\n",
       "         2285,  2341,  2418,  2438,  2494,  2511,  2545,  2566,  2723,\n",
       "         3005,  3094,  3114,  3161,  3190,  3326,  3742,  3865,  3963,\n",
       "         4224,  4414,  5389,  5665,  5953,  6141,  6185,  6592,  6725,\n",
       "         6740,  6994,  7052,  7076,  7089,  7144,  7686,  8075,  8168,\n",
       "         9167,  9973, 10089, 11617, 11903, 12325, 13750, 14184, 14342,\n",
       "        14759, 15743, 16588, 20569, 22209, 24136, 24685]),\n",
       " array([790, 395, 248, 208, 152, 111,  97, 101,  81,  90,  61,  52,  54,\n",
       "         57,  41,  32,  24,  41,  23,  34,  38,  33,  29,  28,  25,  31,\n",
       "         18,  23,  20,  21,  22,  22,  16,  14,  17,   8,  12,  14,  18,\n",
       "         12,  11,  15,  16,  12,  13,  15,  12,   9,  10,   9,  10,  15,\n",
       "         19,  13,  16,   7,   6,   8,  14,  10,  10,   7,   7,  12,  12,\n",
       "          9,   5,   9,   7,   8,   6,   4,   6,   8,   6,  13,   3,   6,\n",
       "          5,  11,   2,   5,   5,   4,   4,   9,   5,   3,   6,   3,   5,\n",
       "          3,   4,   2,   7,   5,   2,   3,   1,   6,   8,   2,  10,   6,\n",
       "          3,   6,   2,   3,   8,   4,   5,   2,   5,   4,   3,   6,   4,\n",
       "          3,   4,   2,   2,   2,   3,   6,   5,   6,   2,   5,   5,   3,\n",
       "          3,   5,   4,   3,   3,   2,   1,   3,   2,   1,   3,   4,   1,\n",
       "          2,   1,   2,   2,   1,   2,   1,   2,   4,   3,   2,   1,   2,\n",
       "          3,   1,   1,   3,   1,   1,   2,   3,   1,   3,   4,   2,   1,\n",
       "          2,   1,   5,   2,   2,   3,   1,   6,   1,   3,   2,   1,   1,\n",
       "          4,   3,   5,   1,   1,   1,   2,   1,   2,   4,   1,   3,   1,\n",
       "          2,   1,   1,   1,   2,   1,   2,   2,   4,   3,   1,   1,   2,\n",
       "          2,   1,   1,   1,   1,   1,   1,   1,   2,   1,   2,   1,   3,\n",
       "          1,   1,   1,   1,   2,   2,   1,   1,   1,   2,   1,   4,   1,\n",
       "          1,   1,   1,   1,   1,   1,   1,   1,   1,   1,   1,   1,   1,\n",
       "          3,   1,   1,   1,   2,   1,   2,   3,   1,   2,   2,   1,   1,\n",
       "          2,   1,   1,   2,   1,   1,   1,   2,   1,   1,   1,   1,   2,\n",
       "          1,   1,   1,   3,   1,   2,   1,   1,   1,   1,   1,   2,   1,\n",
       "          1,   2,   1,   1,   1,   1,   1,   1,   1,   1,   1,   1,   1,\n",
       "          1,   1,   1,   1,   2,   2,   1,   1,   1,   1,   1,   1,   1,\n",
       "          1,   1,   2,   1,   1,   1,   1,   1,   1,   1,   1,   1,   1,\n",
       "          2,   1,   1,   1,   1,   1,   1,   1,   2,   1,   1,   1,   1,\n",
       "          1,   3,   1,   1,   1,   1,   1,   1,   1,   1,   1,   1,   2,\n",
       "          1,   2,   1,   1,   1,   1,   1,   2,   1,   1,   1,   1,   1,\n",
       "          1,   1,   1,   1,   1,   1,   1,   1,   1,   1,   1,   1,   1,\n",
       "          1,   1,   1,   1,   1,   1,   1,   1,   1,   1,   1,   1,   1,\n",
       "          1,   1,   1,   1,   1,   1,   1,   1,   1,   1,   1,   1,   2,\n",
       "          1,   1,   1,   1,   1,   1,   1,   1,   1,   1,   1,   1,   1,\n",
       "          1,   1,   1,   1,   1,   1,   1,   1,   1,   1,   1,   1,   1,\n",
       "          1,   1,   1,   1,   1,   1,   1,   1,   1,   1,   1,   1,   1,\n",
       "          1,   1,   1,   1,   1,   1,   1,   1,   1,   1,   1,   1,   1,\n",
       "          1,   1,   1,   1,   1,   1,   1,   1,   1,   1,   1,   1,   1,\n",
       "          1,   1,   1,   1,   1,   1,   1,   1,   1,   1,   1,   1,   1,\n",
       "          1,   1,   1,   1,   1,   1,   1,   1,   1,   1,   1,   1]))"
      ]
     },
     "execution_count": 18,
     "metadata": {},
     "output_type": "execute_result"
    }
   ],
   "source": [
    "np.unique(count, return_counts=True)"
   ]
  },
  {
   "cell_type": "code",
   "execution_count": null,
   "metadata": {},
   "outputs": [],
   "source": []
  }
 ],
 "metadata": {
  "kernelspec": {
   "display_name": "Python 3",
   "language": "python",
   "name": "python3"
  },
  "language_info": {
   "codemirror_mode": {
    "name": "ipython",
    "version": 3
   },
   "file_extension": ".py",
   "mimetype": "text/x-python",
   "name": "python",
   "nbconvert_exporter": "python",
   "pygments_lexer": "ipython3",
   "version": "3.7.3"
  }
 },
 "nbformat": 4,
 "nbformat_minor": 4
}
