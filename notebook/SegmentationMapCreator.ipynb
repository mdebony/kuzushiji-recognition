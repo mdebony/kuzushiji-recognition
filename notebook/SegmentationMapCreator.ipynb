{
 "cells": [
  {
   "cell_type": "code",
   "execution_count": 1,
   "metadata": {},
   "outputs": [],
   "source": [
    "from PIL import Image\n",
    "import os\n",
    "import pandas as pd\n",
    "import numpy as np\n",
    "import matplotlib.pyplot as plt\n",
    "import random\n",
    "\n",
    "dataRep = '../data/'\n",
    "datasetRep = '../data/dataset/'\n",
    "trainImageRep = '../data/train_images/'\n",
    "scriptRep = '../'\n",
    "\n",
    "#Import the scripts\n",
    "import sys\n",
    "sys.path.insert(1, os.path.abspath(scriptRep))\n",
    "import kuzushiji_recognition as kr\n",
    "\n",
    "unicodeData = pd.read_csv(dataRep+'unicode_translation.csv')\n",
    "trainData = pd.read_csv(dataRep+'train.csv')\n",
    "sampleSubData = pd.read_csv(dataRep+'sample_submission.csv')"
   ]
  },
  {
   "cell_type": "code",
   "execution_count": 2,
   "metadata": {},
   "outputs": [],
   "source": [
    "#Parameters Cell\n",
    "\n",
    "nbImageTrain = 100\n",
    "xpixel = 512\n",
    "ypixel = 512\n",
    "minSize=32\n",
    "fill_color=(255, 255, 255)"
   ]
  },
  {
   "cell_type": "code",
   "execution_count": 3,
   "metadata": {},
   "outputs": [],
   "source": [
    "#Creation of the dataset\n",
    "\n",
    "imagesId = trainData.image_id.tolist()\n",
    "labels = trainData.labels.tolist()\n",
    "poulpe = list(zip(imagesId,labels))\n",
    "#print(imagesId)\n",
    "imageTrain = random.choices(poulpe, weights=None, cum_weights=None, k=nbImageTrain)\n",
    "trainImagesId, trainLabel = list(zip(*imageTrain))\n",
    "#print(trainImagesId[0])"
   ]
  },
  {
   "cell_type": "code",
   "execution_count": null,
   "metadata": {},
   "outputs": [],
   "source": [
    "#Creation of the training segmentation maps\n",
    "segMaps = np.zeros((nbImageTrain, xpixel, ypixel, 2))\n",
    "\n",
    "for i in range(nbImageTrain):\n",
    "    Im = Image.open(trainImageRep + trainImagesId[i] + '.jpg')\n",
    "    xIm, yIm = Im.size\n",
    "    dB = kr.createCaracDatabase(trainLabel[i], unicodeData)\n",
    "    (dB1, dB2) = kr.separateDatabase(dB)\n",
    "    segMap1 = kr.createSegmentationMap(xIm, yIm, dB1)\n",
    "    segMap2 = kr.createSegmentationMap(xIm, yIm, dB2)\n",
    "    cSegMap1 = kr.convertImage(Image.fromarray(segMap1), xpixel, ypixel, gray=True, squared=True)\n",
    "    cSegMap2 = kr.convertImage(Image.fromarray(segMap2), xpixel, ypixel, gray=True, squared=True)\n",
    "    cSegMap1 = np.squeeze(np.delete(np.delete(np.array(cSegMap1), 0, axis=2), 0, axis=2))\n",
    "    cSegMap2 = np.squeeze(np.delete(np.delete(np.array(cSegMap2), 0, axis=2), 0, axis=2))\n",
    "    cSegMap = np.swapaxes(np.array([cSegMap1,cSegMap2],dtype=np.uint8), 0, 2)\n",
    "    segMaps[i] = cSegMap\n",
    "    \n",
    "#     fig = plt.figure(figsize=(20,20))\n",
    "#     ax = fig.subplots(2,2)\n",
    "#     ax1, ax2, ax3, ax4 = ax.ravel()\n",
    "#     ax1.imshow(segMap1)\n",
    "#     ax2.imshow(segMap2)\n",
    "#     ax3.imshow(cSegMap1)\n",
    "#     ax4.imshow(cSegMap2)\n",
    "#     plt.tight_layout()"
   ]
  },
  {
   "cell_type": "code",
   "execution_count": null,
   "metadata": {},
   "outputs": [],
   "source": [
    "#Creation of the U-Net for segmentation maps\n",
    "\n",
    "def createModelUNet(dropoutRate, convLayer, denseLayer):\n",
    "    inputs = Input(, name='input')\n",
    "    #1st Stage\n",
    "    conv1a = Conv2D(convLayer, (3, 3), activation='relu', name='conv1a')(inputs)\n",
    "    drop1a = SpatialDropout2D(dropoutRate, name='drop1a')(conv1a)\n",
    "    conv1b = Conv2D(convLayer, (3, 3), activation='relu', padding='same', name='conv1b')(drop1a)\n",
    "    drop1b = SpatialDropout2D(dropoutRate, name='drop1b')(conv1b)\n",
    "    pool1 = MaxPooling2D(pool_size=(2, 2), name='pool1')(drop1b)\n",
    "    \n",
    "    #2nd Stage\n",
    "    conv2a = Conv2D(convLayer*2, (3, 3), activation='relu', name='conv2a')(pool1)\n",
    "    drop2a = SpatialDropout2D(dropoutRate, name='drop2a')(conv2a)\n",
    "    conv2b = Conv2D(convLayer*2, (3, 3), activation='relu', name='conv2b')(drop2a)\n",
    "    drop2b = SpatialDropout2D(dropoutRate, name='drop2b')(conv2b)\n",
    "    pool2 = MaxPooling2D(pool_size=(2, 2), name='pool2')(drop2b)\n",
    "    \n",
    "    #3rd Stage\n",
    "    conv3a = Conv2D(convLayer*4, (3, 3), activation='relu', name='conv3a')(pool2)\n",
    "    drop3a = SpatialDropout2D(dropoutRate, name='drop3a')(conv3a)\n",
    "    conv3b = Conv2D(convLayer*4, (3, 3), activation='relu', name='conv3b')(drop3a)\n",
    "    drop3b = SpatialDropout2D(dropoutRate, name='drop3b')(conv3b)\n",
    "    pool3 = MaxPooling2D(pool_size=(2, 2), name='pool3')(drop3b)\n",
    "    \n",
    "    #4th Stage\n",
    "    conv4a = Conv2D(convLayer*8, (3, 3), activation='relu', name='conv4a')(pool3)\n",
    "    drop4a = SpatialDropout2D(dropoutRate, name='drop4a')(conv4a)\n",
    "    conv4b = Conv2D(convLayer*8, (3, 3), activation='relu', name='conv4b')(drop4a)\n",
    "    drop4b = SpatialDropout2D(dropoutRate, name='drop4b')(conv4b)\n",
    "    pool4 = MaxPooling2D(pool_size=(2, 2), name='pool4')(drop4b)\n",
    "    \n",
    "    #5th Stage\n",
    "    conv5a = Conv2D(convLayer*16, (3, 3), activation='relu', name='conv5a')(pool4)\n",
    "    drop5a = SpatialDropout2D(dropoutRate, name='drop5a')(conv5a)\n",
    "    conv5b = Conv2D(convLayer*16, (3, 3), activation='relu', name='conv5b')(drop5a)\n",
    "    drop5b = SpatialDropout2D(dropoutRate, name='drop5b')(conv5b)\n",
    "    \n",
    "    #6th Stage\n",
    "    up6 = Conv2DTranspose(convLayerr*8, (3, 3), activation='relu', name='conv6a')(drop5b)\n",
    "    merge6 = concatenate([drop4b, up6], axis=3, name='merge6')\n",
    "    conv6b = Conv2D(convLayer*8, (3, 3), activation='relu', name='conv6b')(merge6)\n",
    "    drop6b = SpatialDropout2D(dropoutRate, name='drop6b')(conv6b)\n",
    "    conv6c = Conv2D(convLayer*8, (3, 3), activation='relu', name='conv6c')(drop6b)\n",
    "    drop6c = SpatialDropout2D(dropoutRate, name='drop6c')(conv6c)\n",
    "    \n",
    "    #7th Stage\n",
    "    up7 = Conv2DTranspose(convLayer*4, (3, 3), activation='relu', name='conv7a')(drop6c)\n",
    "    merge7 = concatenate([drop3b, up7], axis=3, name='merge7')\n",
    "    conv7b = Conv2D(convLayer*4, (3, 3), activation='relu', name='conv7b')(merge7)\n",
    "    drop7b = SpatialDropout2D(dropoutRate, name='drop7b')(conv7b)\n",
    "    conv7c = Conv2D(convLayer*4, (3, 3), activation='relu', name='conv7c')(drop7b)\n",
    "    drop7c = SpatialDropout2D(dropoutRate, name='drop7c')(conv7c)\n",
    "    \n",
    "    #8th Stage\n",
    "    up8 = Conv2DTranspose(convLayerr*2, (3, 3), activation='relu', name='conv8a')(drop7c)\n",
    "    merge8 = concatenate([drop2b, up8], axis=3, name='merge8')\n",
    "    conv8b = Conv2D(convLayer*2, (3, 3), activation='relu', name='conv8b')(merge8)\n",
    "    drop8b = SpatialDropout2D(dropoutRate, name='drop8b')(conv8b)\n",
    "    conv8c = Conv2D(convLayer*2, (3, 3), activation='relu', name='conv8c')(drop8b)\n",
    "    drop8c = SpatialDropout2D(dropoutRate, name='drop8c')(conv8c)\n",
    "    \n",
    "    #9th Stage\n",
    "    up9 = Conv2DTranspose(convLayer, (3, 3), activation='relu', name='conv9a')(drop8c)\n",
    "    merge9 = concatenate([drop1b, up9], axis=3, name='merge9')\n",
    "    conv9b = Conv2D(convLayer, (3, 3), activation='relu', name='conv9b')(merge9)\n",
    "    drop9b = SpatialDropout2D(dropoutRate, name='drop9b')(conv9b)\n",
    "    conv9c = Conv2D(convLayer, (3, 3), activation='relu', name='conv9c')(drop9b)\n",
    "    drop9c = SpatialDropout2D(dropoutRate, name='drop9c')(conv9c)\n",
    "    \n",
    "    #10th Stage\n",
    "    conv10 = Conv2D(convLayer, (3, 3), activation='relu', name='conv10')(drop9c)\n",
    "    \n",
    "    Model(input=inputs, output=conv10)\n",
    "    \n",
    "    model.compile(optimizer = Adam(lr = 1e-4), loss = 'binary_crossentropy', metrics = ['accuracy'])\n",
    "    model.summary()\n",
    "    \n",
    "    return model"
   ]
  },
  {
   "cell_type": "code",
   "execution_count": null,
   "metadata": {},
   "outputs": [],
   "source": [
    "imgSeg3 = Image.new('L', (xpixel, ypixel), 255)\n",
    "plt.imshow(imgSeg3,cmap='bone',vmin=0, vmax=255)"
   ]
  },
  {
   "cell_type": "code",
   "execution_count": null,
   "metadata": {},
   "outputs": [],
   "source": [
    "unicodeData = pd.read_csv(dataRep+'unicode_translation.csv')\n",
    "kr.createCaracDatabase(trainLabel[0], unicodeData)"
   ]
  },
  {
   "cell_type": "code",
   "execution_count": null,
   "metadata": {},
   "outputs": [],
   "source": [
    "dB1"
   ]
  },
  {
   "cell_type": "code",
   "execution_count": null,
   "metadata": {},
   "outputs": [],
   "source": [
    "dB2"
   ]
  },
  {
   "cell_type": "code",
   "execution_count": null,
   "metadata": {},
   "outputs": [],
   "source": [
    "dB"
   ]
  },
  {
   "cell_type": "code",
   "execution_count": 10,
   "metadata": {},
   "outputs": [],
   "source": [
    "cSegMap1 = kr.convertImage(Image.fromarray(segMap1), xpixel, ypixel, gray=True, squared=True)\n",
    "cSegMap2 = kr.convertImage(Image.fromarray(segMap2), xpixel, ypixel, gray=True, squared=True)\n",
    "cSegMap1 = np.array(cSegMap1)\n",
    "cSegMap2 = np.array(cSegMap2)"
   ]
  },
  {
   "cell_type": "code",
   "execution_count": 11,
   "metadata": {},
   "outputs": [
    {
     "name": "stdout",
     "output_type": "stream",
     "text": [
      "(512, 512, 1, 2)\n"
     ]
    }
   ],
   "source": [
    "cSegMap1 = np.delete(np.delete(np.array(cSegMap1), 0, axis=2), 0, axis=2)\n",
    "cSegMap2 = np.delete(np.delete(np.array(cSegMap2), 0, axis=2), 0, axis=2)\n",
    "cSegMap = np.swapaxes(np.swapaxes(np.array([cSegMap1,cSegMap2],dtype=np.uint8), 0, 2), 2, 3)\n",
    "print(cSegMap.shape)"
   ]
  },
  {
   "cell_type": "code",
   "execution_count": null,
   "metadata": {},
   "outputs": [],
   "source": [
    "segMaps = np.zeros((nbImageTrain, xpixel, ypixel, 2))\n",
    "segMaps[0].shape\n"
   ]
  }
 ],
 "metadata": {
  "kernelspec": {
   "display_name": "Python 3",
   "language": "python",
   "name": "python3"
  },
  "language_info": {
   "codemirror_mode": {
    "name": "ipython",
    "version": 3
   },
   "file_extension": ".py",
   "mimetype": "text/x-python",
   "name": "python",
   "nbconvert_exporter": "python",
   "pygments_lexer": "ipython3",
   "version": "3.7.3"
  }
 },
 "nbformat": 4,
 "nbformat_minor": 4
}
