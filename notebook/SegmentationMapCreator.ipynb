{
 "cells": [
  {
   "cell_type": "code",
   "execution_count": 1,
   "metadata": {},
   "outputs": [],
   "source": [
    "from PIL import Image\n",
    "import os\n",
    "import pandas as pd\n",
    "import numpy as np\n",
    "import matplotlib.pyplot as plt\n",
    "import random\n",
    "\n",
    "dataRep = '../data/'\n",
    "datasetRep = '../data/dataset/'\n",
    "scriptRep = '../'\n",
    "\n",
    "#Import the scripts\n",
    "import sys\n",
    "sys.path.insert(1, os.path.abspath(scriptRep))\n",
    "import kuzushiji_recognition as kr\n",
    "\n",
    "unicodeData = pd.read_csv(dataRep+'unicode_translation.csv')\n",
    "trainData = pd.read_csv(dataRep+'train.csv')\n",
    "sampleSubData = pd.read_csv(dataRep+'sample_submission.csv')"
   ]
  },
  {
   "cell_type": "code",
   "execution_count": 2,
   "metadata": {},
   "outputs": [],
   "source": [
    "#Parameters Cell\n",
    "\n",
    "nbImageTrain = 500\n",
    "xpixel = 1024\n",
    "ypixel = 1024\n",
    "minSize=32\n",
    "fill_color=(255, 255, 255)"
   ]
  },
  {
   "cell_type": "code",
   "execution_count": 3,
   "metadata": {},
   "outputs": [],
   "source": [
    "#Creation of the dataset\n",
    "\n",
    "imagesId = trainData.image_id.tolist()\n",
    "labels = trainData.labels.tolist()\n",
    "poulpe = list(zip(imagesId,labels))\n",
    "#print(imagesId)\n",
    "imageTrain = random.choices(poulpe, weights=None, cum_weights=None, k=nbImageTrain)\n",
    "trainImagesId, trainLabel = list(zip(*imageTrain))\n",
    "#print(trainImagesId[0])"
   ]
  },
  {
   "cell_type": "code",
   "execution_count": 4,
   "metadata": {},
   "outputs": [],
   "source": [
    "def createSegmentationImage(imlist):\n",
    "    nImage = imageTrain.shape[0]\n",
    "    imgSeg = Image.new('RGB', (xpixel, ypixel), fill_color)\n",
    "    imgSeg1 = Image.new('L', (xpixel, ypixel), 255)\n",
    "    imgSeg2 = Image.new('L', (xpixel, ypixel), 255)\n",
    "    i=0\n",
    "    print('Convert train image')\n",
    "    print('\\n')\n",
    "    for idImage in imageTrain:\n",
    "        i+=1\n",
    "        "
   ]
  },
  {
   "cell_type": "code",
   "execution_count": 5,
   "metadata": {},
   "outputs": [
    {
     "data": {
      "text/plain": [
       "<matplotlib.image.AxesImage at 0x1f781dbc978>"
      ]
     },
     "execution_count": 5,
     "metadata": {},
     "output_type": "execute_result"
    },
    {
     "data": {
      "image/png": "[encoded data removed]",
      "text/plain": [
       "<Figure size 432x288 with 1 Axes>"
      ]
     },
     "metadata": {
      "needs_background": "light"
     },
     "output_type": "display_data"
    }
   ],
   "source": [
    "imgSeg3 = Image.new('L', (xpixel, ypixel), 255)\n",
    "plt.imshow(imgSeg3,cmap='bone',vmin=0, vmax=255)"
   ]
  },
  {
   "cell_type": "code",
   "execution_count": 6,
   "metadata": {},
   "outputs": [
    {
     "data": {
      "text/html": [
       "<div>\n",
       "<style scoped>\n",
       "    .dataframe tbody tr th:only-of-type {\n",
       "        vertical-align: middle;\n",
       "    }\n",
       "\n",
       "    .dataframe tbody tr th {\n",
       "        vertical-align: top;\n",
       "    }\n",
       "\n",
       "    .dataframe thead th {\n",
       "        text-align: right;\n",
       "    }\n",
       "</style>\n",
       "<table border=\"1\" class=\"dataframe\">\n",
       "  <thead>\n",
       "    <tr style=\"text-align: right;\">\n",
       "      <th></th>\n",
       "      <th>caracter</th>\n",
       "      <th>position</th>\n",
       "      <th>size</th>\n",
       "    </tr>\n",
       "  </thead>\n",
       "  <tbody>\n",
       "    <tr>\n",
       "      <td>0</td>\n",
       "      <td>ゝ</td>\n",
       "      <td>(1186, 376)</td>\n",
       "      <td>(26, 40)</td>\n",
       "    </tr>\n",
       "    <tr>\n",
       "      <td>1</td>\n",
       "      <td>る</td>\n",
       "      <td>(250, 904)</td>\n",
       "      <td>(39, 41)</td>\n",
       "    </tr>\n",
       "    <tr>\n",
       "      <td>2</td>\n",
       "      <td>る</td>\n",
       "      <td>(217, 1811)</td>\n",
       "      <td>(35, 42)</td>\n",
       "    </tr>\n",
       "    <tr>\n",
       "      <td>3</td>\n",
       "      <td>ヾ</td>\n",
       "      <td>(407, 745)</td>\n",
       "      <td>(44, 44)</td>\n",
       "    </tr>\n",
       "    <tr>\n",
       "      <td>4</td>\n",
       "      <td>た</td>\n",
       "      <td>(1146, 1056)</td>\n",
       "      <td>(63, 46)</td>\n",
       "    </tr>\n",
       "    <tr>\n",
       "      <td>...</td>\n",
       "      <td>...</td>\n",
       "      <td>...</td>\n",
       "      <td>...</td>\n",
       "    </tr>\n",
       "    <tr>\n",
       "      <td>197</td>\n",
       "      <td>〱</td>\n",
       "      <td>(779, 1645)</td>\n",
       "      <td>(77, 141)</td>\n",
       "    </tr>\n",
       "    <tr>\n",
       "      <td>198</td>\n",
       "      <td>〱</td>\n",
       "      <td>(1543, 1161)</td>\n",
       "      <td>(54, 146)</td>\n",
       "    </tr>\n",
       "    <tr>\n",
       "      <td>199</td>\n",
       "      <td>逢</td>\n",
       "      <td>(738, 627)</td>\n",
       "      <td>(105, 147)</td>\n",
       "    </tr>\n",
       "    <tr>\n",
       "      <td>200</td>\n",
       "      <td>遠</td>\n",
       "      <td>(770, 984)</td>\n",
       "      <td>(62, 148)</td>\n",
       "    </tr>\n",
       "    <tr>\n",
       "      <td>201</td>\n",
       "      <td>年</td>\n",
       "      <td>(957, 543)</td>\n",
       "      <td>(68, 152)</td>\n",
       "    </tr>\n",
       "  </tbody>\n",
       "</table>\n",
       "<p>202 rows × 3 columns</p>\n",
       "</div>"
      ],
      "text/plain": [
       "    caracter      position        size\n",
       "0          ゝ   (1186, 376)    (26, 40)\n",
       "1          る    (250, 904)    (39, 41)\n",
       "2          る   (217, 1811)    (35, 42)\n",
       "3          ヾ    (407, 745)    (44, 44)\n",
       "4          た  (1146, 1056)    (63, 46)\n",
       "..       ...           ...         ...\n",
       "197        〱   (779, 1645)   (77, 141)\n",
       "198        〱  (1543, 1161)   (54, 146)\n",
       "199        逢    (738, 627)  (105, 147)\n",
       "200        遠    (770, 984)   (62, 148)\n",
       "201        年    (957, 543)   (68, 152)\n",
       "\n",
       "[202 rows x 3 columns]"
      ]
     },
     "execution_count": 6,
     "metadata": {},
     "output_type": "execute_result"
    }
   ],
   "source": [
    "unicodeData = pd.read_csv(dataRep+'unicode_translation.csv')\n",
    "kr.createCaracDatabase(unicodeData,trainLabel[0])"
   ]
  }
 ],
 "metadata": {
  "kernelspec": {
   "display_name": "Python 3",
   "language": "python",
   "name": "python3"
  },
  "language_info": {
   "codemirror_mode": {
    "name": "ipython",
    "version": 3
   },
   "file_extension": ".py",
   "mimetype": "text/x-python",
   "name": "python",
   "nbconvert_exporter": "python",
   "pygments_lexer": "ipython3",
   "version": "3.7.3"
  }
 },
 "nbformat": 4,
 "nbformat_minor": 2
}
