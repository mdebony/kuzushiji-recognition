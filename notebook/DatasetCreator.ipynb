{
 "cells": [
  {
   "cell_type": "code",
   "execution_count": 1,
   "metadata": {},
   "outputs": [],
   "source": [
    "from PIL import Image\n",
    "import pandas as pd\n",
    "import numpy as np\n",
    "\n",
    "dataRep = '../data/'\n",
    "datasetRep = '../data/dataset/'"
   ]
  },
  {
   "cell_type": "code",
   "execution_count": 2,
   "metadata": {},
   "outputs": [],
   "source": [
    "import time, sys\n",
    "from IPython.display import clear_output\n",
    "\n",
    "def update_progress(progress):\n",
    "    bar_length = 20\n",
    "    if isinstance(progress, int):\n",
    "        progress = float(progress)\n",
    "    if not isinstance(progress, float):\n",
    "        progress = 0\n",
    "    if progress < 0:\n",
    "        progress = 0\n",
    "    if progress >= 1:\n",
    "        progress = 1\n",
    "\n",
    "    block = int(round(bar_length * progress))\n",
    "\n",
    "    clear_output(wait = True)\n",
    "    text = \"Progress: [{0}] {1:.1f}%\".format( \"#\" * block + \"-\" * (bar_length - block), progress * 100)\n",
    "    print(text)"
   ]
  },
  {
   "cell_type": "code",
   "execution_count": 3,
   "metadata": {},
   "outputs": [],
   "source": [
    "def makeSquareImage(im, fill_color=(0, 0, 0)):\n",
    "    x, y = im.size\n",
    "    size = max(x, y)\n",
    "    new_im = Image.new('RGB', (size, size), fill_color)\n",
    "    new_im.paste(im, (int((size - x) / 2), int((size - y) / 2)))\n",
    "    return new_im\n",
    "\n",
    "def convertImage(image, xpixel=500, ypixel=500, gray=False):\n",
    "    #convert size\n",
    "    image.thumbnail([xpixel, ypixel], Image.LANCZOS)\n",
    "    image.convert('RGB')\n",
    "    image = makeSquareImage(image, fill_color=(255,255,255))\n",
    "    \n",
    "    #convert color\n",
    "    if gray:\n",
    "        image.convert('L')\n",
    "        \n",
    "    return image\n",
    "\n",
    "def createDataset(xpixel=500, ypixel=500, gray=False):\n",
    "    trainData = pd.read_csv(dataRep+'train.csv')\n",
    "    sampleSubData = pd.read_csv(dataRep+'sample_submission.csv')\n",
    "    nImage = trainData.shape[0] + sampleSubData.shape[0]\n",
    "    \n",
    "    i=0\n",
    "    print('Convert train image')\n",
    "    print('\\n')\n",
    "    for idImage in trainData['image_id']:\n",
    "        i+=1\n",
    "        update_progress(float(i)/float(nImage))\n",
    "        image = Image.open(dataRep+'train_images/'+idImage+'.jpg')\n",
    "        image = convertImage(image,xpixel, ypixel, gray)\n",
    "        image.save(datasetRep+'train/'+idImage+'.jpg')\n",
    "\n",
    "    print('Convert test image')\n",
    "    print('\\n')\n",
    "    for idImage in sampleSubData['image_id']:\n",
    "        i+=1\n",
    "        update_progress(float(i)/float(nImage))\n",
    "        image = Image.open(dataRep+'test_images/'+idImage+'.jpg')\n",
    "        image = convertImage(image,xpixel, ypixel, gray)\n",
    "        image.save(datasetRep+'submission/'+idImage+'.jpg')\n",
    "        \n",
    "        "
   ]
  },
  {
   "cell_type": "code",
   "execution_count": 4,
   "metadata": {},
   "outputs": [
    {
     "name": "stdout",
     "output_type": "stream",
     "text": [
      "Progress: [####################] 100.0%\n"
     ]
    }
   ],
   "source": [
    "createDataset()"
   ]
  },
  {
   "cell_type": "code",
   "execution_count": null,
   "metadata": {},
   "outputs": [],
   "source": []
  },
  {
   "cell_type": "code",
   "execution_count": null,
   "metadata": {},
   "outputs": [],
   "source": []
  }
 ],
 "metadata": {
  "kernelspec": {
   "display_name": "Python 3",
   "language": "python",
   "name": "python3"
  },
  "language_info": {
   "codemirror_mode": {
    "name": "ipython",
    "version": 3
   },
   "file_extension": ".py",
   "mimetype": "text/x-python",
   "name": "python",
   "nbconvert_exporter": "python",
   "pygments_lexer": "ipython3",
   "version": "3.7.3"
  }
 },
 "nbformat": 4,
 "nbformat_minor": 4
}
