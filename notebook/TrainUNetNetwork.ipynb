{
 "cells": [
  {
   "cell_type": "code",
   "execution_count": 5,
   "metadata": {},
   "outputs": [],
   "source": [
    "from tensorflow import keras\n",
    "import numpy as np\n",
    "import pandas as pd\n",
    "import random\n",
    "import os\n",
    "\n",
    "dataRep = '../data/'\n",
    "datasetRep = '../data/dataset/'\n",
    "trainImageRep = '../data/train_images/'\n",
    "scriptRep = '../'\n",
    "\n",
    "#Import the scripts\n",
    "import sys\n",
    "sys.path.insert(1, os.path.abspath(scriptRep))\n",
    "import kuzushiji_recognition as kr\n",
    "\n",
    "unicodeData = pd.read_csv(dataRep+'unicode_translation.csv')\n",
    "trainData = pd.read_csv(dataRep+'train.csv')\n",
    "sampleSubData = pd.read_csv(dataRep+'sample_submission.csv')"
   ]
  },
  {
   "cell_type": "code",
   "execution_count": 6,
   "metadata": {},
   "outputs": [
    {
     "name": "stdout",
     "output_type": "stream",
     "text": [
      "3881 (512, 512, 1) 2716 3298\n"
     ]
    }
   ],
   "source": [
    "testFrac = 0.15\n",
    "valFrac = 0.15\n",
    "\n",
    "unicodeData = pd.read_csv(dataRep+'unicode_translation.csv')\n",
    "\n",
    "raw = np.load(datasetRep + 'SegmentationMapsFull.npz')\n",
    "image = raw['compressed_images'].copy()\n",
    "maps = raw['maps'].copy()\n",
    "del raw\n",
    "\n",
    "index = np.arange(image.shape[0])\n",
    "np.random.shuffle(index)\n",
    "image = (image[index].astype(np.float16)/255.0)\n",
    "maps = (maps[index].astype(np.float16)/255.0)\n",
    "del index\n",
    "\n",
    "nTest = int(image.shape[0]*(1.-testFrac))\n",
    "nVal = int(image.shape[0]*(1.-testFrac-valFrac))\n",
    "print(image.shape[0], image.shape[1:], nVal, nTest)"
   ]
  },
  {
   "cell_type": "code",
   "execution_count": null,
   "metadata": {},
   "outputs": [],
   "source": [
    "import platform\n",
    "platform.architecture()"
   ]
  },
  {
   "cell_type": "code",
   "execution_count": null,
   "metadata": {},
   "outputs": [],
   "source": [
    "is_64bits = sys.maxsize > 2**32\n",
    "is_64bits"
   ]
  },
  {
   "cell_type": "code",
   "execution_count": null,
   "metadata": {},
   "outputs": [],
   "source": [
    "import numpy as np\n",
    "a = (np.random.random((4000,512,512,1))*255).astype(np.uint8).astype(np.float16)"
   ]
  },
  {
   "cell_type": "code",
   "execution_count": null,
   "metadata": {},
   "outputs": [],
   "source": [
    "import sys\n",
    "print(sys.maxsize / 1e6)"
   ]
  }
 ],
 "metadata": {
  "kernelspec": {
   "display_name": "Python 3",
   "language": "python",
   "name": "python3"
  },
  "language_info": {
   "codemirror_mode": {
    "name": "ipython",
    "version": 3
   },
   "file_extension": ".py",
   "mimetype": "text/x-python",
   "name": "python",
   "nbconvert_exporter": "python",
   "pygments_lexer": "ipython3",
   "version": "3.7.3"
  }
 },
 "nbformat": 4,
 "nbformat_minor": 4
}
